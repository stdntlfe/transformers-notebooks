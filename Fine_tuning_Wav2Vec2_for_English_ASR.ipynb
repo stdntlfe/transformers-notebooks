{
  "nbformat": 4,
  "nbformat_minor": 0,
  "metadata": {
    "colab": {
      "name": "Fine-tuning Wav2Vec2 for English ASR",
      "provenance": [],
      "toc_visible": true,
      "machine_shape": "hm",
      "include_colab_link": true
    },
    "kernelspec": {
      "name": "python3",
      "display_name": "Python 3"
    },
    "accelerator": "GPU",
    "widgets": {
      "application/vnd.jupyter.widget-state+json": {
        "a7725ad7a1774178bba1b39b48bee36b": {
          "model_module": "@jupyter-widgets/controls",
          "model_name": "HBoxModel",
          "model_module_version": "1.5.0",
          "state": {
            "_dom_classes": [],
            "_model_module": "@jupyter-widgets/controls",
            "_model_module_version": "1.5.0",
            "_model_name": "HBoxModel",
            "_view_count": null,
            "_view_module": "@jupyter-widgets/controls",
            "_view_module_version": "1.5.0",
            "_view_name": "HBoxView",
            "box_style": "",
            "children": [
              "IPY_MODEL_acc6c975316f4fc9af3f449ccaf71646",
              "IPY_MODEL_2b48e3c58b284b32ae51a3c3afb13d85",
              "IPY_MODEL_7748d6bd4e224b3f836a06b321e72de0"
            ],
            "layout": "IPY_MODEL_b29aab47d701449181b8d8c715b09657"
          }
        },
        "acc6c975316f4fc9af3f449ccaf71646": {
          "model_module": "@jupyter-widgets/controls",
          "model_name": "HTMLModel",
          "model_module_version": "1.5.0",
          "state": {
            "_dom_classes": [],
            "_model_module": "@jupyter-widgets/controls",
            "_model_module_version": "1.5.0",
            "_model_name": "HTMLModel",
            "_view_count": null,
            "_view_module": "@jupyter-widgets/controls",
            "_view_module_version": "1.5.0",
            "_view_name": "HTMLView",
            "description": "",
            "description_tooltip": null,
            "layout": "IPY_MODEL_5cb2c62e3d6f426f8c17eec2fe6e23ae",
            "placeholder": "​",
            "style": "IPY_MODEL_f44a8453ba314ddbb153e1278eb59eec",
            "value": "Upload file pytorch_model.bin: 100%"
          }
        },
        "2b48e3c58b284b32ae51a3c3afb13d85": {
          "model_module": "@jupyter-widgets/controls",
          "model_name": "FloatProgressModel",
          "model_module_version": "1.5.0",
          "state": {
            "_dom_classes": [],
            "_model_module": "@jupyter-widgets/controls",
            "_model_module_version": "1.5.0",
            "_model_name": "FloatProgressModel",
            "_view_count": null,
            "_view_module": "@jupyter-widgets/controls",
            "_view_module_version": "1.5.0",
            "_view_name": "ProgressView",
            "bar_style": "success",
            "description": "",
            "description_tooltip": null,
            "layout": "IPY_MODEL_6ba56300bd3240629256a72060f36fde",
            "max": 377671575,
            "min": 0,
            "orientation": "horizontal",
            "style": "IPY_MODEL_d8f4c2ce266a4a9284572af28ad9ad1c",
            "value": 377671575
          }
        },
        "7748d6bd4e224b3f836a06b321e72de0": {
          "model_module": "@jupyter-widgets/controls",
          "model_name": "HTMLModel",
          "model_module_version": "1.5.0",
          "state": {
            "_dom_classes": [],
            "_model_module": "@jupyter-widgets/controls",
            "_model_module_version": "1.5.0",
            "_model_name": "HTMLModel",
            "_view_count": null,
            "_view_module": "@jupyter-widgets/controls",
            "_view_module_version": "1.5.0",
            "_view_name": "HTMLView",
            "description": "",
            "description_tooltip": null,
            "layout": "IPY_MODEL_4cdbe067372b4c32bc782f966aea7f42",
            "placeholder": "​",
            "style": "IPY_MODEL_afe17562ac7948edab0233eb3804d9cb",
            "value": " 360M/360M [05:26&lt;00:00, 735kB/s]"
          }
        },
        "b29aab47d701449181b8d8c715b09657": {
          "model_module": "@jupyter-widgets/base",
          "model_name": "LayoutModel",
          "model_module_version": "1.2.0",
          "state": {
            "_model_module": "@jupyter-widgets/base",
            "_model_module_version": "1.2.0",
            "_model_name": "LayoutModel",
            "_view_count": null,
            "_view_module": "@jupyter-widgets/base",
            "_view_module_version": "1.2.0",
            "_view_name": "LayoutView",
            "align_content": null,
            "align_items": null,
            "align_self": null,
            "border": null,
            "bottom": null,
            "display": null,
            "flex": null,
            "flex_flow": null,
            "grid_area": null,
            "grid_auto_columns": null,
            "grid_auto_flow": null,
            "grid_auto_rows": null,
            "grid_column": null,
            "grid_gap": null,
            "grid_row": null,
            "grid_template_areas": null,
            "grid_template_columns": null,
            "grid_template_rows": null,
            "height": null,
            "justify_content": null,
            "justify_items": null,
            "left": null,
            "margin": null,
            "max_height": null,
            "max_width": null,
            "min_height": null,
            "min_width": null,
            "object_fit": null,
            "object_position": null,
            "order": null,
            "overflow": null,
            "overflow_x": null,
            "overflow_y": null,
            "padding": null,
            "right": null,
            "top": null,
            "visibility": null,
            "width": null
          }
        },
        "5cb2c62e3d6f426f8c17eec2fe6e23ae": {
          "model_module": "@jupyter-widgets/base",
          "model_name": "LayoutModel",
          "model_module_version": "1.2.0",
          "state": {
            "_model_module": "@jupyter-widgets/base",
            "_model_module_version": "1.2.0",
            "_model_name": "LayoutModel",
            "_view_count": null,
            "_view_module": "@jupyter-widgets/base",
            "_view_module_version": "1.2.0",
            "_view_name": "LayoutView",
            "align_content": null,
            "align_items": null,
            "align_self": null,
            "border": null,
            "bottom": null,
            "display": null,
            "flex": null,
            "flex_flow": null,
            "grid_area": null,
            "grid_auto_columns": null,
            "grid_auto_flow": null,
            "grid_auto_rows": null,
            "grid_column": null,
            "grid_gap": null,
            "grid_row": null,
            "grid_template_areas": null,
            "grid_template_columns": null,
            "grid_template_rows": null,
            "height": null,
            "justify_content": null,
            "justify_items": null,
            "left": null,
            "margin": null,
            "max_height": null,
            "max_width": null,
            "min_height": null,
            "min_width": null,
            "object_fit": null,
            "object_position": null,
            "order": null,
            "overflow": null,
            "overflow_x": null,
            "overflow_y": null,
            "padding": null,
            "right": null,
            "top": null,
            "visibility": null,
            "width": null
          }
        },
        "f44a8453ba314ddbb153e1278eb59eec": {
          "model_module": "@jupyter-widgets/controls",
          "model_name": "DescriptionStyleModel",
          "model_module_version": "1.5.0",
          "state": {
            "_model_module": "@jupyter-widgets/controls",
            "_model_module_version": "1.5.0",
            "_model_name": "DescriptionStyleModel",
            "_view_count": null,
            "_view_module": "@jupyter-widgets/base",
            "_view_module_version": "1.2.0",
            "_view_name": "StyleView",
            "description_width": ""
          }
        },
        "6ba56300bd3240629256a72060f36fde": {
          "model_module": "@jupyter-widgets/base",
          "model_name": "LayoutModel",
          "model_module_version": "1.2.0",
          "state": {
            "_model_module": "@jupyter-widgets/base",
            "_model_module_version": "1.2.0",
            "_model_name": "LayoutModel",
            "_view_count": null,
            "_view_module": "@jupyter-widgets/base",
            "_view_module_version": "1.2.0",
            "_view_name": "LayoutView",
            "align_content": null,
            "align_items": null,
            "align_self": null,
            "border": null,
            "bottom": null,
            "display": null,
            "flex": null,
            "flex_flow": null,
            "grid_area": null,
            "grid_auto_columns": null,
            "grid_auto_flow": null,
            "grid_auto_rows": null,
            "grid_column": null,
            "grid_gap": null,
            "grid_row": null,
            "grid_template_areas": null,
            "grid_template_columns": null,
            "grid_template_rows": null,
            "height": null,
            "justify_content": null,
            "justify_items": null,
            "left": null,
            "margin": null,
            "max_height": null,
            "max_width": null,
            "min_height": null,
            "min_width": null,
            "object_fit": null,
            "object_position": null,
            "order": null,
            "overflow": null,
            "overflow_x": null,
            "overflow_y": null,
            "padding": null,
            "right": null,
            "top": null,
            "visibility": null,
            "width": null
          }
        },
        "d8f4c2ce266a4a9284572af28ad9ad1c": {
          "model_module": "@jupyter-widgets/controls",
          "model_name": "ProgressStyleModel",
          "model_module_version": "1.5.0",
          "state": {
            "_model_module": "@jupyter-widgets/controls",
            "_model_module_version": "1.5.0",
            "_model_name": "ProgressStyleModel",
            "_view_count": null,
            "_view_module": "@jupyter-widgets/base",
            "_view_module_version": "1.2.0",
            "_view_name": "StyleView",
            "bar_color": null,
            "description_width": ""
          }
        },
        "4cdbe067372b4c32bc782f966aea7f42": {
          "model_module": "@jupyter-widgets/base",
          "model_name": "LayoutModel",
          "model_module_version": "1.2.0",
          "state": {
            "_model_module": "@jupyter-widgets/base",
            "_model_module_version": "1.2.0",
            "_model_name": "LayoutModel",
            "_view_count": null,
            "_view_module": "@jupyter-widgets/base",
            "_view_module_version": "1.2.0",
            "_view_name": "LayoutView",
            "align_content": null,
            "align_items": null,
            "align_self": null,
            "border": null,
            "bottom": null,
            "display": null,
            "flex": null,
            "flex_flow": null,
            "grid_area": null,
            "grid_auto_columns": null,
            "grid_auto_flow": null,
            "grid_auto_rows": null,
            "grid_column": null,
            "grid_gap": null,
            "grid_row": null,
            "grid_template_areas": null,
            "grid_template_columns": null,
            "grid_template_rows": null,
            "height": null,
            "justify_content": null,
            "justify_items": null,
            "left": null,
            "margin": null,
            "max_height": null,
            "max_width": null,
            "min_height": null,
            "min_width": null,
            "object_fit": null,
            "object_position": null,
            "order": null,
            "overflow": null,
            "overflow_x": null,
            "overflow_y": null,
            "padding": null,
            "right": null,
            "top": null,
            "visibility": null,
            "width": null
          }
        },
        "afe17562ac7948edab0233eb3804d9cb": {
          "model_module": "@jupyter-widgets/controls",
          "model_name": "DescriptionStyleModel",
          "model_module_version": "1.5.0",
          "state": {
            "_model_module": "@jupyter-widgets/controls",
            "_model_module_version": "1.5.0",
            "_model_name": "DescriptionStyleModel",
            "_view_count": null,
            "_view_module": "@jupyter-widgets/base",
            "_view_module_version": "1.2.0",
            "_view_name": "StyleView",
            "description_width": ""
          }
        },
        "00a02ff8b284413f853da9d7c41afedd": {
          "model_module": "@jupyter-widgets/controls",
          "model_name": "HBoxModel",
          "model_module_version": "1.5.0",
          "state": {
            "_dom_classes": [],
            "_model_module": "@jupyter-widgets/controls",
            "_model_module_version": "1.5.0",
            "_model_name": "HBoxModel",
            "_view_count": null,
            "_view_module": "@jupyter-widgets/controls",
            "_view_module_version": "1.5.0",
            "_view_name": "HBoxView",
            "box_style": "",
            "children": [
              "IPY_MODEL_73b586087e9447e688c97318bf6eba11",
              "IPY_MODEL_6ba8f8fde3fc4050a304df11cc1d2c7c",
              "IPY_MODEL_0ceb294ca03a4bf2ae5586ffbbb6f0fc"
            ],
            "layout": "IPY_MODEL_ffa2bd3495f54f1c81f15ebf50fd4fee"
          }
        },
        "73b586087e9447e688c97318bf6eba11": {
          "model_module": "@jupyter-widgets/controls",
          "model_name": "HTMLModel",
          "model_module_version": "1.5.0",
          "state": {
            "_dom_classes": [],
            "_model_module": "@jupyter-widgets/controls",
            "_model_module_version": "1.5.0",
            "_model_name": "HTMLModel",
            "_view_count": null,
            "_view_module": "@jupyter-widgets/controls",
            "_view_module_version": "1.5.0",
            "_view_name": "HTMLView",
            "description": "",
            "description_tooltip": null,
            "layout": "IPY_MODEL_e53ec4e8ee3d44bb8b3bdcf323335c8a",
            "placeholder": "​",
            "style": "IPY_MODEL_ceef78fab0024c578976ad6c589c0d7f",
            "value": "Upload file runs/May10_11-02-51_d58de38fbf77/1652180636.6085317/events.out.tfevents.1652180636.d58de38fbf77.96.3: 100%"
          }
        },
        "6ba8f8fde3fc4050a304df11cc1d2c7c": {
          "model_module": "@jupyter-widgets/controls",
          "model_name": "FloatProgressModel",
          "model_module_version": "1.5.0",
          "state": {
            "_dom_classes": [],
            "_model_module": "@jupyter-widgets/controls",
            "_model_module_version": "1.5.0",
            "_model_name": "FloatProgressModel",
            "_view_count": null,
            "_view_module": "@jupyter-widgets/controls",
            "_view_module_version": "1.5.0",
            "_view_name": "ProgressView",
            "bar_style": "success",
            "description": "",
            "description_tooltip": null,
            "layout": "IPY_MODEL_35a9027e670146f3a25db0d06035fd1b",
            "max": 4825,
            "min": 0,
            "orientation": "horizontal",
            "style": "IPY_MODEL_0cd65792216b4decaf24961bb33802d0",
            "value": 4825
          }
        },
        "0ceb294ca03a4bf2ae5586ffbbb6f0fc": {
          "model_module": "@jupyter-widgets/controls",
          "model_name": "HTMLModel",
          "model_module_version": "1.5.0",
          "state": {
            "_dom_classes": [],
            "_model_module": "@jupyter-widgets/controls",
            "_model_module_version": "1.5.0",
            "_model_name": "HTMLModel",
            "_view_count": null,
            "_view_module": "@jupyter-widgets/controls",
            "_view_module_version": "1.5.0",
            "_view_name": "HTMLView",
            "description": "",
            "description_tooltip": null,
            "layout": "IPY_MODEL_968f456d45ab4f25aeaf57b0c0ddc190",
            "placeholder": "​",
            "style": "IPY_MODEL_92ae2ab85efc40fa89da650ccbe85e21",
            "value": " 4.71k/4.71k [05:26&lt;00:00, 13.9kB/s]"
          }
        },
        "ffa2bd3495f54f1c81f15ebf50fd4fee": {
          "model_module": "@jupyter-widgets/base",
          "model_name": "LayoutModel",
          "model_module_version": "1.2.0",
          "state": {
            "_model_module": "@jupyter-widgets/base",
            "_model_module_version": "1.2.0",
            "_model_name": "LayoutModel",
            "_view_count": null,
            "_view_module": "@jupyter-widgets/base",
            "_view_module_version": "1.2.0",
            "_view_name": "LayoutView",
            "align_content": null,
            "align_items": null,
            "align_self": null,
            "border": null,
            "bottom": null,
            "display": null,
            "flex": null,
            "flex_flow": null,
            "grid_area": null,
            "grid_auto_columns": null,
            "grid_auto_flow": null,
            "grid_auto_rows": null,
            "grid_column": null,
            "grid_gap": null,
            "grid_row": null,
            "grid_template_areas": null,
            "grid_template_columns": null,
            "grid_template_rows": null,
            "height": null,
            "justify_content": null,
            "justify_items": null,
            "left": null,
            "margin": null,
            "max_height": null,
            "max_width": null,
            "min_height": null,
            "min_width": null,
            "object_fit": null,
            "object_position": null,
            "order": null,
            "overflow": null,
            "overflow_x": null,
            "overflow_y": null,
            "padding": null,
            "right": null,
            "top": null,
            "visibility": null,
            "width": null
          }
        },
        "e53ec4e8ee3d44bb8b3bdcf323335c8a": {
          "model_module": "@jupyter-widgets/base",
          "model_name": "LayoutModel",
          "model_module_version": "1.2.0",
          "state": {
            "_model_module": "@jupyter-widgets/base",
            "_model_module_version": "1.2.0",
            "_model_name": "LayoutModel",
            "_view_count": null,
            "_view_module": "@jupyter-widgets/base",
            "_view_module_version": "1.2.0",
            "_view_name": "LayoutView",
            "align_content": null,
            "align_items": null,
            "align_self": null,
            "border": null,
            "bottom": null,
            "display": null,
            "flex": null,
            "flex_flow": null,
            "grid_area": null,
            "grid_auto_columns": null,
            "grid_auto_flow": null,
            "grid_auto_rows": null,
            "grid_column": null,
            "grid_gap": null,
            "grid_row": null,
            "grid_template_areas": null,
            "grid_template_columns": null,
            "grid_template_rows": null,
            "height": null,
            "justify_content": null,
            "justify_items": null,
            "left": null,
            "margin": null,
            "max_height": null,
            "max_width": null,
            "min_height": null,
            "min_width": null,
            "object_fit": null,
            "object_position": null,
            "order": null,
            "overflow": null,
            "overflow_x": null,
            "overflow_y": null,
            "padding": null,
            "right": null,
            "top": null,
            "visibility": null,
            "width": null
          }
        },
        "ceef78fab0024c578976ad6c589c0d7f": {
          "model_module": "@jupyter-widgets/controls",
          "model_name": "DescriptionStyleModel",
          "model_module_version": "1.5.0",
          "state": {
            "_model_module": "@jupyter-widgets/controls",
            "_model_module_version": "1.5.0",
            "_model_name": "DescriptionStyleModel",
            "_view_count": null,
            "_view_module": "@jupyter-widgets/base",
            "_view_module_version": "1.2.0",
            "_view_name": "StyleView",
            "description_width": ""
          }
        },
        "35a9027e670146f3a25db0d06035fd1b": {
          "model_module": "@jupyter-widgets/base",
          "model_name": "LayoutModel",
          "model_module_version": "1.2.0",
          "state": {
            "_model_module": "@jupyter-widgets/base",
            "_model_module_version": "1.2.0",
            "_model_name": "LayoutModel",
            "_view_count": null,
            "_view_module": "@jupyter-widgets/base",
            "_view_module_version": "1.2.0",
            "_view_name": "LayoutView",
            "align_content": null,
            "align_items": null,
            "align_self": null,
            "border": null,
            "bottom": null,
            "display": null,
            "flex": null,
            "flex_flow": null,
            "grid_area": null,
            "grid_auto_columns": null,
            "grid_auto_flow": null,
            "grid_auto_rows": null,
            "grid_column": null,
            "grid_gap": null,
            "grid_row": null,
            "grid_template_areas": null,
            "grid_template_columns": null,
            "grid_template_rows": null,
            "height": null,
            "justify_content": null,
            "justify_items": null,
            "left": null,
            "margin": null,
            "max_height": null,
            "max_width": null,
            "min_height": null,
            "min_width": null,
            "object_fit": null,
            "object_position": null,
            "order": null,
            "overflow": null,
            "overflow_x": null,
            "overflow_y": null,
            "padding": null,
            "right": null,
            "top": null,
            "visibility": null,
            "width": null
          }
        },
        "0cd65792216b4decaf24961bb33802d0": {
          "model_module": "@jupyter-widgets/controls",
          "model_name": "ProgressStyleModel",
          "model_module_version": "1.5.0",
          "state": {
            "_model_module": "@jupyter-widgets/controls",
            "_model_module_version": "1.5.0",
            "_model_name": "ProgressStyleModel",
            "_view_count": null,
            "_view_module": "@jupyter-widgets/base",
            "_view_module_version": "1.2.0",
            "_view_name": "StyleView",
            "bar_color": null,
            "description_width": ""
          }
        },
        "968f456d45ab4f25aeaf57b0c0ddc190": {
          "model_module": "@jupyter-widgets/base",
          "model_name": "LayoutModel",
          "model_module_version": "1.2.0",
          "state": {
            "_model_module": "@jupyter-widgets/base",
            "_model_module_version": "1.2.0",
            "_model_name": "LayoutModel",
            "_view_count": null,
            "_view_module": "@jupyter-widgets/base",
            "_view_module_version": "1.2.0",
            "_view_name": "LayoutView",
            "align_content": null,
            "align_items": null,
            "align_self": null,
            "border": null,
            "bottom": null,
            "display": null,
            "flex": null,
            "flex_flow": null,
            "grid_area": null,
            "grid_auto_columns": null,
            "grid_auto_flow": null,
            "grid_auto_rows": null,
            "grid_column": null,
            "grid_gap": null,
            "grid_row": null,
            "grid_template_areas": null,
            "grid_template_columns": null,
            "grid_template_rows": null,
            "height": null,
            "justify_content": null,
            "justify_items": null,
            "left": null,
            "margin": null,
            "max_height": null,
            "max_width": null,
            "min_height": null,
            "min_width": null,
            "object_fit": null,
            "object_position": null,
            "order": null,
            "overflow": null,
            "overflow_x": null,
            "overflow_y": null,
            "padding": null,
            "right": null,
            "top": null,
            "visibility": null,
            "width": null
          }
        },
        "92ae2ab85efc40fa89da650ccbe85e21": {
          "model_module": "@jupyter-widgets/controls",
          "model_name": "DescriptionStyleModel",
          "model_module_version": "1.5.0",
          "state": {
            "_model_module": "@jupyter-widgets/controls",
            "_model_module_version": "1.5.0",
            "_model_name": "DescriptionStyleModel",
            "_view_count": null,
            "_view_module": "@jupyter-widgets/base",
            "_view_module_version": "1.2.0",
            "_view_name": "StyleView",
            "description_width": ""
          }
        },
        "e1a34af59be04546808279b6e673c498": {
          "model_module": "@jupyter-widgets/controls",
          "model_name": "HBoxModel",
          "model_module_version": "1.5.0",
          "state": {
            "_dom_classes": [],
            "_model_module": "@jupyter-widgets/controls",
            "_model_module_version": "1.5.0",
            "_model_name": "HBoxModel",
            "_view_count": null,
            "_view_module": "@jupyter-widgets/controls",
            "_view_module_version": "1.5.0",
            "_view_name": "HBoxView",
            "box_style": "",
            "children": [
              "IPY_MODEL_91a9bd637428473192d5ec47ba137268",
              "IPY_MODEL_f11e33bc060746758ad638204b71955c",
              "IPY_MODEL_ef69985b8f7c4662912a11a377e99b59"
            ],
            "layout": "IPY_MODEL_9721f00cdfc942e8ab8a4faf8080ef2d"
          }
        },
        "91a9bd637428473192d5ec47ba137268": {
          "model_module": "@jupyter-widgets/controls",
          "model_name": "HTMLModel",
          "model_module_version": "1.5.0",
          "state": {
            "_dom_classes": [],
            "_model_module": "@jupyter-widgets/controls",
            "_model_module_version": "1.5.0",
            "_model_name": "HTMLModel",
            "_view_count": null,
            "_view_module": "@jupyter-widgets/controls",
            "_view_module_version": "1.5.0",
            "_view_name": "HTMLView",
            "description": "",
            "description_tooltip": null,
            "layout": "IPY_MODEL_196c66080f944a61a537a0ddd9905248",
            "placeholder": "​",
            "style": "IPY_MODEL_e7d54319900548208c3852623ebc3dcf",
            "value": "Upload file training_args.bin: 100%"
          }
        },
        "f11e33bc060746758ad638204b71955c": {
          "model_module": "@jupyter-widgets/controls",
          "model_name": "FloatProgressModel",
          "model_module_version": "1.5.0",
          "state": {
            "_dom_classes": [],
            "_model_module": "@jupyter-widgets/controls",
            "_model_module_version": "1.5.0",
            "_model_name": "FloatProgressModel",
            "_view_count": null,
            "_view_module": "@jupyter-widgets/controls",
            "_view_module_version": "1.5.0",
            "_view_name": "ProgressView",
            "bar_style": "success",
            "description": "",
            "description_tooltip": null,
            "layout": "IPY_MODEL_adbd04cd03624b66a8c725f9a89647b6",
            "max": 3055,
            "min": 0,
            "orientation": "horizontal",
            "style": "IPY_MODEL_200b5fada23d45ff947953003d052605",
            "value": 3055
          }
        },
        "ef69985b8f7c4662912a11a377e99b59": {
          "model_module": "@jupyter-widgets/controls",
          "model_name": "HTMLModel",
          "model_module_version": "1.5.0",
          "state": {
            "_dom_classes": [],
            "_model_module": "@jupyter-widgets/controls",
            "_model_module_version": "1.5.0",
            "_model_name": "HTMLModel",
            "_view_count": null,
            "_view_module": "@jupyter-widgets/controls",
            "_view_module_version": "1.5.0",
            "_view_name": "HTMLView",
            "description": "",
            "description_tooltip": null,
            "layout": "IPY_MODEL_8c89f99cd7b9408eafbfbf8e0c56d39c",
            "placeholder": "​",
            "style": "IPY_MODEL_a40561b6f013481ba77fa137ab43b1c2",
            "value": " 2.98k/2.98k [05:26&lt;?, ?B/s]"
          }
        },
        "9721f00cdfc942e8ab8a4faf8080ef2d": {
          "model_module": "@jupyter-widgets/base",
          "model_name": "LayoutModel",
          "model_module_version": "1.2.0",
          "state": {
            "_model_module": "@jupyter-widgets/base",
            "_model_module_version": "1.2.0",
            "_model_name": "LayoutModel",
            "_view_count": null,
            "_view_module": "@jupyter-widgets/base",
            "_view_module_version": "1.2.0",
            "_view_name": "LayoutView",
            "align_content": null,
            "align_items": null,
            "align_self": null,
            "border": null,
            "bottom": null,
            "display": null,
            "flex": null,
            "flex_flow": null,
            "grid_area": null,
            "grid_auto_columns": null,
            "grid_auto_flow": null,
            "grid_auto_rows": null,
            "grid_column": null,
            "grid_gap": null,
            "grid_row": null,
            "grid_template_areas": null,
            "grid_template_columns": null,
            "grid_template_rows": null,
            "height": null,
            "justify_content": null,
            "justify_items": null,
            "left": null,
            "margin": null,
            "max_height": null,
            "max_width": null,
            "min_height": null,
            "min_width": null,
            "object_fit": null,
            "object_position": null,
            "order": null,
            "overflow": null,
            "overflow_x": null,
            "overflow_y": null,
            "padding": null,
            "right": null,
            "top": null,
            "visibility": null,
            "width": null
          }
        },
        "196c66080f944a61a537a0ddd9905248": {
          "model_module": "@jupyter-widgets/base",
          "model_name": "LayoutModel",
          "model_module_version": "1.2.0",
          "state": {
            "_model_module": "@jupyter-widgets/base",
            "_model_module_version": "1.2.0",
            "_model_name": "LayoutModel",
            "_view_count": null,
            "_view_module": "@jupyter-widgets/base",
            "_view_module_version": "1.2.0",
            "_view_name": "LayoutView",
            "align_content": null,
            "align_items": null,
            "align_self": null,
            "border": null,
            "bottom": null,
            "display": null,
            "flex": null,
            "flex_flow": null,
            "grid_area": null,
            "grid_auto_columns": null,
            "grid_auto_flow": null,
            "grid_auto_rows": null,
            "grid_column": null,
            "grid_gap": null,
            "grid_row": null,
            "grid_template_areas": null,
            "grid_template_columns": null,
            "grid_template_rows": null,
            "height": null,
            "justify_content": null,
            "justify_items": null,
            "left": null,
            "margin": null,
            "max_height": null,
            "max_width": null,
            "min_height": null,
            "min_width": null,
            "object_fit": null,
            "object_position": null,
            "order": null,
            "overflow": null,
            "overflow_x": null,
            "overflow_y": null,
            "padding": null,
            "right": null,
            "top": null,
            "visibility": null,
            "width": null
          }
        },
        "e7d54319900548208c3852623ebc3dcf": {
          "model_module": "@jupyter-widgets/controls",
          "model_name": "DescriptionStyleModel",
          "model_module_version": "1.5.0",
          "state": {
            "_model_module": "@jupyter-widgets/controls",
            "_model_module_version": "1.5.0",
            "_model_name": "DescriptionStyleModel",
            "_view_count": null,
            "_view_module": "@jupyter-widgets/base",
            "_view_module_version": "1.2.0",
            "_view_name": "StyleView",
            "description_width": ""
          }
        },
        "adbd04cd03624b66a8c725f9a89647b6": {
          "model_module": "@jupyter-widgets/base",
          "model_name": "LayoutModel",
          "model_module_version": "1.2.0",
          "state": {
            "_model_module": "@jupyter-widgets/base",
            "_model_module_version": "1.2.0",
            "_model_name": "LayoutModel",
            "_view_count": null,
            "_view_module": "@jupyter-widgets/base",
            "_view_module_version": "1.2.0",
            "_view_name": "LayoutView",
            "align_content": null,
            "align_items": null,
            "align_self": null,
            "border": null,
            "bottom": null,
            "display": null,
            "flex": null,
            "flex_flow": null,
            "grid_area": null,
            "grid_auto_columns": null,
            "grid_auto_flow": null,
            "grid_auto_rows": null,
            "grid_column": null,
            "grid_gap": null,
            "grid_row": null,
            "grid_template_areas": null,
            "grid_template_columns": null,
            "grid_template_rows": null,
            "height": null,
            "justify_content": null,
            "justify_items": null,
            "left": null,
            "margin": null,
            "max_height": null,
            "max_width": null,
            "min_height": null,
            "min_width": null,
            "object_fit": null,
            "object_position": null,
            "order": null,
            "overflow": null,
            "overflow_x": null,
            "overflow_y": null,
            "padding": null,
            "right": null,
            "top": null,
            "visibility": null,
            "width": null
          }
        },
        "200b5fada23d45ff947953003d052605": {
          "model_module": "@jupyter-widgets/controls",
          "model_name": "ProgressStyleModel",
          "model_module_version": "1.5.0",
          "state": {
            "_model_module": "@jupyter-widgets/controls",
            "_model_module_version": "1.5.0",
            "_model_name": "ProgressStyleModel",
            "_view_count": null,
            "_view_module": "@jupyter-widgets/base",
            "_view_module_version": "1.2.0",
            "_view_name": "StyleView",
            "bar_color": null,
            "description_width": ""
          }
        },
        "8c89f99cd7b9408eafbfbf8e0c56d39c": {
          "model_module": "@jupyter-widgets/base",
          "model_name": "LayoutModel",
          "model_module_version": "1.2.0",
          "state": {
            "_model_module": "@jupyter-widgets/base",
            "_model_module_version": "1.2.0",
            "_model_name": "LayoutModel",
            "_view_count": null,
            "_view_module": "@jupyter-widgets/base",
            "_view_module_version": "1.2.0",
            "_view_name": "LayoutView",
            "align_content": null,
            "align_items": null,
            "align_self": null,
            "border": null,
            "bottom": null,
            "display": null,
            "flex": null,
            "flex_flow": null,
            "grid_area": null,
            "grid_auto_columns": null,
            "grid_auto_flow": null,
            "grid_auto_rows": null,
            "grid_column": null,
            "grid_gap": null,
            "grid_row": null,
            "grid_template_areas": null,
            "grid_template_columns": null,
            "grid_template_rows": null,
            "height": null,
            "justify_content": null,
            "justify_items": null,
            "left": null,
            "margin": null,
            "max_height": null,
            "max_width": null,
            "min_height": null,
            "min_width": null,
            "object_fit": null,
            "object_position": null,
            "order": null,
            "overflow": null,
            "overflow_x": null,
            "overflow_y": null,
            "padding": null,
            "right": null,
            "top": null,
            "visibility": null,
            "width": null
          }
        },
        "a40561b6f013481ba77fa137ab43b1c2": {
          "model_module": "@jupyter-widgets/controls",
          "model_name": "DescriptionStyleModel",
          "model_module_version": "1.5.0",
          "state": {
            "_model_module": "@jupyter-widgets/controls",
            "_model_module_version": "1.5.0",
            "_model_name": "DescriptionStyleModel",
            "_view_count": null,
            "_view_module": "@jupyter-widgets/base",
            "_view_module_version": "1.2.0",
            "_view_name": "StyleView",
            "description_width": ""
          }
        },
        "63ee5e2413434249bd47a8d662ec0da6": {
          "model_module": "@jupyter-widgets/controls",
          "model_name": "HBoxModel",
          "model_module_version": "1.5.0",
          "state": {
            "_dom_classes": [],
            "_model_module": "@jupyter-widgets/controls",
            "_model_module_version": "1.5.0",
            "_model_name": "HBoxModel",
            "_view_count": null,
            "_view_module": "@jupyter-widgets/controls",
            "_view_module_version": "1.5.0",
            "_view_name": "HBoxView",
            "box_style": "",
            "children": [
              "IPY_MODEL_d10215d60b9f471ab681a948ad143159",
              "IPY_MODEL_bcb33e49c5ab412eb5b8cd823cf06706",
              "IPY_MODEL_f23b78d30ff040f481b5584a83083b39"
            ],
            "layout": "IPY_MODEL_fe39df4b5e9d41f6a0233bafb4522dd4"
          }
        },
        "d10215d60b9f471ab681a948ad143159": {
          "model_module": "@jupyter-widgets/controls",
          "model_name": "HTMLModel",
          "model_module_version": "1.5.0",
          "state": {
            "_dom_classes": [],
            "_model_module": "@jupyter-widgets/controls",
            "_model_module_version": "1.5.0",
            "_model_name": "HTMLModel",
            "_view_count": null,
            "_view_module": "@jupyter-widgets/controls",
            "_view_module_version": "1.5.0",
            "_view_name": "HTMLView",
            "description": "",
            "description_tooltip": null,
            "layout": "IPY_MODEL_6cac8e9fcefd4353a76244f89ff459e1",
            "placeholder": "​",
            "style": "IPY_MODEL_4f70c2c356074adf9aa7c1fb6b20f8e3",
            "value": "Upload file runs/May10_11-02-51_d58de38fbf77/events.out.tfevents.1652180636.d58de38fbf77.96.2: 100%"
          }
        },
        "bcb33e49c5ab412eb5b8cd823cf06706": {
          "model_module": "@jupyter-widgets/controls",
          "model_name": "FloatProgressModel",
          "model_module_version": "1.5.0",
          "state": {
            "_dom_classes": [],
            "_model_module": "@jupyter-widgets/controls",
            "_model_module_version": "1.5.0",
            "_model_name": "FloatProgressModel",
            "_view_count": null,
            "_view_module": "@jupyter-widgets/controls",
            "_view_module_version": "1.5.0",
            "_view_name": "ProgressView",
            "bar_style": "success",
            "description": "",
            "description_tooltip": null,
            "layout": "IPY_MODEL_4cc884973b734098a135619736b5f599",
            "max": 19164,
            "min": 0,
            "orientation": "horizontal",
            "style": "IPY_MODEL_fd72ea27c82843ceb5fdb74886fc5b44",
            "value": 19164
          }
        },
        "f23b78d30ff040f481b5584a83083b39": {
          "model_module": "@jupyter-widgets/controls",
          "model_name": "HTMLModel",
          "model_module_version": "1.5.0",
          "state": {
            "_dom_classes": [],
            "_model_module": "@jupyter-widgets/controls",
            "_model_module_version": "1.5.0",
            "_model_name": "HTMLModel",
            "_view_count": null,
            "_view_module": "@jupyter-widgets/controls",
            "_view_module_version": "1.5.0",
            "_view_name": "HTMLView",
            "description": "",
            "description_tooltip": null,
            "layout": "IPY_MODEL_28b1ff0d507e40fb84e4083537207de4",
            "placeholder": "​",
            "style": "IPY_MODEL_bf2896c4b25147f0a303c748fa2b0cd9",
            "value": " 18.7k/18.7k [05:26&lt;00:00, 48.2B/s]"
          }
        },
        "fe39df4b5e9d41f6a0233bafb4522dd4": {
          "model_module": "@jupyter-widgets/base",
          "model_name": "LayoutModel",
          "model_module_version": "1.2.0",
          "state": {
            "_model_module": "@jupyter-widgets/base",
            "_model_module_version": "1.2.0",
            "_model_name": "LayoutModel",
            "_view_count": null,
            "_view_module": "@jupyter-widgets/base",
            "_view_module_version": "1.2.0",
            "_view_name": "LayoutView",
            "align_content": null,
            "align_items": null,
            "align_self": null,
            "border": null,
            "bottom": null,
            "display": null,
            "flex": null,
            "flex_flow": null,
            "grid_area": null,
            "grid_auto_columns": null,
            "grid_auto_flow": null,
            "grid_auto_rows": null,
            "grid_column": null,
            "grid_gap": null,
            "grid_row": null,
            "grid_template_areas": null,
            "grid_template_columns": null,
            "grid_template_rows": null,
            "height": null,
            "justify_content": null,
            "justify_items": null,
            "left": null,
            "margin": null,
            "max_height": null,
            "max_width": null,
            "min_height": null,
            "min_width": null,
            "object_fit": null,
            "object_position": null,
            "order": null,
            "overflow": null,
            "overflow_x": null,
            "overflow_y": null,
            "padding": null,
            "right": null,
            "top": null,
            "visibility": null,
            "width": null
          }
        },
        "6cac8e9fcefd4353a76244f89ff459e1": {
          "model_module": "@jupyter-widgets/base",
          "model_name": "LayoutModel",
          "model_module_version": "1.2.0",
          "state": {
            "_model_module": "@jupyter-widgets/base",
            "_model_module_version": "1.2.0",
            "_model_name": "LayoutModel",
            "_view_count": null,
            "_view_module": "@jupyter-widgets/base",
            "_view_module_version": "1.2.0",
            "_view_name": "LayoutView",
            "align_content": null,
            "align_items": null,
            "align_self": null,
            "border": null,
            "bottom": null,
            "display": null,
            "flex": null,
            "flex_flow": null,
            "grid_area": null,
            "grid_auto_columns": null,
            "grid_auto_flow": null,
            "grid_auto_rows": null,
            "grid_column": null,
            "grid_gap": null,
            "grid_row": null,
            "grid_template_areas": null,
            "grid_template_columns": null,
            "grid_template_rows": null,
            "height": null,
            "justify_content": null,
            "justify_items": null,
            "left": null,
            "margin": null,
            "max_height": null,
            "max_width": null,
            "min_height": null,
            "min_width": null,
            "object_fit": null,
            "object_position": null,
            "order": null,
            "overflow": null,
            "overflow_x": null,
            "overflow_y": null,
            "padding": null,
            "right": null,
            "top": null,
            "visibility": null,
            "width": null
          }
        },
        "4f70c2c356074adf9aa7c1fb6b20f8e3": {
          "model_module": "@jupyter-widgets/controls",
          "model_name": "DescriptionStyleModel",
          "model_module_version": "1.5.0",
          "state": {
            "_model_module": "@jupyter-widgets/controls",
            "_model_module_version": "1.5.0",
            "_model_name": "DescriptionStyleModel",
            "_view_count": null,
            "_view_module": "@jupyter-widgets/base",
            "_view_module_version": "1.2.0",
            "_view_name": "StyleView",
            "description_width": ""
          }
        },
        "4cc884973b734098a135619736b5f599": {
          "model_module": "@jupyter-widgets/base",
          "model_name": "LayoutModel",
          "model_module_version": "1.2.0",
          "state": {
            "_model_module": "@jupyter-widgets/base",
            "_model_module_version": "1.2.0",
            "_model_name": "LayoutModel",
            "_view_count": null,
            "_view_module": "@jupyter-widgets/base",
            "_view_module_version": "1.2.0",
            "_view_name": "LayoutView",
            "align_content": null,
            "align_items": null,
            "align_self": null,
            "border": null,
            "bottom": null,
            "display": null,
            "flex": null,
            "flex_flow": null,
            "grid_area": null,
            "grid_auto_columns": null,
            "grid_auto_flow": null,
            "grid_auto_rows": null,
            "grid_column": null,
            "grid_gap": null,
            "grid_row": null,
            "grid_template_areas": null,
            "grid_template_columns": null,
            "grid_template_rows": null,
            "height": null,
            "justify_content": null,
            "justify_items": null,
            "left": null,
            "margin": null,
            "max_height": null,
            "max_width": null,
            "min_height": null,
            "min_width": null,
            "object_fit": null,
            "object_position": null,
            "order": null,
            "overflow": null,
            "overflow_x": null,
            "overflow_y": null,
            "padding": null,
            "right": null,
            "top": null,
            "visibility": null,
            "width": null
          }
        },
        "fd72ea27c82843ceb5fdb74886fc5b44": {
          "model_module": "@jupyter-widgets/controls",
          "model_name": "ProgressStyleModel",
          "model_module_version": "1.5.0",
          "state": {
            "_model_module": "@jupyter-widgets/controls",
            "_model_module_version": "1.5.0",
            "_model_name": "ProgressStyleModel",
            "_view_count": null,
            "_view_module": "@jupyter-widgets/base",
            "_view_module_version": "1.2.0",
            "_view_name": "StyleView",
            "bar_color": null,
            "description_width": ""
          }
        },
        "28b1ff0d507e40fb84e4083537207de4": {
          "model_module": "@jupyter-widgets/base",
          "model_name": "LayoutModel",
          "model_module_version": "1.2.0",
          "state": {
            "_model_module": "@jupyter-widgets/base",
            "_model_module_version": "1.2.0",
            "_model_name": "LayoutModel",
            "_view_count": null,
            "_view_module": "@jupyter-widgets/base",
            "_view_module_version": "1.2.0",
            "_view_name": "LayoutView",
            "align_content": null,
            "align_items": null,
            "align_self": null,
            "border": null,
            "bottom": null,
            "display": null,
            "flex": null,
            "flex_flow": null,
            "grid_area": null,
            "grid_auto_columns": null,
            "grid_auto_flow": null,
            "grid_auto_rows": null,
            "grid_column": null,
            "grid_gap": null,
            "grid_row": null,
            "grid_template_areas": null,
            "grid_template_columns": null,
            "grid_template_rows": null,
            "height": null,
            "justify_content": null,
            "justify_items": null,
            "left": null,
            "margin": null,
            "max_height": null,
            "max_width": null,
            "min_height": null,
            "min_width": null,
            "object_fit": null,
            "object_position": null,
            "order": null,
            "overflow": null,
            "overflow_x": null,
            "overflow_y": null,
            "padding": null,
            "right": null,
            "top": null,
            "visibility": null,
            "width": null
          }
        },
        "bf2896c4b25147f0a303c748fa2b0cd9": {
          "model_module": "@jupyter-widgets/controls",
          "model_name": "DescriptionStyleModel",
          "model_module_version": "1.5.0",
          "state": {
            "_model_module": "@jupyter-widgets/controls",
            "_model_module_version": "1.5.0",
            "_model_name": "DescriptionStyleModel",
            "_view_count": null,
            "_view_module": "@jupyter-widgets/base",
            "_view_module_version": "1.2.0",
            "_view_name": "StyleView",
            "description_width": ""
          }
        },
        "524b5795780746f5966c06b878cc0fbc": {
          "model_module": "@jupyter-widgets/controls",
          "model_name": "HBoxModel",
          "model_module_version": "1.5.0",
          "state": {
            "_dom_classes": [],
            "_model_module": "@jupyter-widgets/controls",
            "_model_module_version": "1.5.0",
            "_model_name": "HBoxModel",
            "_view_count": null,
            "_view_module": "@jupyter-widgets/controls",
            "_view_module_version": "1.5.0",
            "_view_name": "HBoxView",
            "box_style": "",
            "children": [
              "IPY_MODEL_8eb41fee8e1c452a9d69a07a266d871a",
              "IPY_MODEL_f22febfc3bbe48058be84b2a20e906f5",
              "IPY_MODEL_ab51fefefa1b464a9a780b80c6f0c020"
            ],
            "layout": "IPY_MODEL_88fd1cb973f8485b97caa19b7801c3d3"
          }
        },
        "8eb41fee8e1c452a9d69a07a266d871a": {
          "model_module": "@jupyter-widgets/controls",
          "model_name": "HTMLModel",
          "model_module_version": "1.5.0",
          "state": {
            "_dom_classes": [],
            "_model_module": "@jupyter-widgets/controls",
            "_model_module_version": "1.5.0",
            "_model_name": "HTMLModel",
            "_view_count": null,
            "_view_module": "@jupyter-widgets/controls",
            "_view_module_version": "1.5.0",
            "_view_name": "HTMLView",
            "description": "",
            "description_tooltip": null,
            "layout": "IPY_MODEL_3234edc4a75e4658acd19feef174e88f",
            "placeholder": "​",
            "style": "IPY_MODEL_6bfe6219ad934146a4d680e38ed19879",
            "value": "Downloading: 100%"
          }
        },
        "f22febfc3bbe48058be84b2a20e906f5": {
          "model_module": "@jupyter-widgets/controls",
          "model_name": "FloatProgressModel",
          "model_module_version": "1.5.0",
          "state": {
            "_dom_classes": [],
            "_model_module": "@jupyter-widgets/controls",
            "_model_module_version": "1.5.0",
            "_model_name": "FloatProgressModel",
            "_view_count": null,
            "_view_module": "@jupyter-widgets/controls",
            "_view_module_version": "1.5.0",
            "_view_name": "ProgressView",
            "bar_style": "success",
            "description": "",
            "description_tooltip": null,
            "layout": "IPY_MODEL_63e9fc689ea54fbfa7226cc9918977cb",
            "max": 215,
            "min": 0,
            "orientation": "horizontal",
            "style": "IPY_MODEL_dc034b4bf9e34963ab79f391c55d44ac",
            "value": 215
          }
        },
        "ab51fefefa1b464a9a780b80c6f0c020": {
          "model_module": "@jupyter-widgets/controls",
          "model_name": "HTMLModel",
          "model_module_version": "1.5.0",
          "state": {
            "_dom_classes": [],
            "_model_module": "@jupyter-widgets/controls",
            "_model_module_version": "1.5.0",
            "_model_name": "HTMLModel",
            "_view_count": null,
            "_view_module": "@jupyter-widgets/controls",
            "_view_module_version": "1.5.0",
            "_view_name": "HTMLView",
            "description": "",
            "description_tooltip": null,
            "layout": "IPY_MODEL_6b3288ffeef34c2a925d2554c7c4f521",
            "placeholder": "​",
            "style": "IPY_MODEL_116e45bbe2d640d18d6a47309692dc20",
            "value": " 215/215 [00:00&lt;00:00, 8.22kB/s]"
          }
        },
        "88fd1cb973f8485b97caa19b7801c3d3": {
          "model_module": "@jupyter-widgets/base",
          "model_name": "LayoutModel",
          "model_module_version": "1.2.0",
          "state": {
            "_model_module": "@jupyter-widgets/base",
            "_model_module_version": "1.2.0",
            "_model_name": "LayoutModel",
            "_view_count": null,
            "_view_module": "@jupyter-widgets/base",
            "_view_module_version": "1.2.0",
            "_view_name": "LayoutView",
            "align_content": null,
            "align_items": null,
            "align_self": null,
            "border": null,
            "bottom": null,
            "display": null,
            "flex": null,
            "flex_flow": null,
            "grid_area": null,
            "grid_auto_columns": null,
            "grid_auto_flow": null,
            "grid_auto_rows": null,
            "grid_column": null,
            "grid_gap": null,
            "grid_row": null,
            "grid_template_areas": null,
            "grid_template_columns": null,
            "grid_template_rows": null,
            "height": null,
            "justify_content": null,
            "justify_items": null,
            "left": null,
            "margin": null,
            "max_height": null,
            "max_width": null,
            "min_height": null,
            "min_width": null,
            "object_fit": null,
            "object_position": null,
            "order": null,
            "overflow": null,
            "overflow_x": null,
            "overflow_y": null,
            "padding": null,
            "right": null,
            "top": null,
            "visibility": null,
            "width": null
          }
        },
        "3234edc4a75e4658acd19feef174e88f": {
          "model_module": "@jupyter-widgets/base",
          "model_name": "LayoutModel",
          "model_module_version": "1.2.0",
          "state": {
            "_model_module": "@jupyter-widgets/base",
            "_model_module_version": "1.2.0",
            "_model_name": "LayoutModel",
            "_view_count": null,
            "_view_module": "@jupyter-widgets/base",
            "_view_module_version": "1.2.0",
            "_view_name": "LayoutView",
            "align_content": null,
            "align_items": null,
            "align_self": null,
            "border": null,
            "bottom": null,
            "display": null,
            "flex": null,
            "flex_flow": null,
            "grid_area": null,
            "grid_auto_columns": null,
            "grid_auto_flow": null,
            "grid_auto_rows": null,
            "grid_column": null,
            "grid_gap": null,
            "grid_row": null,
            "grid_template_areas": null,
            "grid_template_columns": null,
            "grid_template_rows": null,
            "height": null,
            "justify_content": null,
            "justify_items": null,
            "left": null,
            "margin": null,
            "max_height": null,
            "max_width": null,
            "min_height": null,
            "min_width": null,
            "object_fit": null,
            "object_position": null,
            "order": null,
            "overflow": null,
            "overflow_x": null,
            "overflow_y": null,
            "padding": null,
            "right": null,
            "top": null,
            "visibility": null,
            "width": null
          }
        },
        "6bfe6219ad934146a4d680e38ed19879": {
          "model_module": "@jupyter-widgets/controls",
          "model_name": "DescriptionStyleModel",
          "model_module_version": "1.5.0",
          "state": {
            "_model_module": "@jupyter-widgets/controls",
            "_model_module_version": "1.5.0",
            "_model_name": "DescriptionStyleModel",
            "_view_count": null,
            "_view_module": "@jupyter-widgets/base",
            "_view_module_version": "1.2.0",
            "_view_name": "StyleView",
            "description_width": ""
          }
        },
        "63e9fc689ea54fbfa7226cc9918977cb": {
          "model_module": "@jupyter-widgets/base",
          "model_name": "LayoutModel",
          "model_module_version": "1.2.0",
          "state": {
            "_model_module": "@jupyter-widgets/base",
            "_model_module_version": "1.2.0",
            "_model_name": "LayoutModel",
            "_view_count": null,
            "_view_module": "@jupyter-widgets/base",
            "_view_module_version": "1.2.0",
            "_view_name": "LayoutView",
            "align_content": null,
            "align_items": null,
            "align_self": null,
            "border": null,
            "bottom": null,
            "display": null,
            "flex": null,
            "flex_flow": null,
            "grid_area": null,
            "grid_auto_columns": null,
            "grid_auto_flow": null,
            "grid_auto_rows": null,
            "grid_column": null,
            "grid_gap": null,
            "grid_row": null,
            "grid_template_areas": null,
            "grid_template_columns": null,
            "grid_template_rows": null,
            "height": null,
            "justify_content": null,
            "justify_items": null,
            "left": null,
            "margin": null,
            "max_height": null,
            "max_width": null,
            "min_height": null,
            "min_width": null,
            "object_fit": null,
            "object_position": null,
            "order": null,
            "overflow": null,
            "overflow_x": null,
            "overflow_y": null,
            "padding": null,
            "right": null,
            "top": null,
            "visibility": null,
            "width": null
          }
        },
        "dc034b4bf9e34963ab79f391c55d44ac": {
          "model_module": "@jupyter-widgets/controls",
          "model_name": "ProgressStyleModel",
          "model_module_version": "1.5.0",
          "state": {
            "_model_module": "@jupyter-widgets/controls",
            "_model_module_version": "1.5.0",
            "_model_name": "ProgressStyleModel",
            "_view_count": null,
            "_view_module": "@jupyter-widgets/base",
            "_view_module_version": "1.2.0",
            "_view_name": "StyleView",
            "bar_color": null,
            "description_width": ""
          }
        },
        "6b3288ffeef34c2a925d2554c7c4f521": {
          "model_module": "@jupyter-widgets/base",
          "model_name": "LayoutModel",
          "model_module_version": "1.2.0",
          "state": {
            "_model_module": "@jupyter-widgets/base",
            "_model_module_version": "1.2.0",
            "_model_name": "LayoutModel",
            "_view_count": null,
            "_view_module": "@jupyter-widgets/base",
            "_view_module_version": "1.2.0",
            "_view_name": "LayoutView",
            "align_content": null,
            "align_items": null,
            "align_self": null,
            "border": null,
            "bottom": null,
            "display": null,
            "flex": null,
            "flex_flow": null,
            "grid_area": null,
            "grid_auto_columns": null,
            "grid_auto_flow": null,
            "grid_auto_rows": null,
            "grid_column": null,
            "grid_gap": null,
            "grid_row": null,
            "grid_template_areas": null,
            "grid_template_columns": null,
            "grid_template_rows": null,
            "height": null,
            "justify_content": null,
            "justify_items": null,
            "left": null,
            "margin": null,
            "max_height": null,
            "max_width": null,
            "min_height": null,
            "min_width": null,
            "object_fit": null,
            "object_position": null,
            "order": null,
            "overflow": null,
            "overflow_x": null,
            "overflow_y": null,
            "padding": null,
            "right": null,
            "top": null,
            "visibility": null,
            "width": null
          }
        },
        "116e45bbe2d640d18d6a47309692dc20": {
          "model_module": "@jupyter-widgets/controls",
          "model_name": "DescriptionStyleModel",
          "model_module_version": "1.5.0",
          "state": {
            "_model_module": "@jupyter-widgets/controls",
            "_model_module_version": "1.5.0",
            "_model_name": "DescriptionStyleModel",
            "_view_count": null,
            "_view_module": "@jupyter-widgets/base",
            "_view_module_version": "1.2.0",
            "_view_name": "StyleView",
            "description_width": ""
          }
        },
        "66d5a397b26e4d66a97bc3b3159e96bd": {
          "model_module": "@jupyter-widgets/controls",
          "model_name": "HBoxModel",
          "model_module_version": "1.5.0",
          "state": {
            "_dom_classes": [],
            "_model_module": "@jupyter-widgets/controls",
            "_model_module_version": "1.5.0",
            "_model_name": "HBoxModel",
            "_view_count": null,
            "_view_module": "@jupyter-widgets/controls",
            "_view_module_version": "1.5.0",
            "_view_name": "HBoxView",
            "box_style": "",
            "children": [
              "IPY_MODEL_041870fd5bac43b394956252364a16c4",
              "IPY_MODEL_26f6574d99724fb29159071dda6039b5",
              "IPY_MODEL_55d0bfd5c746402f89e6b86a7ca37b3a"
            ],
            "layout": "IPY_MODEL_b69bad861f014c20b4cb470c73b1fe37"
          }
        },
        "041870fd5bac43b394956252364a16c4": {
          "model_module": "@jupyter-widgets/controls",
          "model_name": "HTMLModel",
          "model_module_version": "1.5.0",
          "state": {
            "_dom_classes": [],
            "_model_module": "@jupyter-widgets/controls",
            "_model_module_version": "1.5.0",
            "_model_name": "HTMLModel",
            "_view_count": null,
            "_view_module": "@jupyter-widgets/controls",
            "_view_module_version": "1.5.0",
            "_view_name": "HTMLView",
            "description": "",
            "description_tooltip": null,
            "layout": "IPY_MODEL_940e030ce7ae40d68136ddf1a1a67736",
            "placeholder": "​",
            "style": "IPY_MODEL_c80bdd3bae794c08b81c950a33ff9ba0",
            "value": "Downloading: 100%"
          }
        },
        "26f6574d99724fb29159071dda6039b5": {
          "model_module": "@jupyter-widgets/controls",
          "model_name": "FloatProgressModel",
          "model_module_version": "1.5.0",
          "state": {
            "_dom_classes": [],
            "_model_module": "@jupyter-widgets/controls",
            "_model_module_version": "1.5.0",
            "_model_name": "FloatProgressModel",
            "_view_count": null,
            "_view_module": "@jupyter-widgets/controls",
            "_view_module_version": "1.5.0",
            "_view_name": "ProgressView",
            "bar_style": "success",
            "description": "",
            "description_tooltip": null,
            "layout": "IPY_MODEL_7b0c8bc5bb66433384aeb47bf99001ae",
            "max": 217,
            "min": 0,
            "orientation": "horizontal",
            "style": "IPY_MODEL_6b03d462bd0f4fbeab0df76bbb881621",
            "value": 217
          }
        },
        "55d0bfd5c746402f89e6b86a7ca37b3a": {
          "model_module": "@jupyter-widgets/controls",
          "model_name": "HTMLModel",
          "model_module_version": "1.5.0",
          "state": {
            "_dom_classes": [],
            "_model_module": "@jupyter-widgets/controls",
            "_model_module_version": "1.5.0",
            "_model_name": "HTMLModel",
            "_view_count": null,
            "_view_module": "@jupyter-widgets/controls",
            "_view_module_version": "1.5.0",
            "_view_name": "HTMLView",
            "description": "",
            "description_tooltip": null,
            "layout": "IPY_MODEL_be78bdab8638431e80c087a0fe9a7a8f",
            "placeholder": "​",
            "style": "IPY_MODEL_d44a1f0b3216469fb1ac597951f9471a",
            "value": " 217/217 [00:00&lt;00:00, 8.74kB/s]"
          }
        },
        "b69bad861f014c20b4cb470c73b1fe37": {
          "model_module": "@jupyter-widgets/base",
          "model_name": "LayoutModel",
          "model_module_version": "1.2.0",
          "state": {
            "_model_module": "@jupyter-widgets/base",
            "_model_module_version": "1.2.0",
            "_model_name": "LayoutModel",
            "_view_count": null,
            "_view_module": "@jupyter-widgets/base",
            "_view_module_version": "1.2.0",
            "_view_name": "LayoutView",
            "align_content": null,
            "align_items": null,
            "align_self": null,
            "border": null,
            "bottom": null,
            "display": null,
            "flex": null,
            "flex_flow": null,
            "grid_area": null,
            "grid_auto_columns": null,
            "grid_auto_flow": null,
            "grid_auto_rows": null,
            "grid_column": null,
            "grid_gap": null,
            "grid_row": null,
            "grid_template_areas": null,
            "grid_template_columns": null,
            "grid_template_rows": null,
            "height": null,
            "justify_content": null,
            "justify_items": null,
            "left": null,
            "margin": null,
            "max_height": null,
            "max_width": null,
            "min_height": null,
            "min_width": null,
            "object_fit": null,
            "object_position": null,
            "order": null,
            "overflow": null,
            "overflow_x": null,
            "overflow_y": null,
            "padding": null,
            "right": null,
            "top": null,
            "visibility": null,
            "width": null
          }
        },
        "940e030ce7ae40d68136ddf1a1a67736": {
          "model_module": "@jupyter-widgets/base",
          "model_name": "LayoutModel",
          "model_module_version": "1.2.0",
          "state": {
            "_model_module": "@jupyter-widgets/base",
            "_model_module_version": "1.2.0",
            "_model_name": "LayoutModel",
            "_view_count": null,
            "_view_module": "@jupyter-widgets/base",
            "_view_module_version": "1.2.0",
            "_view_name": "LayoutView",
            "align_content": null,
            "align_items": null,
            "align_self": null,
            "border": null,
            "bottom": null,
            "display": null,
            "flex": null,
            "flex_flow": null,
            "grid_area": null,
            "grid_auto_columns": null,
            "grid_auto_flow": null,
            "grid_auto_rows": null,
            "grid_column": null,
            "grid_gap": null,
            "grid_row": null,
            "grid_template_areas": null,
            "grid_template_columns": null,
            "grid_template_rows": null,
            "height": null,
            "justify_content": null,
            "justify_items": null,
            "left": null,
            "margin": null,
            "max_height": null,
            "max_width": null,
            "min_height": null,
            "min_width": null,
            "object_fit": null,
            "object_position": null,
            "order": null,
            "overflow": null,
            "overflow_x": null,
            "overflow_y": null,
            "padding": null,
            "right": null,
            "top": null,
            "visibility": null,
            "width": null
          }
        },
        "c80bdd3bae794c08b81c950a33ff9ba0": {
          "model_module": "@jupyter-widgets/controls",
          "model_name": "DescriptionStyleModel",
          "model_module_version": "1.5.0",
          "state": {
            "_model_module": "@jupyter-widgets/controls",
            "_model_module_version": "1.5.0",
            "_model_name": "DescriptionStyleModel",
            "_view_count": null,
            "_view_module": "@jupyter-widgets/base",
            "_view_module_version": "1.2.0",
            "_view_name": "StyleView",
            "description_width": ""
          }
        },
        "7b0c8bc5bb66433384aeb47bf99001ae": {
          "model_module": "@jupyter-widgets/base",
          "model_name": "LayoutModel",
          "model_module_version": "1.2.0",
          "state": {
            "_model_module": "@jupyter-widgets/base",
            "_model_module_version": "1.2.0",
            "_model_name": "LayoutModel",
            "_view_count": null,
            "_view_module": "@jupyter-widgets/base",
            "_view_module_version": "1.2.0",
            "_view_name": "LayoutView",
            "align_content": null,
            "align_items": null,
            "align_self": null,
            "border": null,
            "bottom": null,
            "display": null,
            "flex": null,
            "flex_flow": null,
            "grid_area": null,
            "grid_auto_columns": null,
            "grid_auto_flow": null,
            "grid_auto_rows": null,
            "grid_column": null,
            "grid_gap": null,
            "grid_row": null,
            "grid_template_areas": null,
            "grid_template_columns": null,
            "grid_template_rows": null,
            "height": null,
            "justify_content": null,
            "justify_items": null,
            "left": null,
            "margin": null,
            "max_height": null,
            "max_width": null,
            "min_height": null,
            "min_width": null,
            "object_fit": null,
            "object_position": null,
            "order": null,
            "overflow": null,
            "overflow_x": null,
            "overflow_y": null,
            "padding": null,
            "right": null,
            "top": null,
            "visibility": null,
            "width": null
          }
        },
        "6b03d462bd0f4fbeab0df76bbb881621": {
          "model_module": "@jupyter-widgets/controls",
          "model_name": "ProgressStyleModel",
          "model_module_version": "1.5.0",
          "state": {
            "_model_module": "@jupyter-widgets/controls",
            "_model_module_version": "1.5.0",
            "_model_name": "ProgressStyleModel",
            "_view_count": null,
            "_view_module": "@jupyter-widgets/base",
            "_view_module_version": "1.2.0",
            "_view_name": "StyleView",
            "bar_color": null,
            "description_width": ""
          }
        },
        "be78bdab8638431e80c087a0fe9a7a8f": {
          "model_module": "@jupyter-widgets/base",
          "model_name": "LayoutModel",
          "model_module_version": "1.2.0",
          "state": {
            "_model_module": "@jupyter-widgets/base",
            "_model_module_version": "1.2.0",
            "_model_name": "LayoutModel",
            "_view_count": null,
            "_view_module": "@jupyter-widgets/base",
            "_view_module_version": "1.2.0",
            "_view_name": "LayoutView",
            "align_content": null,
            "align_items": null,
            "align_self": null,
            "border": null,
            "bottom": null,
            "display": null,
            "flex": null,
            "flex_flow": null,
            "grid_area": null,
            "grid_auto_columns": null,
            "grid_auto_flow": null,
            "grid_auto_rows": null,
            "grid_column": null,
            "grid_gap": null,
            "grid_row": null,
            "grid_template_areas": null,
            "grid_template_columns": null,
            "grid_template_rows": null,
            "height": null,
            "justify_content": null,
            "justify_items": null,
            "left": null,
            "margin": null,
            "max_height": null,
            "max_width": null,
            "min_height": null,
            "min_width": null,
            "object_fit": null,
            "object_position": null,
            "order": null,
            "overflow": null,
            "overflow_x": null,
            "overflow_y": null,
            "padding": null,
            "right": null,
            "top": null,
            "visibility": null,
            "width": null
          }
        },
        "d44a1f0b3216469fb1ac597951f9471a": {
          "model_module": "@jupyter-widgets/controls",
          "model_name": "DescriptionStyleModel",
          "model_module_version": "1.5.0",
          "state": {
            "_model_module": "@jupyter-widgets/controls",
            "_model_module_version": "1.5.0",
            "_model_name": "DescriptionStyleModel",
            "_view_count": null,
            "_view_module": "@jupyter-widgets/base",
            "_view_module_version": "1.2.0",
            "_view_name": "StyleView",
            "description_width": ""
          }
        },
        "a0e897961bb049438847879cf082adf3": {
          "model_module": "@jupyter-widgets/controls",
          "model_name": "HBoxModel",
          "model_module_version": "1.5.0",
          "state": {
            "_dom_classes": [],
            "_model_module": "@jupyter-widgets/controls",
            "_model_module_version": "1.5.0",
            "_model_name": "HBoxModel",
            "_view_count": null,
            "_view_module": "@jupyter-widgets/controls",
            "_view_module_version": "1.5.0",
            "_view_name": "HBoxView",
            "box_style": "",
            "children": [
              "IPY_MODEL_820ac3ce474346728b80a609d47848ee",
              "IPY_MODEL_045273b88fa04afba97bf7ba6027f164",
              "IPY_MODEL_4847949da7b64782895b4fca8b432ec8"
            ],
            "layout": "IPY_MODEL_427b99cf8b964a59bbbf0b4d04504906"
          }
        },
        "820ac3ce474346728b80a609d47848ee": {
          "model_module": "@jupyter-widgets/controls",
          "model_name": "HTMLModel",
          "model_module_version": "1.5.0",
          "state": {
            "_dom_classes": [],
            "_model_module": "@jupyter-widgets/controls",
            "_model_module_version": "1.5.0",
            "_model_name": "HTMLModel",
            "_view_count": null,
            "_view_module": "@jupyter-widgets/controls",
            "_view_module_version": "1.5.0",
            "_view_name": "HTMLView",
            "description": "",
            "description_tooltip": null,
            "layout": "IPY_MODEL_f652ea3e007c42669e445a7247bb0430",
            "placeholder": "​",
            "style": "IPY_MODEL_527bf8b3612b4da89479424c5b66681e",
            "value": "Downloading: 100%"
          }
        },
        "045273b88fa04afba97bf7ba6027f164": {
          "model_module": "@jupyter-widgets/controls",
          "model_name": "FloatProgressModel",
          "model_module_version": "1.5.0",
          "state": {
            "_dom_classes": [],
            "_model_module": "@jupyter-widgets/controls",
            "_model_module_version": "1.5.0",
            "_model_name": "FloatProgressModel",
            "_view_count": null,
            "_view_module": "@jupyter-widgets/controls",
            "_view_module_version": "1.5.0",
            "_view_name": "ProgressView",
            "bar_style": "success",
            "description": "",
            "description_tooltip": null,
            "layout": "IPY_MODEL_708ff309676040119bccd6f21d1684f6",
            "max": 268,
            "min": 0,
            "orientation": "horizontal",
            "style": "IPY_MODEL_6a8694b9181f4828ba3ef4ff828fd1c3",
            "value": 268
          }
        },
        "4847949da7b64782895b4fca8b432ec8": {
          "model_module": "@jupyter-widgets/controls",
          "model_name": "HTMLModel",
          "model_module_version": "1.5.0",
          "state": {
            "_dom_classes": [],
            "_model_module": "@jupyter-widgets/controls",
            "_model_module_version": "1.5.0",
            "_model_name": "HTMLModel",
            "_view_count": null,
            "_view_module": "@jupyter-widgets/controls",
            "_view_module_version": "1.5.0",
            "_view_name": "HTMLView",
            "description": "",
            "description_tooltip": null,
            "layout": "IPY_MODEL_90dbfe5bab604315b329a6a8fcf131b1",
            "placeholder": "​",
            "style": "IPY_MODEL_b1a51bfb07774b7bac783d1c4d5a680c",
            "value": " 268/268 [00:00&lt;00:00, 11.2kB/s]"
          }
        },
        "427b99cf8b964a59bbbf0b4d04504906": {
          "model_module": "@jupyter-widgets/base",
          "model_name": "LayoutModel",
          "model_module_version": "1.2.0",
          "state": {
            "_model_module": "@jupyter-widgets/base",
            "_model_module_version": "1.2.0",
            "_model_name": "LayoutModel",
            "_view_count": null,
            "_view_module": "@jupyter-widgets/base",
            "_view_module_version": "1.2.0",
            "_view_name": "LayoutView",
            "align_content": null,
            "align_items": null,
            "align_self": null,
            "border": null,
            "bottom": null,
            "display": null,
            "flex": null,
            "flex_flow": null,
            "grid_area": null,
            "grid_auto_columns": null,
            "grid_auto_flow": null,
            "grid_auto_rows": null,
            "grid_column": null,
            "grid_gap": null,
            "grid_row": null,
            "grid_template_areas": null,
            "grid_template_columns": null,
            "grid_template_rows": null,
            "height": null,
            "justify_content": null,
            "justify_items": null,
            "left": null,
            "margin": null,
            "max_height": null,
            "max_width": null,
            "min_height": null,
            "min_width": null,
            "object_fit": null,
            "object_position": null,
            "order": null,
            "overflow": null,
            "overflow_x": null,
            "overflow_y": null,
            "padding": null,
            "right": null,
            "top": null,
            "visibility": null,
            "width": null
          }
        },
        "f652ea3e007c42669e445a7247bb0430": {
          "model_module": "@jupyter-widgets/base",
          "model_name": "LayoutModel",
          "model_module_version": "1.2.0",
          "state": {
            "_model_module": "@jupyter-widgets/base",
            "_model_module_version": "1.2.0",
            "_model_name": "LayoutModel",
            "_view_count": null,
            "_view_module": "@jupyter-widgets/base",
            "_view_module_version": "1.2.0",
            "_view_name": "LayoutView",
            "align_content": null,
            "align_items": null,
            "align_self": null,
            "border": null,
            "bottom": null,
            "display": null,
            "flex": null,
            "flex_flow": null,
            "grid_area": null,
            "grid_auto_columns": null,
            "grid_auto_flow": null,
            "grid_auto_rows": null,
            "grid_column": null,
            "grid_gap": null,
            "grid_row": null,
            "grid_template_areas": null,
            "grid_template_columns": null,
            "grid_template_rows": null,
            "height": null,
            "justify_content": null,
            "justify_items": null,
            "left": null,
            "margin": null,
            "max_height": null,
            "max_width": null,
            "min_height": null,
            "min_width": null,
            "object_fit": null,
            "object_position": null,
            "order": null,
            "overflow": null,
            "overflow_x": null,
            "overflow_y": null,
            "padding": null,
            "right": null,
            "top": null,
            "visibility": null,
            "width": null
          }
        },
        "527bf8b3612b4da89479424c5b66681e": {
          "model_module": "@jupyter-widgets/controls",
          "model_name": "DescriptionStyleModel",
          "model_module_version": "1.5.0",
          "state": {
            "_model_module": "@jupyter-widgets/controls",
            "_model_module_version": "1.5.0",
            "_model_name": "DescriptionStyleModel",
            "_view_count": null,
            "_view_module": "@jupyter-widgets/base",
            "_view_module_version": "1.2.0",
            "_view_name": "StyleView",
            "description_width": ""
          }
        },
        "708ff309676040119bccd6f21d1684f6": {
          "model_module": "@jupyter-widgets/base",
          "model_name": "LayoutModel",
          "model_module_version": "1.2.0",
          "state": {
            "_model_module": "@jupyter-widgets/base",
            "_model_module_version": "1.2.0",
            "_model_name": "LayoutModel",
            "_view_count": null,
            "_view_module": "@jupyter-widgets/base",
            "_view_module_version": "1.2.0",
            "_view_name": "LayoutView",
            "align_content": null,
            "align_items": null,
            "align_self": null,
            "border": null,
            "bottom": null,
            "display": null,
            "flex": null,
            "flex_flow": null,
            "grid_area": null,
            "grid_auto_columns": null,
            "grid_auto_flow": null,
            "grid_auto_rows": null,
            "grid_column": null,
            "grid_gap": null,
            "grid_row": null,
            "grid_template_areas": null,
            "grid_template_columns": null,
            "grid_template_rows": null,
            "height": null,
            "justify_content": null,
            "justify_items": null,
            "left": null,
            "margin": null,
            "max_height": null,
            "max_width": null,
            "min_height": null,
            "min_width": null,
            "object_fit": null,
            "object_position": null,
            "order": null,
            "overflow": null,
            "overflow_x": null,
            "overflow_y": null,
            "padding": null,
            "right": null,
            "top": null,
            "visibility": null,
            "width": null
          }
        },
        "6a8694b9181f4828ba3ef4ff828fd1c3": {
          "model_module": "@jupyter-widgets/controls",
          "model_name": "ProgressStyleModel",
          "model_module_version": "1.5.0",
          "state": {
            "_model_module": "@jupyter-widgets/controls",
            "_model_module_version": "1.5.0",
            "_model_name": "ProgressStyleModel",
            "_view_count": null,
            "_view_module": "@jupyter-widgets/base",
            "_view_module_version": "1.2.0",
            "_view_name": "StyleView",
            "bar_color": null,
            "description_width": ""
          }
        },
        "90dbfe5bab604315b329a6a8fcf131b1": {
          "model_module": "@jupyter-widgets/base",
          "model_name": "LayoutModel",
          "model_module_version": "1.2.0",
          "state": {
            "_model_module": "@jupyter-widgets/base",
            "_model_module_version": "1.2.0",
            "_model_name": "LayoutModel",
            "_view_count": null,
            "_view_module": "@jupyter-widgets/base",
            "_view_module_version": "1.2.0",
            "_view_name": "LayoutView",
            "align_content": null,
            "align_items": null,
            "align_self": null,
            "border": null,
            "bottom": null,
            "display": null,
            "flex": null,
            "flex_flow": null,
            "grid_area": null,
            "grid_auto_columns": null,
            "grid_auto_flow": null,
            "grid_auto_rows": null,
            "grid_column": null,
            "grid_gap": null,
            "grid_row": null,
            "grid_template_areas": null,
            "grid_template_columns": null,
            "grid_template_rows": null,
            "height": null,
            "justify_content": null,
            "justify_items": null,
            "left": null,
            "margin": null,
            "max_height": null,
            "max_width": null,
            "min_height": null,
            "min_width": null,
            "object_fit": null,
            "object_position": null,
            "order": null,
            "overflow": null,
            "overflow_x": null,
            "overflow_y": null,
            "padding": null,
            "right": null,
            "top": null,
            "visibility": null,
            "width": null
          }
        },
        "b1a51bfb07774b7bac783d1c4d5a680c": {
          "model_module": "@jupyter-widgets/controls",
          "model_name": "DescriptionStyleModel",
          "model_module_version": "1.5.0",
          "state": {
            "_model_module": "@jupyter-widgets/controls",
            "_model_module_version": "1.5.0",
            "_model_name": "DescriptionStyleModel",
            "_view_count": null,
            "_view_module": "@jupyter-widgets/base",
            "_view_module_version": "1.2.0",
            "_view_name": "StyleView",
            "description_width": ""
          }
        },
        "6ca0c9b3d250425b9597de9baa6bd77b": {
          "model_module": "@jupyter-widgets/controls",
          "model_name": "HBoxModel",
          "model_module_version": "1.5.0",
          "state": {
            "_dom_classes": [],
            "_model_module": "@jupyter-widgets/controls",
            "_model_module_version": "1.5.0",
            "_model_name": "HBoxModel",
            "_view_count": null,
            "_view_module": "@jupyter-widgets/controls",
            "_view_module_version": "1.5.0",
            "_view_name": "HBoxView",
            "box_style": "",
            "children": [
              "IPY_MODEL_b7d46c7f5da646eba0ed9e38fed6b4ee",
              "IPY_MODEL_7291673613bb43848bec1abee7447078",
              "IPY_MODEL_5c49d625a7f742f1a64820bc6f749f3a"
            ],
            "layout": "IPY_MODEL_a6a5bcb980df41d1b3e7b581701eae16"
          }
        },
        "b7d46c7f5da646eba0ed9e38fed6b4ee": {
          "model_module": "@jupyter-widgets/controls",
          "model_name": "HTMLModel",
          "model_module_version": "1.5.0",
          "state": {
            "_dom_classes": [],
            "_model_module": "@jupyter-widgets/controls",
            "_model_module_version": "1.5.0",
            "_model_name": "HTMLModel",
            "_view_count": null,
            "_view_module": "@jupyter-widgets/controls",
            "_view_module_version": "1.5.0",
            "_view_name": "HTMLView",
            "description": "",
            "description_tooltip": null,
            "layout": "IPY_MODEL_6412d390b2ce416fae910d689c3f6e70",
            "placeholder": "​",
            "style": "IPY_MODEL_255c276a050446ed9df81f8eeb7c1178",
            "value": "Downloading: 100%"
          }
        },
        "7291673613bb43848bec1abee7447078": {
          "model_module": "@jupyter-widgets/controls",
          "model_name": "FloatProgressModel",
          "model_module_version": "1.5.0",
          "state": {
            "_dom_classes": [],
            "_model_module": "@jupyter-widgets/controls",
            "_model_module_version": "1.5.0",
            "_model_name": "FloatProgressModel",
            "_view_count": null,
            "_view_module": "@jupyter-widgets/controls",
            "_view_module_version": "1.5.0",
            "_view_name": "ProgressView",
            "bar_style": "success",
            "description": "",
            "description_tooltip": null,
            "layout": "IPY_MODEL_ddd975596c234b0eacc40ef18ef40778",
            "max": 85,
            "min": 0,
            "orientation": "horizontal",
            "style": "IPY_MODEL_a5fd824b8eb64bb7b8d83354961927e6",
            "value": 85
          }
        },
        "5c49d625a7f742f1a64820bc6f749f3a": {
          "model_module": "@jupyter-widgets/controls",
          "model_name": "HTMLModel",
          "model_module_version": "1.5.0",
          "state": {
            "_dom_classes": [],
            "_model_module": "@jupyter-widgets/controls",
            "_model_module_version": "1.5.0",
            "_model_name": "HTMLModel",
            "_view_count": null,
            "_view_module": "@jupyter-widgets/controls",
            "_view_module_version": "1.5.0",
            "_view_name": "HTMLView",
            "description": "",
            "description_tooltip": null,
            "layout": "IPY_MODEL_17e3d063396848548af91c55c8f8e282",
            "placeholder": "​",
            "style": "IPY_MODEL_a3b48bc669674ff2a0bcce75a50e81eb",
            "value": " 85.0/85.0 [00:00&lt;00:00, 3.59kB/s]"
          }
        },
        "a6a5bcb980df41d1b3e7b581701eae16": {
          "model_module": "@jupyter-widgets/base",
          "model_name": "LayoutModel",
          "model_module_version": "1.2.0",
          "state": {
            "_model_module": "@jupyter-widgets/base",
            "_model_module_version": "1.2.0",
            "_model_name": "LayoutModel",
            "_view_count": null,
            "_view_module": "@jupyter-widgets/base",
            "_view_module_version": "1.2.0",
            "_view_name": "LayoutView",
            "align_content": null,
            "align_items": null,
            "align_self": null,
            "border": null,
            "bottom": null,
            "display": null,
            "flex": null,
            "flex_flow": null,
            "grid_area": null,
            "grid_auto_columns": null,
            "grid_auto_flow": null,
            "grid_auto_rows": null,
            "grid_column": null,
            "grid_gap": null,
            "grid_row": null,
            "grid_template_areas": null,
            "grid_template_columns": null,
            "grid_template_rows": null,
            "height": null,
            "justify_content": null,
            "justify_items": null,
            "left": null,
            "margin": null,
            "max_height": null,
            "max_width": null,
            "min_height": null,
            "min_width": null,
            "object_fit": null,
            "object_position": null,
            "order": null,
            "overflow": null,
            "overflow_x": null,
            "overflow_y": null,
            "padding": null,
            "right": null,
            "top": null,
            "visibility": null,
            "width": null
          }
        },
        "6412d390b2ce416fae910d689c3f6e70": {
          "model_module": "@jupyter-widgets/base",
          "model_name": "LayoutModel",
          "model_module_version": "1.2.0",
          "state": {
            "_model_module": "@jupyter-widgets/base",
            "_model_module_version": "1.2.0",
            "_model_name": "LayoutModel",
            "_view_count": null,
            "_view_module": "@jupyter-widgets/base",
            "_view_module_version": "1.2.0",
            "_view_name": "LayoutView",
            "align_content": null,
            "align_items": null,
            "align_self": null,
            "border": null,
            "bottom": null,
            "display": null,
            "flex": null,
            "flex_flow": null,
            "grid_area": null,
            "grid_auto_columns": null,
            "grid_auto_flow": null,
            "grid_auto_rows": null,
            "grid_column": null,
            "grid_gap": null,
            "grid_row": null,
            "grid_template_areas": null,
            "grid_template_columns": null,
            "grid_template_rows": null,
            "height": null,
            "justify_content": null,
            "justify_items": null,
            "left": null,
            "margin": null,
            "max_height": null,
            "max_width": null,
            "min_height": null,
            "min_width": null,
            "object_fit": null,
            "object_position": null,
            "order": null,
            "overflow": null,
            "overflow_x": null,
            "overflow_y": null,
            "padding": null,
            "right": null,
            "top": null,
            "visibility": null,
            "width": null
          }
        },
        "255c276a050446ed9df81f8eeb7c1178": {
          "model_module": "@jupyter-widgets/controls",
          "model_name": "DescriptionStyleModel",
          "model_module_version": "1.5.0",
          "state": {
            "_model_module": "@jupyter-widgets/controls",
            "_model_module_version": "1.5.0",
            "_model_name": "DescriptionStyleModel",
            "_view_count": null,
            "_view_module": "@jupyter-widgets/base",
            "_view_module_version": "1.2.0",
            "_view_name": "StyleView",
            "description_width": ""
          }
        },
        "ddd975596c234b0eacc40ef18ef40778": {
          "model_module": "@jupyter-widgets/base",
          "model_name": "LayoutModel",
          "model_module_version": "1.2.0",
          "state": {
            "_model_module": "@jupyter-widgets/base",
            "_model_module_version": "1.2.0",
            "_model_name": "LayoutModel",
            "_view_count": null,
            "_view_module": "@jupyter-widgets/base",
            "_view_module_version": "1.2.0",
            "_view_name": "LayoutView",
            "align_content": null,
            "align_items": null,
            "align_self": null,
            "border": null,
            "bottom": null,
            "display": null,
            "flex": null,
            "flex_flow": null,
            "grid_area": null,
            "grid_auto_columns": null,
            "grid_auto_flow": null,
            "grid_auto_rows": null,
            "grid_column": null,
            "grid_gap": null,
            "grid_row": null,
            "grid_template_areas": null,
            "grid_template_columns": null,
            "grid_template_rows": null,
            "height": null,
            "justify_content": null,
            "justify_items": null,
            "left": null,
            "margin": null,
            "max_height": null,
            "max_width": null,
            "min_height": null,
            "min_width": null,
            "object_fit": null,
            "object_position": null,
            "order": null,
            "overflow": null,
            "overflow_x": null,
            "overflow_y": null,
            "padding": null,
            "right": null,
            "top": null,
            "visibility": null,
            "width": null
          }
        },
        "a5fd824b8eb64bb7b8d83354961927e6": {
          "model_module": "@jupyter-widgets/controls",
          "model_name": "ProgressStyleModel",
          "model_module_version": "1.5.0",
          "state": {
            "_model_module": "@jupyter-widgets/controls",
            "_model_module_version": "1.5.0",
            "_model_name": "ProgressStyleModel",
            "_view_count": null,
            "_view_module": "@jupyter-widgets/base",
            "_view_module_version": "1.2.0",
            "_view_name": "StyleView",
            "bar_color": null,
            "description_width": ""
          }
        },
        "17e3d063396848548af91c55c8f8e282": {
          "model_module": "@jupyter-widgets/base",
          "model_name": "LayoutModel",
          "model_module_version": "1.2.0",
          "state": {
            "_model_module": "@jupyter-widgets/base",
            "_model_module_version": "1.2.0",
            "_model_name": "LayoutModel",
            "_view_count": null,
            "_view_module": "@jupyter-widgets/base",
            "_view_module_version": "1.2.0",
            "_view_name": "LayoutView",
            "align_content": null,
            "align_items": null,
            "align_self": null,
            "border": null,
            "bottom": null,
            "display": null,
            "flex": null,
            "flex_flow": null,
            "grid_area": null,
            "grid_auto_columns": null,
            "grid_auto_flow": null,
            "grid_auto_rows": null,
            "grid_column": null,
            "grid_gap": null,
            "grid_row": null,
            "grid_template_areas": null,
            "grid_template_columns": null,
            "grid_template_rows": null,
            "height": null,
            "justify_content": null,
            "justify_items": null,
            "left": null,
            "margin": null,
            "max_height": null,
            "max_width": null,
            "min_height": null,
            "min_width": null,
            "object_fit": null,
            "object_position": null,
            "order": null,
            "overflow": null,
            "overflow_x": null,
            "overflow_y": null,
            "padding": null,
            "right": null,
            "top": null,
            "visibility": null,
            "width": null
          }
        },
        "a3b48bc669674ff2a0bcce75a50e81eb": {
          "model_module": "@jupyter-widgets/controls",
          "model_name": "DescriptionStyleModel",
          "model_module_version": "1.5.0",
          "state": {
            "_model_module": "@jupyter-widgets/controls",
            "_model_module_version": "1.5.0",
            "_model_name": "DescriptionStyleModel",
            "_view_count": null,
            "_view_module": "@jupyter-widgets/base",
            "_view_module_version": "1.2.0",
            "_view_name": "StyleView",
            "description_width": ""
          }
        },
        "8fbdb230253a4152be95bf6229049f09": {
          "model_module": "@jupyter-widgets/controls",
          "model_name": "HBoxModel",
          "model_module_version": "1.5.0",
          "state": {
            "_dom_classes": [],
            "_model_module": "@jupyter-widgets/controls",
            "_model_module_version": "1.5.0",
            "_model_name": "HBoxModel",
            "_view_count": null,
            "_view_module": "@jupyter-widgets/controls",
            "_view_module_version": "1.5.0",
            "_view_name": "HBoxView",
            "box_style": "",
            "children": [
              "IPY_MODEL_857f0c099d8549e98991a93c791db4c1",
              "IPY_MODEL_16561789e2b9417a80ddcb6ef9d8676a",
              "IPY_MODEL_050c9d6bfd1e4b6ebe67401183a8d397"
            ],
            "layout": "IPY_MODEL_5874591082f944ff9b32202a1edbfd60"
          }
        },
        "857f0c099d8549e98991a93c791db4c1": {
          "model_module": "@jupyter-widgets/controls",
          "model_name": "HTMLModel",
          "model_module_version": "1.5.0",
          "state": {
            "_dom_classes": [],
            "_model_module": "@jupyter-widgets/controls",
            "_model_module_version": "1.5.0",
            "_model_name": "HTMLModel",
            "_view_count": null,
            "_view_module": "@jupyter-widgets/controls",
            "_view_module_version": "1.5.0",
            "_view_name": "HTMLView",
            "description": "",
            "description_tooltip": null,
            "layout": "IPY_MODEL_8c968b160d3d4fbb998840734f9f07e4",
            "placeholder": "​",
            "style": "IPY_MODEL_d2fd7c9e56b1419f9d23a10c260a7c7d",
            "value": ""
          }
        },
        "16561789e2b9417a80ddcb6ef9d8676a": {
          "model_module": "@jupyter-widgets/controls",
          "model_name": "FloatProgressModel",
          "model_module_version": "1.5.0",
          "state": {
            "_dom_classes": [],
            "_model_module": "@jupyter-widgets/controls",
            "_model_module_version": "1.5.0",
            "_model_name": "FloatProgressModel",
            "_view_count": null,
            "_view_module": "@jupyter-widgets/controls",
            "_view_module_version": "1.5.0",
            "_view_name": "ProgressView",
            "bar_style": "success",
            "description": "",
            "description_tooltip": null,
            "layout": "IPY_MODEL_4a03fb6d945f4102bc4f7192195d810d",
            "max": 1,
            "min": 0,
            "orientation": "horizontal",
            "style": "IPY_MODEL_8ab2466b187047fbbe4d8b72455b1108",
            "value": 1
          }
        },
        "050c9d6bfd1e4b6ebe67401183a8d397": {
          "model_module": "@jupyter-widgets/controls",
          "model_name": "HTMLModel",
          "model_module_version": "1.5.0",
          "state": {
            "_dom_classes": [],
            "_model_module": "@jupyter-widgets/controls",
            "_model_module_version": "1.5.0",
            "_model_name": "HTMLModel",
            "_view_count": null,
            "_view_module": "@jupyter-widgets/controls",
            "_view_module_version": "1.5.0",
            "_view_name": "HTMLView",
            "description": "",
            "description_tooltip": null,
            "layout": "IPY_MODEL_89472d79793e4db9afa6845fb016c8ad",
            "placeholder": "​",
            "style": "IPY_MODEL_f5e79b8c3a634eae8a555f18b9dc9bd6",
            "value": " 1680/? [00:55&lt;00:00, 30.41ex/s]"
          }
        },
        "5874591082f944ff9b32202a1edbfd60": {
          "model_module": "@jupyter-widgets/base",
          "model_name": "LayoutModel",
          "model_module_version": "1.2.0",
          "state": {
            "_model_module": "@jupyter-widgets/base",
            "_model_module_version": "1.2.0",
            "_model_name": "LayoutModel",
            "_view_count": null,
            "_view_module": "@jupyter-widgets/base",
            "_view_module_version": "1.2.0",
            "_view_name": "LayoutView",
            "align_content": null,
            "align_items": null,
            "align_self": null,
            "border": null,
            "bottom": null,
            "display": null,
            "flex": null,
            "flex_flow": null,
            "grid_area": null,
            "grid_auto_columns": null,
            "grid_auto_flow": null,
            "grid_auto_rows": null,
            "grid_column": null,
            "grid_gap": null,
            "grid_row": null,
            "grid_template_areas": null,
            "grid_template_columns": null,
            "grid_template_rows": null,
            "height": null,
            "justify_content": null,
            "justify_items": null,
            "left": null,
            "margin": null,
            "max_height": null,
            "max_width": null,
            "min_height": null,
            "min_width": null,
            "object_fit": null,
            "object_position": null,
            "order": null,
            "overflow": null,
            "overflow_x": null,
            "overflow_y": null,
            "padding": null,
            "right": null,
            "top": null,
            "visibility": null,
            "width": null
          }
        },
        "8c968b160d3d4fbb998840734f9f07e4": {
          "model_module": "@jupyter-widgets/base",
          "model_name": "LayoutModel",
          "model_module_version": "1.2.0",
          "state": {
            "_model_module": "@jupyter-widgets/base",
            "_model_module_version": "1.2.0",
            "_model_name": "LayoutModel",
            "_view_count": null,
            "_view_module": "@jupyter-widgets/base",
            "_view_module_version": "1.2.0",
            "_view_name": "LayoutView",
            "align_content": null,
            "align_items": null,
            "align_self": null,
            "border": null,
            "bottom": null,
            "display": null,
            "flex": null,
            "flex_flow": null,
            "grid_area": null,
            "grid_auto_columns": null,
            "grid_auto_flow": null,
            "grid_auto_rows": null,
            "grid_column": null,
            "grid_gap": null,
            "grid_row": null,
            "grid_template_areas": null,
            "grid_template_columns": null,
            "grid_template_rows": null,
            "height": null,
            "justify_content": null,
            "justify_items": null,
            "left": null,
            "margin": null,
            "max_height": null,
            "max_width": null,
            "min_height": null,
            "min_width": null,
            "object_fit": null,
            "object_position": null,
            "order": null,
            "overflow": null,
            "overflow_x": null,
            "overflow_y": null,
            "padding": null,
            "right": null,
            "top": null,
            "visibility": null,
            "width": null
          }
        },
        "d2fd7c9e56b1419f9d23a10c260a7c7d": {
          "model_module": "@jupyter-widgets/controls",
          "model_name": "DescriptionStyleModel",
          "model_module_version": "1.5.0",
          "state": {
            "_model_module": "@jupyter-widgets/controls",
            "_model_module_version": "1.5.0",
            "_model_name": "DescriptionStyleModel",
            "_view_count": null,
            "_view_module": "@jupyter-widgets/base",
            "_view_module_version": "1.2.0",
            "_view_name": "StyleView",
            "description_width": ""
          }
        },
        "4a03fb6d945f4102bc4f7192195d810d": {
          "model_module": "@jupyter-widgets/base",
          "model_name": "LayoutModel",
          "model_module_version": "1.2.0",
          "state": {
            "_model_module": "@jupyter-widgets/base",
            "_model_module_version": "1.2.0",
            "_model_name": "LayoutModel",
            "_view_count": null,
            "_view_module": "@jupyter-widgets/base",
            "_view_module_version": "1.2.0",
            "_view_name": "LayoutView",
            "align_content": null,
            "align_items": null,
            "align_self": null,
            "border": null,
            "bottom": null,
            "display": null,
            "flex": null,
            "flex_flow": null,
            "grid_area": null,
            "grid_auto_columns": null,
            "grid_auto_flow": null,
            "grid_auto_rows": null,
            "grid_column": null,
            "grid_gap": null,
            "grid_row": null,
            "grid_template_areas": null,
            "grid_template_columns": null,
            "grid_template_rows": null,
            "height": null,
            "justify_content": null,
            "justify_items": null,
            "left": null,
            "margin": null,
            "max_height": null,
            "max_width": null,
            "min_height": null,
            "min_width": null,
            "object_fit": null,
            "object_position": null,
            "order": null,
            "overflow": null,
            "overflow_x": null,
            "overflow_y": null,
            "padding": null,
            "right": null,
            "top": null,
            "visibility": null,
            "width": "20px"
          }
        },
        "8ab2466b187047fbbe4d8b72455b1108": {
          "model_module": "@jupyter-widgets/controls",
          "model_name": "ProgressStyleModel",
          "model_module_version": "1.5.0",
          "state": {
            "_model_module": "@jupyter-widgets/controls",
            "_model_module_version": "1.5.0",
            "_model_name": "ProgressStyleModel",
            "_view_count": null,
            "_view_module": "@jupyter-widgets/base",
            "_view_module_version": "1.2.0",
            "_view_name": "StyleView",
            "bar_color": null,
            "description_width": ""
          }
        },
        "89472d79793e4db9afa6845fb016c8ad": {
          "model_module": "@jupyter-widgets/base",
          "model_name": "LayoutModel",
          "model_module_version": "1.2.0",
          "state": {
            "_model_module": "@jupyter-widgets/base",
            "_model_module_version": "1.2.0",
            "_model_name": "LayoutModel",
            "_view_count": null,
            "_view_module": "@jupyter-widgets/base",
            "_view_module_version": "1.2.0",
            "_view_name": "LayoutView",
            "align_content": null,
            "align_items": null,
            "align_self": null,
            "border": null,
            "bottom": null,
            "display": null,
            "flex": null,
            "flex_flow": null,
            "grid_area": null,
            "grid_auto_columns": null,
            "grid_auto_flow": null,
            "grid_auto_rows": null,
            "grid_column": null,
            "grid_gap": null,
            "grid_row": null,
            "grid_template_areas": null,
            "grid_template_columns": null,
            "grid_template_rows": null,
            "height": null,
            "justify_content": null,
            "justify_items": null,
            "left": null,
            "margin": null,
            "max_height": null,
            "max_width": null,
            "min_height": null,
            "min_width": null,
            "object_fit": null,
            "object_position": null,
            "order": null,
            "overflow": null,
            "overflow_x": null,
            "overflow_y": null,
            "padding": null,
            "right": null,
            "top": null,
            "visibility": null,
            "width": null
          }
        },
        "f5e79b8c3a634eae8a555f18b9dc9bd6": {
          "model_module": "@jupyter-widgets/controls",
          "model_name": "DescriptionStyleModel",
          "model_module_version": "1.5.0",
          "state": {
            "_model_module": "@jupyter-widgets/controls",
            "_model_module_version": "1.5.0",
            "_model_name": "DescriptionStyleModel",
            "_view_count": null,
            "_view_module": "@jupyter-widgets/base",
            "_view_module_version": "1.2.0",
            "_view_name": "StyleView",
            "description_width": ""
          }
        },
        "5bc06d2c6ded4bf986d6786c64b9daf5": {
          "model_module": "@jupyter-widgets/controls",
          "model_name": "HBoxModel",
          "model_module_version": "1.5.0",
          "state": {
            "_dom_classes": [],
            "_model_module": "@jupyter-widgets/controls",
            "_model_module_version": "1.5.0",
            "_model_name": "HBoxModel",
            "_view_count": null,
            "_view_module": "@jupyter-widgets/controls",
            "_view_module_version": "1.5.0",
            "_view_name": "HBoxView",
            "box_style": "",
            "children": [
              "IPY_MODEL_8e7f2e8b6f7348fbbdd2d38c64ff3abf",
              "IPY_MODEL_3d3db576466e4ff39a766c0adedc0c76",
              "IPY_MODEL_6c180118d2a843bb93a67198b789003a"
            ],
            "layout": "IPY_MODEL_b5365cb6459444eb8deca7ef29f93f30"
          }
        },
        "8e7f2e8b6f7348fbbdd2d38c64ff3abf": {
          "model_module": "@jupyter-widgets/controls",
          "model_name": "HTMLModel",
          "model_module_version": "1.5.0",
          "state": {
            "_dom_classes": [],
            "_model_module": "@jupyter-widgets/controls",
            "_model_module_version": "1.5.0",
            "_model_name": "HTMLModel",
            "_view_count": null,
            "_view_module": "@jupyter-widgets/controls",
            "_view_module_version": "1.5.0",
            "_view_name": "HTMLView",
            "description": "",
            "description_tooltip": null,
            "layout": "IPY_MODEL_b1c80bbe955f432594003571a6e24331",
            "placeholder": "​",
            "style": "IPY_MODEL_0a18f7c46e7543699c0e069cc02336b1",
            "value": "Downloading: "
          }
        },
        "3d3db576466e4ff39a766c0adedc0c76": {
          "model_module": "@jupyter-widgets/controls",
          "model_name": "FloatProgressModel",
          "model_module_version": "1.5.0",
          "state": {
            "_dom_classes": [],
            "_model_module": "@jupyter-widgets/controls",
            "_model_module_version": "1.5.0",
            "_model_name": "FloatProgressModel",
            "_view_count": null,
            "_view_module": "@jupyter-widgets/controls",
            "_view_module_version": "1.5.0",
            "_view_name": "ProgressView",
            "bar_style": "success",
            "description": "",
            "description_tooltip": null,
            "layout": "IPY_MODEL_4f46eb4ba77a4e6eb770766b629e8be7",
            "max": 2403,
            "min": 0,
            "orientation": "horizontal",
            "style": "IPY_MODEL_1b2e3d16ffdd4ecf9fa3dadae5dd035f",
            "value": 2403
          }
        },
        "6c180118d2a843bb93a67198b789003a": {
          "model_module": "@jupyter-widgets/controls",
          "model_name": "HTMLModel",
          "model_module_version": "1.5.0",
          "state": {
            "_dom_classes": [],
            "_model_module": "@jupyter-widgets/controls",
            "_model_module_version": "1.5.0",
            "_model_name": "HTMLModel",
            "_view_count": null,
            "_view_module": "@jupyter-widgets/controls",
            "_view_module_version": "1.5.0",
            "_view_name": "HTMLView",
            "description": "",
            "description_tooltip": null,
            "layout": "IPY_MODEL_d73896dfb4cc43f3aba09b6e39805e06",
            "placeholder": "​",
            "style": "IPY_MODEL_b9e18f70feba41f3bae1a106001f7072",
            "value": " 7.06k/? [00:00&lt;00:00, 343kB/s]"
          }
        },
        "b5365cb6459444eb8deca7ef29f93f30": {
          "model_module": "@jupyter-widgets/base",
          "model_name": "LayoutModel",
          "model_module_version": "1.2.0",
          "state": {
            "_model_module": "@jupyter-widgets/base",
            "_model_module_version": "1.2.0",
            "_model_name": "LayoutModel",
            "_view_count": null,
            "_view_module": "@jupyter-widgets/base",
            "_view_module_version": "1.2.0",
            "_view_name": "LayoutView",
            "align_content": null,
            "align_items": null,
            "align_self": null,
            "border": null,
            "bottom": null,
            "display": null,
            "flex": null,
            "flex_flow": null,
            "grid_area": null,
            "grid_auto_columns": null,
            "grid_auto_flow": null,
            "grid_auto_rows": null,
            "grid_column": null,
            "grid_gap": null,
            "grid_row": null,
            "grid_template_areas": null,
            "grid_template_columns": null,
            "grid_template_rows": null,
            "height": null,
            "justify_content": null,
            "justify_items": null,
            "left": null,
            "margin": null,
            "max_height": null,
            "max_width": null,
            "min_height": null,
            "min_width": null,
            "object_fit": null,
            "object_position": null,
            "order": null,
            "overflow": null,
            "overflow_x": null,
            "overflow_y": null,
            "padding": null,
            "right": null,
            "top": null,
            "visibility": null,
            "width": null
          }
        },
        "b1c80bbe955f432594003571a6e24331": {
          "model_module": "@jupyter-widgets/base",
          "model_name": "LayoutModel",
          "model_module_version": "1.2.0",
          "state": {
            "_model_module": "@jupyter-widgets/base",
            "_model_module_version": "1.2.0",
            "_model_name": "LayoutModel",
            "_view_count": null,
            "_view_module": "@jupyter-widgets/base",
            "_view_module_version": "1.2.0",
            "_view_name": "LayoutView",
            "align_content": null,
            "align_items": null,
            "align_self": null,
            "border": null,
            "bottom": null,
            "display": null,
            "flex": null,
            "flex_flow": null,
            "grid_area": null,
            "grid_auto_columns": null,
            "grid_auto_flow": null,
            "grid_auto_rows": null,
            "grid_column": null,
            "grid_gap": null,
            "grid_row": null,
            "grid_template_areas": null,
            "grid_template_columns": null,
            "grid_template_rows": null,
            "height": null,
            "justify_content": null,
            "justify_items": null,
            "left": null,
            "margin": null,
            "max_height": null,
            "max_width": null,
            "min_height": null,
            "min_width": null,
            "object_fit": null,
            "object_position": null,
            "order": null,
            "overflow": null,
            "overflow_x": null,
            "overflow_y": null,
            "padding": null,
            "right": null,
            "top": null,
            "visibility": null,
            "width": null
          }
        },
        "0a18f7c46e7543699c0e069cc02336b1": {
          "model_module": "@jupyter-widgets/controls",
          "model_name": "DescriptionStyleModel",
          "model_module_version": "1.5.0",
          "state": {
            "_model_module": "@jupyter-widgets/controls",
            "_model_module_version": "1.5.0",
            "_model_name": "DescriptionStyleModel",
            "_view_count": null,
            "_view_module": "@jupyter-widgets/base",
            "_view_module_version": "1.2.0",
            "_view_name": "StyleView",
            "description_width": ""
          }
        },
        "4f46eb4ba77a4e6eb770766b629e8be7": {
          "model_module": "@jupyter-widgets/base",
          "model_name": "LayoutModel",
          "model_module_version": "1.2.0",
          "state": {
            "_model_module": "@jupyter-widgets/base",
            "_model_module_version": "1.2.0",
            "_model_name": "LayoutModel",
            "_view_count": null,
            "_view_module": "@jupyter-widgets/base",
            "_view_module_version": "1.2.0",
            "_view_name": "LayoutView",
            "align_content": null,
            "align_items": null,
            "align_self": null,
            "border": null,
            "bottom": null,
            "display": null,
            "flex": null,
            "flex_flow": null,
            "grid_area": null,
            "grid_auto_columns": null,
            "grid_auto_flow": null,
            "grid_auto_rows": null,
            "grid_column": null,
            "grid_gap": null,
            "grid_row": null,
            "grid_template_areas": null,
            "grid_template_columns": null,
            "grid_template_rows": null,
            "height": null,
            "justify_content": null,
            "justify_items": null,
            "left": null,
            "margin": null,
            "max_height": null,
            "max_width": null,
            "min_height": null,
            "min_width": null,
            "object_fit": null,
            "object_position": null,
            "order": null,
            "overflow": null,
            "overflow_x": null,
            "overflow_y": null,
            "padding": null,
            "right": null,
            "top": null,
            "visibility": null,
            "width": null
          }
        },
        "1b2e3d16ffdd4ecf9fa3dadae5dd035f": {
          "model_module": "@jupyter-widgets/controls",
          "model_name": "ProgressStyleModel",
          "model_module_version": "1.5.0",
          "state": {
            "_model_module": "@jupyter-widgets/controls",
            "_model_module_version": "1.5.0",
            "_model_name": "ProgressStyleModel",
            "_view_count": null,
            "_view_module": "@jupyter-widgets/base",
            "_view_module_version": "1.2.0",
            "_view_name": "StyleView",
            "bar_color": null,
            "description_width": ""
          }
        },
        "d73896dfb4cc43f3aba09b6e39805e06": {
          "model_module": "@jupyter-widgets/base",
          "model_name": "LayoutModel",
          "model_module_version": "1.2.0",
          "state": {
            "_model_module": "@jupyter-widgets/base",
            "_model_module_version": "1.2.0",
            "_model_name": "LayoutModel",
            "_view_count": null,
            "_view_module": "@jupyter-widgets/base",
            "_view_module_version": "1.2.0",
            "_view_name": "LayoutView",
            "align_content": null,
            "align_items": null,
            "align_self": null,
            "border": null,
            "bottom": null,
            "display": null,
            "flex": null,
            "flex_flow": null,
            "grid_area": null,
            "grid_auto_columns": null,
            "grid_auto_flow": null,
            "grid_auto_rows": null,
            "grid_column": null,
            "grid_gap": null,
            "grid_row": null,
            "grid_template_areas": null,
            "grid_template_columns": null,
            "grid_template_rows": null,
            "height": null,
            "justify_content": null,
            "justify_items": null,
            "left": null,
            "margin": null,
            "max_height": null,
            "max_width": null,
            "min_height": null,
            "min_width": null,
            "object_fit": null,
            "object_position": null,
            "order": null,
            "overflow": null,
            "overflow_x": null,
            "overflow_y": null,
            "padding": null,
            "right": null,
            "top": null,
            "visibility": null,
            "width": null
          }
        },
        "b9e18f70feba41f3bae1a106001f7072": {
          "model_module": "@jupyter-widgets/controls",
          "model_name": "DescriptionStyleModel",
          "model_module_version": "1.5.0",
          "state": {
            "_model_module": "@jupyter-widgets/controls",
            "_model_module_version": "1.5.0",
            "_model_name": "DescriptionStyleModel",
            "_view_count": null,
            "_view_module": "@jupyter-widgets/base",
            "_view_module_version": "1.2.0",
            "_view_name": "StyleView",
            "description_width": ""
          }
        },
        "e81989089447485fb58e0ddc5fb9785f": {
          "model_module": "@jupyter-widgets/controls",
          "model_name": "HBoxModel",
          "model_module_version": "1.5.0",
          "state": {
            "_dom_classes": [],
            "_model_module": "@jupyter-widgets/controls",
            "_model_module_version": "1.5.0",
            "_model_name": "HBoxModel",
            "_view_count": null,
            "_view_module": "@jupyter-widgets/controls",
            "_view_module_version": "1.5.0",
            "_view_name": "HBoxView",
            "box_style": "",
            "children": [
              "IPY_MODEL_06ef8e7c571f4a33a5ba574017815f41",
              "IPY_MODEL_6dda07e9ac4a4790917c31b1af179f8e",
              "IPY_MODEL_3929a1cc7942458ba688fb7eb40357de"
            ],
            "layout": "IPY_MODEL_a81a3f8131b843439745800cde843a21"
          }
        },
        "06ef8e7c571f4a33a5ba574017815f41": {
          "model_module": "@jupyter-widgets/controls",
          "model_name": "HTMLModel",
          "model_module_version": "1.5.0",
          "state": {
            "_dom_classes": [],
            "_model_module": "@jupyter-widgets/controls",
            "_model_module_version": "1.5.0",
            "_model_name": "HTMLModel",
            "_view_count": null,
            "_view_module": "@jupyter-widgets/controls",
            "_view_module_version": "1.5.0",
            "_view_name": "HTMLView",
            "description": "",
            "description_tooltip": null,
            "layout": "IPY_MODEL_f1294ff43a864011a2b75cdbd1139ec5",
            "placeholder": "​",
            "style": "IPY_MODEL_744b571fc3cd4059a2afbf8a76abbb37",
            "value": "Downloading: "
          }
        },
        "6dda07e9ac4a4790917c31b1af179f8e": {
          "model_module": "@jupyter-widgets/controls",
          "model_name": "FloatProgressModel",
          "model_module_version": "1.5.0",
          "state": {
            "_dom_classes": [],
            "_model_module": "@jupyter-widgets/controls",
            "_model_module_version": "1.5.0",
            "_model_name": "FloatProgressModel",
            "_view_count": null,
            "_view_module": "@jupyter-widgets/controls",
            "_view_module_version": "1.5.0",
            "_view_name": "ProgressView",
            "bar_style": "success",
            "description": "",
            "description_tooltip": null,
            "layout": "IPY_MODEL_8be70fb018774de5808836afefa3816d",
            "max": 1060,
            "min": 0,
            "orientation": "horizontal",
            "style": "IPY_MODEL_cb99698f7c374f5783f4b9e8f31bdebd",
            "value": 1060
          }
        },
        "3929a1cc7942458ba688fb7eb40357de": {
          "model_module": "@jupyter-widgets/controls",
          "model_name": "HTMLModel",
          "model_module_version": "1.5.0",
          "state": {
            "_dom_classes": [],
            "_model_module": "@jupyter-widgets/controls",
            "_model_module_version": "1.5.0",
            "_model_name": "HTMLModel",
            "_view_count": null,
            "_view_module": "@jupyter-widgets/controls",
            "_view_module_version": "1.5.0",
            "_view_name": "HTMLView",
            "description": "",
            "description_tooltip": null,
            "layout": "IPY_MODEL_778b9a08fcf647658b3e634126d55c7d",
            "placeholder": "​",
            "style": "IPY_MODEL_2825c9c46bbe42ca8ac1650b90265ef7",
            "value": " 2.64k/? [00:00&lt;00:00, 148kB/s]"
          }
        },
        "a81a3f8131b843439745800cde843a21": {
          "model_module": "@jupyter-widgets/base",
          "model_name": "LayoutModel",
          "model_module_version": "1.2.0",
          "state": {
            "_model_module": "@jupyter-widgets/base",
            "_model_module_version": "1.2.0",
            "_model_name": "LayoutModel",
            "_view_count": null,
            "_view_module": "@jupyter-widgets/base",
            "_view_module_version": "1.2.0",
            "_view_name": "LayoutView",
            "align_content": null,
            "align_items": null,
            "align_self": null,
            "border": null,
            "bottom": null,
            "display": null,
            "flex": null,
            "flex_flow": null,
            "grid_area": null,
            "grid_auto_columns": null,
            "grid_auto_flow": null,
            "grid_auto_rows": null,
            "grid_column": null,
            "grid_gap": null,
            "grid_row": null,
            "grid_template_areas": null,
            "grid_template_columns": null,
            "grid_template_rows": null,
            "height": null,
            "justify_content": null,
            "justify_items": null,
            "left": null,
            "margin": null,
            "max_height": null,
            "max_width": null,
            "min_height": null,
            "min_width": null,
            "object_fit": null,
            "object_position": null,
            "order": null,
            "overflow": null,
            "overflow_x": null,
            "overflow_y": null,
            "padding": null,
            "right": null,
            "top": null,
            "visibility": null,
            "width": null
          }
        },
        "f1294ff43a864011a2b75cdbd1139ec5": {
          "model_module": "@jupyter-widgets/base",
          "model_name": "LayoutModel",
          "model_module_version": "1.2.0",
          "state": {
            "_model_module": "@jupyter-widgets/base",
            "_model_module_version": "1.2.0",
            "_model_name": "LayoutModel",
            "_view_count": null,
            "_view_module": "@jupyter-widgets/base",
            "_view_module_version": "1.2.0",
            "_view_name": "LayoutView",
            "align_content": null,
            "align_items": null,
            "align_self": null,
            "border": null,
            "bottom": null,
            "display": null,
            "flex": null,
            "flex_flow": null,
            "grid_area": null,
            "grid_auto_columns": null,
            "grid_auto_flow": null,
            "grid_auto_rows": null,
            "grid_column": null,
            "grid_gap": null,
            "grid_row": null,
            "grid_template_areas": null,
            "grid_template_columns": null,
            "grid_template_rows": null,
            "height": null,
            "justify_content": null,
            "justify_items": null,
            "left": null,
            "margin": null,
            "max_height": null,
            "max_width": null,
            "min_height": null,
            "min_width": null,
            "object_fit": null,
            "object_position": null,
            "order": null,
            "overflow": null,
            "overflow_x": null,
            "overflow_y": null,
            "padding": null,
            "right": null,
            "top": null,
            "visibility": null,
            "width": null
          }
        },
        "744b571fc3cd4059a2afbf8a76abbb37": {
          "model_module": "@jupyter-widgets/controls",
          "model_name": "DescriptionStyleModel",
          "model_module_version": "1.5.0",
          "state": {
            "_model_module": "@jupyter-widgets/controls",
            "_model_module_version": "1.5.0",
            "_model_name": "DescriptionStyleModel",
            "_view_count": null,
            "_view_module": "@jupyter-widgets/base",
            "_view_module_version": "1.2.0",
            "_view_name": "StyleView",
            "description_width": ""
          }
        },
        "8be70fb018774de5808836afefa3816d": {
          "model_module": "@jupyter-widgets/base",
          "model_name": "LayoutModel",
          "model_module_version": "1.2.0",
          "state": {
            "_model_module": "@jupyter-widgets/base",
            "_model_module_version": "1.2.0",
            "_model_name": "LayoutModel",
            "_view_count": null,
            "_view_module": "@jupyter-widgets/base",
            "_view_module_version": "1.2.0",
            "_view_name": "LayoutView",
            "align_content": null,
            "align_items": null,
            "align_self": null,
            "border": null,
            "bottom": null,
            "display": null,
            "flex": null,
            "flex_flow": null,
            "grid_area": null,
            "grid_auto_columns": null,
            "grid_auto_flow": null,
            "grid_auto_rows": null,
            "grid_column": null,
            "grid_gap": null,
            "grid_row": null,
            "grid_template_areas": null,
            "grid_template_columns": null,
            "grid_template_rows": null,
            "height": null,
            "justify_content": null,
            "justify_items": null,
            "left": null,
            "margin": null,
            "max_height": null,
            "max_width": null,
            "min_height": null,
            "min_width": null,
            "object_fit": null,
            "object_position": null,
            "order": null,
            "overflow": null,
            "overflow_x": null,
            "overflow_y": null,
            "padding": null,
            "right": null,
            "top": null,
            "visibility": null,
            "width": null
          }
        },
        "cb99698f7c374f5783f4b9e8f31bdebd": {
          "model_module": "@jupyter-widgets/controls",
          "model_name": "ProgressStyleModel",
          "model_module_version": "1.5.0",
          "state": {
            "_model_module": "@jupyter-widgets/controls",
            "_model_module_version": "1.5.0",
            "_model_name": "ProgressStyleModel",
            "_view_count": null,
            "_view_module": "@jupyter-widgets/base",
            "_view_module_version": "1.2.0",
            "_view_name": "StyleView",
            "bar_color": null,
            "description_width": ""
          }
        },
        "778b9a08fcf647658b3e634126d55c7d": {
          "model_module": "@jupyter-widgets/base",
          "model_name": "LayoutModel",
          "model_module_version": "1.2.0",
          "state": {
            "_model_module": "@jupyter-widgets/base",
            "_model_module_version": "1.2.0",
            "_model_name": "LayoutModel",
            "_view_count": null,
            "_view_module": "@jupyter-widgets/base",
            "_view_module_version": "1.2.0",
            "_view_name": "LayoutView",
            "align_content": null,
            "align_items": null,
            "align_self": null,
            "border": null,
            "bottom": null,
            "display": null,
            "flex": null,
            "flex_flow": null,
            "grid_area": null,
            "grid_auto_columns": null,
            "grid_auto_flow": null,
            "grid_auto_rows": null,
            "grid_column": null,
            "grid_gap": null,
            "grid_row": null,
            "grid_template_areas": null,
            "grid_template_columns": null,
            "grid_template_rows": null,
            "height": null,
            "justify_content": null,
            "justify_items": null,
            "left": null,
            "margin": null,
            "max_height": null,
            "max_width": null,
            "min_height": null,
            "min_width": null,
            "object_fit": null,
            "object_position": null,
            "order": null,
            "overflow": null,
            "overflow_x": null,
            "overflow_y": null,
            "padding": null,
            "right": null,
            "top": null,
            "visibility": null,
            "width": null
          }
        },
        "2825c9c46bbe42ca8ac1650b90265ef7": {
          "model_module": "@jupyter-widgets/controls",
          "model_name": "DescriptionStyleModel",
          "model_module_version": "1.5.0",
          "state": {
            "_model_module": "@jupyter-widgets/controls",
            "_model_module_version": "1.5.0",
            "_model_name": "DescriptionStyleModel",
            "_view_count": null,
            "_view_module": "@jupyter-widgets/base",
            "_view_module_version": "1.2.0",
            "_view_name": "StyleView",
            "description_width": ""
          }
        },
        "81e7e8633af44a4ba0857b451f4f32a7": {
          "model_module": "@jupyter-widgets/controls",
          "model_name": "HBoxModel",
          "model_module_version": "1.5.0",
          "state": {
            "_dom_classes": [],
            "_model_module": "@jupyter-widgets/controls",
            "_model_module_version": "1.5.0",
            "_model_name": "HBoxModel",
            "_view_count": null,
            "_view_module": "@jupyter-widgets/controls",
            "_view_module_version": "1.5.0",
            "_view_name": "HBoxView",
            "box_style": "",
            "children": [
              "IPY_MODEL_1a8a3919bd3249b6b9cc54737e5dbe54",
              "IPY_MODEL_f98cafaaac764838a915c26d5a11067a",
              "IPY_MODEL_d60543e3727b4a59a917477d702de165"
            ],
            "layout": "IPY_MODEL_47f2d26f4e6b4701a9d515e727248679"
          }
        },
        "1a8a3919bd3249b6b9cc54737e5dbe54": {
          "model_module": "@jupyter-widgets/controls",
          "model_name": "HTMLModel",
          "model_module_version": "1.5.0",
          "state": {
            "_dom_classes": [],
            "_model_module": "@jupyter-widgets/controls",
            "_model_module_version": "1.5.0",
            "_model_name": "HTMLModel",
            "_view_count": null,
            "_view_module": "@jupyter-widgets/controls",
            "_view_module_version": "1.5.0",
            "_view_name": "HTMLView",
            "description": "",
            "description_tooltip": null,
            "layout": "IPY_MODEL_ba1d9f261bd1497092dc4b4a81551b2b",
            "placeholder": "​",
            "style": "IPY_MODEL_b55eea3ce8324e51b16bc9b0430fe4a4",
            "value": "Downloading: 100%"
          }
        },
        "f98cafaaac764838a915c26d5a11067a": {
          "model_module": "@jupyter-widgets/controls",
          "model_name": "FloatProgressModel",
          "model_module_version": "1.5.0",
          "state": {
            "_dom_classes": [],
            "_model_module": "@jupyter-widgets/controls",
            "_model_module_version": "1.5.0",
            "_model_name": "FloatProgressModel",
            "_view_count": null,
            "_view_module": "@jupyter-widgets/controls",
            "_view_module_version": "1.5.0",
            "_view_name": "ProgressView",
            "bar_style": "success",
            "description": "",
            "description_tooltip": null,
            "layout": "IPY_MODEL_f1cc1fa9533e4a1db6b7385eff03d744",
            "max": 869007403,
            "min": 0,
            "orientation": "horizontal",
            "style": "IPY_MODEL_1bf92d9a2aeb44e1a408c07155040810",
            "value": 869007403
          }
        },
        "d60543e3727b4a59a917477d702de165": {
          "model_module": "@jupyter-widgets/controls",
          "model_name": "HTMLModel",
          "model_module_version": "1.5.0",
          "state": {
            "_dom_classes": [],
            "_model_module": "@jupyter-widgets/controls",
            "_model_module_version": "1.5.0",
            "_model_name": "HTMLModel",
            "_view_count": null,
            "_view_module": "@jupyter-widgets/controls",
            "_view_module_version": "1.5.0",
            "_view_name": "HTMLView",
            "description": "",
            "description_tooltip": null,
            "layout": "IPY_MODEL_5a58fedb90d249c6a6b8c9487cd80314",
            "placeholder": "​",
            "style": "IPY_MODEL_e85b218ebed44d0e8ac4172149c53b5c",
            "value": " 869M/869M [00:52&lt;00:00, 13.2MB/s]"
          }
        },
        "47f2d26f4e6b4701a9d515e727248679": {
          "model_module": "@jupyter-widgets/base",
          "model_name": "LayoutModel",
          "model_module_version": "1.2.0",
          "state": {
            "_model_module": "@jupyter-widgets/base",
            "_model_module_version": "1.2.0",
            "_model_name": "LayoutModel",
            "_view_count": null,
            "_view_module": "@jupyter-widgets/base",
            "_view_module_version": "1.2.0",
            "_view_name": "LayoutView",
            "align_content": null,
            "align_items": null,
            "align_self": null,
            "border": null,
            "bottom": null,
            "display": null,
            "flex": null,
            "flex_flow": null,
            "grid_area": null,
            "grid_auto_columns": null,
            "grid_auto_flow": null,
            "grid_auto_rows": null,
            "grid_column": null,
            "grid_gap": null,
            "grid_row": null,
            "grid_template_areas": null,
            "grid_template_columns": null,
            "grid_template_rows": null,
            "height": null,
            "justify_content": null,
            "justify_items": null,
            "left": null,
            "margin": null,
            "max_height": null,
            "max_width": null,
            "min_height": null,
            "min_width": null,
            "object_fit": null,
            "object_position": null,
            "order": null,
            "overflow": null,
            "overflow_x": null,
            "overflow_y": null,
            "padding": null,
            "right": null,
            "top": null,
            "visibility": null,
            "width": null
          }
        },
        "ba1d9f261bd1497092dc4b4a81551b2b": {
          "model_module": "@jupyter-widgets/base",
          "model_name": "LayoutModel",
          "model_module_version": "1.2.0",
          "state": {
            "_model_module": "@jupyter-widgets/base",
            "_model_module_version": "1.2.0",
            "_model_name": "LayoutModel",
            "_view_count": null,
            "_view_module": "@jupyter-widgets/base",
            "_view_module_version": "1.2.0",
            "_view_name": "LayoutView",
            "align_content": null,
            "align_items": null,
            "align_self": null,
            "border": null,
            "bottom": null,
            "display": null,
            "flex": null,
            "flex_flow": null,
            "grid_area": null,
            "grid_auto_columns": null,
            "grid_auto_flow": null,
            "grid_auto_rows": null,
            "grid_column": null,
            "grid_gap": null,
            "grid_row": null,
            "grid_template_areas": null,
            "grid_template_columns": null,
            "grid_template_rows": null,
            "height": null,
            "justify_content": null,
            "justify_items": null,
            "left": null,
            "margin": null,
            "max_height": null,
            "max_width": null,
            "min_height": null,
            "min_width": null,
            "object_fit": null,
            "object_position": null,
            "order": null,
            "overflow": null,
            "overflow_x": null,
            "overflow_y": null,
            "padding": null,
            "right": null,
            "top": null,
            "visibility": null,
            "width": null
          }
        },
        "b55eea3ce8324e51b16bc9b0430fe4a4": {
          "model_module": "@jupyter-widgets/controls",
          "model_name": "DescriptionStyleModel",
          "model_module_version": "1.5.0",
          "state": {
            "_model_module": "@jupyter-widgets/controls",
            "_model_module_version": "1.5.0",
            "_model_name": "DescriptionStyleModel",
            "_view_count": null,
            "_view_module": "@jupyter-widgets/base",
            "_view_module_version": "1.2.0",
            "_view_name": "StyleView",
            "description_width": ""
          }
        },
        "f1cc1fa9533e4a1db6b7385eff03d744": {
          "model_module": "@jupyter-widgets/base",
          "model_name": "LayoutModel",
          "model_module_version": "1.2.0",
          "state": {
            "_model_module": "@jupyter-widgets/base",
            "_model_module_version": "1.2.0",
            "_model_name": "LayoutModel",
            "_view_count": null,
            "_view_module": "@jupyter-widgets/base",
            "_view_module_version": "1.2.0",
            "_view_name": "LayoutView",
            "align_content": null,
            "align_items": null,
            "align_self": null,
            "border": null,
            "bottom": null,
            "display": null,
            "flex": null,
            "flex_flow": null,
            "grid_area": null,
            "grid_auto_columns": null,
            "grid_auto_flow": null,
            "grid_auto_rows": null,
            "grid_column": null,
            "grid_gap": null,
            "grid_row": null,
            "grid_template_areas": null,
            "grid_template_columns": null,
            "grid_template_rows": null,
            "height": null,
            "justify_content": null,
            "justify_items": null,
            "left": null,
            "margin": null,
            "max_height": null,
            "max_width": null,
            "min_height": null,
            "min_width": null,
            "object_fit": null,
            "object_position": null,
            "order": null,
            "overflow": null,
            "overflow_x": null,
            "overflow_y": null,
            "padding": null,
            "right": null,
            "top": null,
            "visibility": null,
            "width": null
          }
        },
        "1bf92d9a2aeb44e1a408c07155040810": {
          "model_module": "@jupyter-widgets/controls",
          "model_name": "ProgressStyleModel",
          "model_module_version": "1.5.0",
          "state": {
            "_model_module": "@jupyter-widgets/controls",
            "_model_module_version": "1.5.0",
            "_model_name": "ProgressStyleModel",
            "_view_count": null,
            "_view_module": "@jupyter-widgets/base",
            "_view_module_version": "1.2.0",
            "_view_name": "StyleView",
            "bar_color": null,
            "description_width": ""
          }
        },
        "5a58fedb90d249c6a6b8c9487cd80314": {
          "model_module": "@jupyter-widgets/base",
          "model_name": "LayoutModel",
          "model_module_version": "1.2.0",
          "state": {
            "_model_module": "@jupyter-widgets/base",
            "_model_module_version": "1.2.0",
            "_model_name": "LayoutModel",
            "_view_count": null,
            "_view_module": "@jupyter-widgets/base",
            "_view_module_version": "1.2.0",
            "_view_name": "LayoutView",
            "align_content": null,
            "align_items": null,
            "align_self": null,
            "border": null,
            "bottom": null,
            "display": null,
            "flex": null,
            "flex_flow": null,
            "grid_area": null,
            "grid_auto_columns": null,
            "grid_auto_flow": null,
            "grid_auto_rows": null,
            "grid_column": null,
            "grid_gap": null,
            "grid_row": null,
            "grid_template_areas": null,
            "grid_template_columns": null,
            "grid_template_rows": null,
            "height": null,
            "justify_content": null,
            "justify_items": null,
            "left": null,
            "margin": null,
            "max_height": null,
            "max_width": null,
            "min_height": null,
            "min_width": null,
            "object_fit": null,
            "object_position": null,
            "order": null,
            "overflow": null,
            "overflow_x": null,
            "overflow_y": null,
            "padding": null,
            "right": null,
            "top": null,
            "visibility": null,
            "width": null
          }
        },
        "e85b218ebed44d0e8ac4172149c53b5c": {
          "model_module": "@jupyter-widgets/controls",
          "model_name": "DescriptionStyleModel",
          "model_module_version": "1.5.0",
          "state": {
            "_model_module": "@jupyter-widgets/controls",
            "_model_module_version": "1.5.0",
            "_model_name": "DescriptionStyleModel",
            "_view_count": null,
            "_view_module": "@jupyter-widgets/base",
            "_view_module_version": "1.2.0",
            "_view_name": "StyleView",
            "description_width": ""
          }
        },
        "ea6a2a890e4f4671a402ac5455423656": {
          "model_module": "@jupyter-widgets/controls",
          "model_name": "HBoxModel",
          "model_module_version": "1.5.0",
          "state": {
            "_dom_classes": [],
            "_model_module": "@jupyter-widgets/controls",
            "_model_module_version": "1.5.0",
            "_model_name": "HBoxModel",
            "_view_count": null,
            "_view_module": "@jupyter-widgets/controls",
            "_view_module_version": "1.5.0",
            "_view_name": "HBoxView",
            "box_style": "",
            "children": [
              "IPY_MODEL_ef57e8e28687428f9b41edfa27e44cae",
              "IPY_MODEL_92b7eac3b0c24daa9d827a77ae1013b6",
              "IPY_MODEL_0716e72f939e42eca1d3a680ed4d0694"
            ],
            "layout": "IPY_MODEL_1c246fbf41ef4f31ba2e25518059730a"
          }
        },
        "ef57e8e28687428f9b41edfa27e44cae": {
          "model_module": "@jupyter-widgets/controls",
          "model_name": "HTMLModel",
          "model_module_version": "1.5.0",
          "state": {
            "_dom_classes": [],
            "_model_module": "@jupyter-widgets/controls",
            "_model_module_version": "1.5.0",
            "_model_name": "HTMLModel",
            "_view_count": null,
            "_view_module": "@jupyter-widgets/controls",
            "_view_module_version": "1.5.0",
            "_view_name": "HTMLView",
            "description": "",
            "description_tooltip": null,
            "layout": "IPY_MODEL_7bf4188c12d54abcb08610957b72e0eb",
            "placeholder": "​",
            "style": "IPY_MODEL_d8b8ea2a04bd4e9ca236d57ffdeee3bb",
            "value": ""
          }
        },
        "92b7eac3b0c24daa9d827a77ae1013b6": {
          "model_module": "@jupyter-widgets/controls",
          "model_name": "FloatProgressModel",
          "model_module_version": "1.5.0",
          "state": {
            "_dom_classes": [],
            "_model_module": "@jupyter-widgets/controls",
            "_model_module_version": "1.5.0",
            "_model_name": "FloatProgressModel",
            "_view_count": null,
            "_view_module": "@jupyter-widgets/controls",
            "_view_module_version": "1.5.0",
            "_view_name": "ProgressView",
            "bar_style": "info",
            "description": "",
            "description_tooltip": null,
            "layout": "IPY_MODEL_5f79f9eb86f243c89c37b75c6fedfbf4",
            "max": 1,
            "min": 0,
            "orientation": "horizontal",
            "style": "IPY_MODEL_e264dae79f894b1bba0b2152d8343beb",
            "value": 1
          }
        },
        "0716e72f939e42eca1d3a680ed4d0694": {
          "model_module": "@jupyter-widgets/controls",
          "model_name": "HTMLModel",
          "model_module_version": "1.5.0",
          "state": {
            "_dom_classes": [],
            "_model_module": "@jupyter-widgets/controls",
            "_model_module_version": "1.5.0",
            "_model_name": "HTMLModel",
            "_view_count": null,
            "_view_module": "@jupyter-widgets/controls",
            "_view_module_version": "1.5.0",
            "_view_name": "HTMLView",
            "description": "",
            "description_tooltip": null,
            "layout": "IPY_MODEL_4345cc50c19f475abc1b9ee3f4fc7521",
            "placeholder": "​",
            "style": "IPY_MODEL_1dda214b66014cf4b61a4ee5e2514bb2",
            "value": " 4565/0 [00:03&lt;00:00, 1600.32 examples/s]"
          }
        },
        "1c246fbf41ef4f31ba2e25518059730a": {
          "model_module": "@jupyter-widgets/base",
          "model_name": "LayoutModel",
          "model_module_version": "1.2.0",
          "state": {
            "_model_module": "@jupyter-widgets/base",
            "_model_module_version": "1.2.0",
            "_model_name": "LayoutModel",
            "_view_count": null,
            "_view_module": "@jupyter-widgets/base",
            "_view_module_version": "1.2.0",
            "_view_name": "LayoutView",
            "align_content": null,
            "align_items": null,
            "align_self": null,
            "border": null,
            "bottom": null,
            "display": null,
            "flex": null,
            "flex_flow": null,
            "grid_area": null,
            "grid_auto_columns": null,
            "grid_auto_flow": null,
            "grid_auto_rows": null,
            "grid_column": null,
            "grid_gap": null,
            "grid_row": null,
            "grid_template_areas": null,
            "grid_template_columns": null,
            "grid_template_rows": null,
            "height": null,
            "justify_content": null,
            "justify_items": null,
            "left": null,
            "margin": null,
            "max_height": null,
            "max_width": null,
            "min_height": null,
            "min_width": null,
            "object_fit": null,
            "object_position": null,
            "order": null,
            "overflow": null,
            "overflow_x": null,
            "overflow_y": null,
            "padding": null,
            "right": null,
            "top": null,
            "visibility": "hidden",
            "width": null
          }
        },
        "7bf4188c12d54abcb08610957b72e0eb": {
          "model_module": "@jupyter-widgets/base",
          "model_name": "LayoutModel",
          "model_module_version": "1.2.0",
          "state": {
            "_model_module": "@jupyter-widgets/base",
            "_model_module_version": "1.2.0",
            "_model_name": "LayoutModel",
            "_view_count": null,
            "_view_module": "@jupyter-widgets/base",
            "_view_module_version": "1.2.0",
            "_view_name": "LayoutView",
            "align_content": null,
            "align_items": null,
            "align_self": null,
            "border": null,
            "bottom": null,
            "display": null,
            "flex": null,
            "flex_flow": null,
            "grid_area": null,
            "grid_auto_columns": null,
            "grid_auto_flow": null,
            "grid_auto_rows": null,
            "grid_column": null,
            "grid_gap": null,
            "grid_row": null,
            "grid_template_areas": null,
            "grid_template_columns": null,
            "grid_template_rows": null,
            "height": null,
            "justify_content": null,
            "justify_items": null,
            "left": null,
            "margin": null,
            "max_height": null,
            "max_width": null,
            "min_height": null,
            "min_width": null,
            "object_fit": null,
            "object_position": null,
            "order": null,
            "overflow": null,
            "overflow_x": null,
            "overflow_y": null,
            "padding": null,
            "right": null,
            "top": null,
            "visibility": null,
            "width": null
          }
        },
        "d8b8ea2a04bd4e9ca236d57ffdeee3bb": {
          "model_module": "@jupyter-widgets/controls",
          "model_name": "DescriptionStyleModel",
          "model_module_version": "1.5.0",
          "state": {
            "_model_module": "@jupyter-widgets/controls",
            "_model_module_version": "1.5.0",
            "_model_name": "DescriptionStyleModel",
            "_view_count": null,
            "_view_module": "@jupyter-widgets/base",
            "_view_module_version": "1.2.0",
            "_view_name": "StyleView",
            "description_width": ""
          }
        },
        "5f79f9eb86f243c89c37b75c6fedfbf4": {
          "model_module": "@jupyter-widgets/base",
          "model_name": "LayoutModel",
          "model_module_version": "1.2.0",
          "state": {
            "_model_module": "@jupyter-widgets/base",
            "_model_module_version": "1.2.0",
            "_model_name": "LayoutModel",
            "_view_count": null,
            "_view_module": "@jupyter-widgets/base",
            "_view_module_version": "1.2.0",
            "_view_name": "LayoutView",
            "align_content": null,
            "align_items": null,
            "align_self": null,
            "border": null,
            "bottom": null,
            "display": null,
            "flex": null,
            "flex_flow": null,
            "grid_area": null,
            "grid_auto_columns": null,
            "grid_auto_flow": null,
            "grid_auto_rows": null,
            "grid_column": null,
            "grid_gap": null,
            "grid_row": null,
            "grid_template_areas": null,
            "grid_template_columns": null,
            "grid_template_rows": null,
            "height": null,
            "justify_content": null,
            "justify_items": null,
            "left": null,
            "margin": null,
            "max_height": null,
            "max_width": null,
            "min_height": null,
            "min_width": null,
            "object_fit": null,
            "object_position": null,
            "order": null,
            "overflow": null,
            "overflow_x": null,
            "overflow_y": null,
            "padding": null,
            "right": null,
            "top": null,
            "visibility": null,
            "width": "20px"
          }
        },
        "e264dae79f894b1bba0b2152d8343beb": {
          "model_module": "@jupyter-widgets/controls",
          "model_name": "ProgressStyleModel",
          "model_module_version": "1.5.0",
          "state": {
            "_model_module": "@jupyter-widgets/controls",
            "_model_module_version": "1.5.0",
            "_model_name": "ProgressStyleModel",
            "_view_count": null,
            "_view_module": "@jupyter-widgets/base",
            "_view_module_version": "1.2.0",
            "_view_name": "StyleView",
            "bar_color": null,
            "description_width": ""
          }
        },
        "4345cc50c19f475abc1b9ee3f4fc7521": {
          "model_module": "@jupyter-widgets/base",
          "model_name": "LayoutModel",
          "model_module_version": "1.2.0",
          "state": {
            "_model_module": "@jupyter-widgets/base",
            "_model_module_version": "1.2.0",
            "_model_name": "LayoutModel",
            "_view_count": null,
            "_view_module": "@jupyter-widgets/base",
            "_view_module_version": "1.2.0",
            "_view_name": "LayoutView",
            "align_content": null,
            "align_items": null,
            "align_self": null,
            "border": null,
            "bottom": null,
            "display": null,
            "flex": null,
            "flex_flow": null,
            "grid_area": null,
            "grid_auto_columns": null,
            "grid_auto_flow": null,
            "grid_auto_rows": null,
            "grid_column": null,
            "grid_gap": null,
            "grid_row": null,
            "grid_template_areas": null,
            "grid_template_columns": null,
            "grid_template_rows": null,
            "height": null,
            "justify_content": null,
            "justify_items": null,
            "left": null,
            "margin": null,
            "max_height": null,
            "max_width": null,
            "min_height": null,
            "min_width": null,
            "object_fit": null,
            "object_position": null,
            "order": null,
            "overflow": null,
            "overflow_x": null,
            "overflow_y": null,
            "padding": null,
            "right": null,
            "top": null,
            "visibility": null,
            "width": null
          }
        },
        "1dda214b66014cf4b61a4ee5e2514bb2": {
          "model_module": "@jupyter-widgets/controls",
          "model_name": "DescriptionStyleModel",
          "model_module_version": "1.5.0",
          "state": {
            "_model_module": "@jupyter-widgets/controls",
            "_model_module_version": "1.5.0",
            "_model_name": "DescriptionStyleModel",
            "_view_count": null,
            "_view_module": "@jupyter-widgets/base",
            "_view_module_version": "1.2.0",
            "_view_name": "StyleView",
            "description_width": ""
          }
        },
        "0516633842374d53b48fdeb0daa7acc5": {
          "model_module": "@jupyter-widgets/controls",
          "model_name": "HBoxModel",
          "model_module_version": "1.5.0",
          "state": {
            "_dom_classes": [],
            "_model_module": "@jupyter-widgets/controls",
            "_model_module_version": "1.5.0",
            "_model_name": "HBoxModel",
            "_view_count": null,
            "_view_module": "@jupyter-widgets/controls",
            "_view_module_version": "1.5.0",
            "_view_name": "HBoxView",
            "box_style": "",
            "children": [
              "IPY_MODEL_2de79071a3354561b3f0be3c85b67939",
              "IPY_MODEL_656d026c47ca42f9bdec01b6e4c14982",
              "IPY_MODEL_08f0d83cf90b49f7a84e377dd1870310"
            ],
            "layout": "IPY_MODEL_dda1849ab60b413f9e5110e4f35ecb4c"
          }
        },
        "2de79071a3354561b3f0be3c85b67939": {
          "model_module": "@jupyter-widgets/controls",
          "model_name": "HTMLModel",
          "model_module_version": "1.5.0",
          "state": {
            "_dom_classes": [],
            "_model_module": "@jupyter-widgets/controls",
            "_model_module_version": "1.5.0",
            "_model_name": "HTMLModel",
            "_view_count": null,
            "_view_module": "@jupyter-widgets/controls",
            "_view_module_version": "1.5.0",
            "_view_name": "HTMLView",
            "description": "",
            "description_tooltip": null,
            "layout": "IPY_MODEL_f430bcc80f71494d81aba2d8f9d1e6ce",
            "placeholder": "​",
            "style": "IPY_MODEL_cfccd1e9ea56466894f4b5673ee02fad",
            "value": ""
          }
        },
        "656d026c47ca42f9bdec01b6e4c14982": {
          "model_module": "@jupyter-widgets/controls",
          "model_name": "FloatProgressModel",
          "model_module_version": "1.5.0",
          "state": {
            "_dom_classes": [],
            "_model_module": "@jupyter-widgets/controls",
            "_model_module_version": "1.5.0",
            "_model_name": "FloatProgressModel",
            "_view_count": null,
            "_view_module": "@jupyter-widgets/controls",
            "_view_module_version": "1.5.0",
            "_view_name": "ProgressView",
            "bar_style": "info",
            "description": "",
            "description_tooltip": null,
            "layout": "IPY_MODEL_418214883d2b416f828845776da84257",
            "max": 1,
            "min": 0,
            "orientation": "horizontal",
            "style": "IPY_MODEL_434245b037c6465bb851398ff902c9b0",
            "value": 1
          }
        },
        "08f0d83cf90b49f7a84e377dd1870310": {
          "model_module": "@jupyter-widgets/controls",
          "model_name": "HTMLModel",
          "model_module_version": "1.5.0",
          "state": {
            "_dom_classes": [],
            "_model_module": "@jupyter-widgets/controls",
            "_model_module_version": "1.5.0",
            "_model_name": "HTMLModel",
            "_view_count": null,
            "_view_module": "@jupyter-widgets/controls",
            "_view_module_version": "1.5.0",
            "_view_name": "HTMLView",
            "description": "",
            "description_tooltip": null,
            "layout": "IPY_MODEL_63637a405ee149a2868fb4a995ec1ed1",
            "placeholder": "​",
            "style": "IPY_MODEL_f13a083a1a2d4ee59169e1f7f6c6091f",
            "value": " 1656/0 [00:01&lt;00:00, 1601.49 examples/s]"
          }
        },
        "dda1849ab60b413f9e5110e4f35ecb4c": {
          "model_module": "@jupyter-widgets/base",
          "model_name": "LayoutModel",
          "model_module_version": "1.2.0",
          "state": {
            "_model_module": "@jupyter-widgets/base",
            "_model_module_version": "1.2.0",
            "_model_name": "LayoutModel",
            "_view_count": null,
            "_view_module": "@jupyter-widgets/base",
            "_view_module_version": "1.2.0",
            "_view_name": "LayoutView",
            "align_content": null,
            "align_items": null,
            "align_self": null,
            "border": null,
            "bottom": null,
            "display": null,
            "flex": null,
            "flex_flow": null,
            "grid_area": null,
            "grid_auto_columns": null,
            "grid_auto_flow": null,
            "grid_auto_rows": null,
            "grid_column": null,
            "grid_gap": null,
            "grid_row": null,
            "grid_template_areas": null,
            "grid_template_columns": null,
            "grid_template_rows": null,
            "height": null,
            "justify_content": null,
            "justify_items": null,
            "left": null,
            "margin": null,
            "max_height": null,
            "max_width": null,
            "min_height": null,
            "min_width": null,
            "object_fit": null,
            "object_position": null,
            "order": null,
            "overflow": null,
            "overflow_x": null,
            "overflow_y": null,
            "padding": null,
            "right": null,
            "top": null,
            "visibility": "hidden",
            "width": null
          }
        },
        "f430bcc80f71494d81aba2d8f9d1e6ce": {
          "model_module": "@jupyter-widgets/base",
          "model_name": "LayoutModel",
          "model_module_version": "1.2.0",
          "state": {
            "_model_module": "@jupyter-widgets/base",
            "_model_module_version": "1.2.0",
            "_model_name": "LayoutModel",
            "_view_count": null,
            "_view_module": "@jupyter-widgets/base",
            "_view_module_version": "1.2.0",
            "_view_name": "LayoutView",
            "align_content": null,
            "align_items": null,
            "align_self": null,
            "border": null,
            "bottom": null,
            "display": null,
            "flex": null,
            "flex_flow": null,
            "grid_area": null,
            "grid_auto_columns": null,
            "grid_auto_flow": null,
            "grid_auto_rows": null,
            "grid_column": null,
            "grid_gap": null,
            "grid_row": null,
            "grid_template_areas": null,
            "grid_template_columns": null,
            "grid_template_rows": null,
            "height": null,
            "justify_content": null,
            "justify_items": null,
            "left": null,
            "margin": null,
            "max_height": null,
            "max_width": null,
            "min_height": null,
            "min_width": null,
            "object_fit": null,
            "object_position": null,
            "order": null,
            "overflow": null,
            "overflow_x": null,
            "overflow_y": null,
            "padding": null,
            "right": null,
            "top": null,
            "visibility": null,
            "width": null
          }
        },
        "cfccd1e9ea56466894f4b5673ee02fad": {
          "model_module": "@jupyter-widgets/controls",
          "model_name": "DescriptionStyleModel",
          "model_module_version": "1.5.0",
          "state": {
            "_model_module": "@jupyter-widgets/controls",
            "_model_module_version": "1.5.0",
            "_model_name": "DescriptionStyleModel",
            "_view_count": null,
            "_view_module": "@jupyter-widgets/base",
            "_view_module_version": "1.2.0",
            "_view_name": "StyleView",
            "description_width": ""
          }
        },
        "418214883d2b416f828845776da84257": {
          "model_module": "@jupyter-widgets/base",
          "model_name": "LayoutModel",
          "model_module_version": "1.2.0",
          "state": {
            "_model_module": "@jupyter-widgets/base",
            "_model_module_version": "1.2.0",
            "_model_name": "LayoutModel",
            "_view_count": null,
            "_view_module": "@jupyter-widgets/base",
            "_view_module_version": "1.2.0",
            "_view_name": "LayoutView",
            "align_content": null,
            "align_items": null,
            "align_self": null,
            "border": null,
            "bottom": null,
            "display": null,
            "flex": null,
            "flex_flow": null,
            "grid_area": null,
            "grid_auto_columns": null,
            "grid_auto_flow": null,
            "grid_auto_rows": null,
            "grid_column": null,
            "grid_gap": null,
            "grid_row": null,
            "grid_template_areas": null,
            "grid_template_columns": null,
            "grid_template_rows": null,
            "height": null,
            "justify_content": null,
            "justify_items": null,
            "left": null,
            "margin": null,
            "max_height": null,
            "max_width": null,
            "min_height": null,
            "min_width": null,
            "object_fit": null,
            "object_position": null,
            "order": null,
            "overflow": null,
            "overflow_x": null,
            "overflow_y": null,
            "padding": null,
            "right": null,
            "top": null,
            "visibility": null,
            "width": "20px"
          }
        },
        "434245b037c6465bb851398ff902c9b0": {
          "model_module": "@jupyter-widgets/controls",
          "model_name": "ProgressStyleModel",
          "model_module_version": "1.5.0",
          "state": {
            "_model_module": "@jupyter-widgets/controls",
            "_model_module_version": "1.5.0",
            "_model_name": "ProgressStyleModel",
            "_view_count": null,
            "_view_module": "@jupyter-widgets/base",
            "_view_module_version": "1.2.0",
            "_view_name": "StyleView",
            "bar_color": null,
            "description_width": ""
          }
        },
        "63637a405ee149a2868fb4a995ec1ed1": {
          "model_module": "@jupyter-widgets/base",
          "model_name": "LayoutModel",
          "model_module_version": "1.2.0",
          "state": {
            "_model_module": "@jupyter-widgets/base",
            "_model_module_version": "1.2.0",
            "_model_name": "LayoutModel",
            "_view_count": null,
            "_view_module": "@jupyter-widgets/base",
            "_view_module_version": "1.2.0",
            "_view_name": "LayoutView",
            "align_content": null,
            "align_items": null,
            "align_self": null,
            "border": null,
            "bottom": null,
            "display": null,
            "flex": null,
            "flex_flow": null,
            "grid_area": null,
            "grid_auto_columns": null,
            "grid_auto_flow": null,
            "grid_auto_rows": null,
            "grid_column": null,
            "grid_gap": null,
            "grid_row": null,
            "grid_template_areas": null,
            "grid_template_columns": null,
            "grid_template_rows": null,
            "height": null,
            "justify_content": null,
            "justify_items": null,
            "left": null,
            "margin": null,
            "max_height": null,
            "max_width": null,
            "min_height": null,
            "min_width": null,
            "object_fit": null,
            "object_position": null,
            "order": null,
            "overflow": null,
            "overflow_x": null,
            "overflow_y": null,
            "padding": null,
            "right": null,
            "top": null,
            "visibility": null,
            "width": null
          }
        },
        "f13a083a1a2d4ee59169e1f7f6c6091f": {
          "model_module": "@jupyter-widgets/controls",
          "model_name": "DescriptionStyleModel",
          "model_module_version": "1.5.0",
          "state": {
            "_model_module": "@jupyter-widgets/controls",
            "_model_module_version": "1.5.0",
            "_model_name": "DescriptionStyleModel",
            "_view_count": null,
            "_view_module": "@jupyter-widgets/base",
            "_view_module_version": "1.2.0",
            "_view_name": "StyleView",
            "description_width": ""
          }
        },
        "d280926794394744b5215c98d0054aef": {
          "model_module": "@jupyter-widgets/controls",
          "model_name": "HBoxModel",
          "model_module_version": "1.5.0",
          "state": {
            "_dom_classes": [],
            "_model_module": "@jupyter-widgets/controls",
            "_model_module_version": "1.5.0",
            "_model_name": "HBoxModel",
            "_view_count": null,
            "_view_module": "@jupyter-widgets/controls",
            "_view_module_version": "1.5.0",
            "_view_name": "HBoxView",
            "box_style": "",
            "children": [
              "IPY_MODEL_dcc77778c2784c9ab8a0e4adcd598fb5",
              "IPY_MODEL_b5bac9a5a0a040e895284e4b48ec6385",
              "IPY_MODEL_03eecacce5d64086bc16296c6cfd11f6"
            ],
            "layout": "IPY_MODEL_44a10b6cb23f45b693128c7482f021a9"
          }
        },
        "dcc77778c2784c9ab8a0e4adcd598fb5": {
          "model_module": "@jupyter-widgets/controls",
          "model_name": "HTMLModel",
          "model_module_version": "1.5.0",
          "state": {
            "_dom_classes": [],
            "_model_module": "@jupyter-widgets/controls",
            "_model_module_version": "1.5.0",
            "_model_name": "HTMLModel",
            "_view_count": null,
            "_view_module": "@jupyter-widgets/controls",
            "_view_module_version": "1.5.0",
            "_view_name": "HTMLView",
            "description": "",
            "description_tooltip": null,
            "layout": "IPY_MODEL_fc175acb205b447b86c7801cb67b2977",
            "placeholder": "​",
            "style": "IPY_MODEL_d95f7bddc36b4e0292f916dd117004b1",
            "value": "100%"
          }
        },
        "b5bac9a5a0a040e895284e4b48ec6385": {
          "model_module": "@jupyter-widgets/controls",
          "model_name": "FloatProgressModel",
          "model_module_version": "1.5.0",
          "state": {
            "_dom_classes": [],
            "_model_module": "@jupyter-widgets/controls",
            "_model_module_version": "1.5.0",
            "_model_name": "FloatProgressModel",
            "_view_count": null,
            "_view_module": "@jupyter-widgets/controls",
            "_view_module_version": "1.5.0",
            "_view_name": "ProgressView",
            "bar_style": "success",
            "description": "",
            "description_tooltip": null,
            "layout": "IPY_MODEL_bb06f25b01ec42edb90c9d9f1d440955",
            "max": 2,
            "min": 0,
            "orientation": "horizontal",
            "style": "IPY_MODEL_0d087166b3e347ddb7d96208db36b1fd",
            "value": 2
          }
        },
        "03eecacce5d64086bc16296c6cfd11f6": {
          "model_module": "@jupyter-widgets/controls",
          "model_name": "HTMLModel",
          "model_module_version": "1.5.0",
          "state": {
            "_dom_classes": [],
            "_model_module": "@jupyter-widgets/controls",
            "_model_module_version": "1.5.0",
            "_model_name": "HTMLModel",
            "_view_count": null,
            "_view_module": "@jupyter-widgets/controls",
            "_view_module_version": "1.5.0",
            "_view_name": "HTMLView",
            "description": "",
            "description_tooltip": null,
            "layout": "IPY_MODEL_560fbd0c77c048189de75d250d39b97a",
            "placeholder": "​",
            "style": "IPY_MODEL_c891ea21d07e4275a5e60a512db03379",
            "value": " 2/2 [00:00&lt;00:00, 89.50it/s]"
          }
        },
        "44a10b6cb23f45b693128c7482f021a9": {
          "model_module": "@jupyter-widgets/base",
          "model_name": "LayoutModel",
          "model_module_version": "1.2.0",
          "state": {
            "_model_module": "@jupyter-widgets/base",
            "_model_module_version": "1.2.0",
            "_model_name": "LayoutModel",
            "_view_count": null,
            "_view_module": "@jupyter-widgets/base",
            "_view_module_version": "1.2.0",
            "_view_name": "LayoutView",
            "align_content": null,
            "align_items": null,
            "align_self": null,
            "border": null,
            "bottom": null,
            "display": null,
            "flex": null,
            "flex_flow": null,
            "grid_area": null,
            "grid_auto_columns": null,
            "grid_auto_flow": null,
            "grid_auto_rows": null,
            "grid_column": null,
            "grid_gap": null,
            "grid_row": null,
            "grid_template_areas": null,
            "grid_template_columns": null,
            "grid_template_rows": null,
            "height": null,
            "justify_content": null,
            "justify_items": null,
            "left": null,
            "margin": null,
            "max_height": null,
            "max_width": null,
            "min_height": null,
            "min_width": null,
            "object_fit": null,
            "object_position": null,
            "order": null,
            "overflow": null,
            "overflow_x": null,
            "overflow_y": null,
            "padding": null,
            "right": null,
            "top": null,
            "visibility": null,
            "width": null
          }
        },
        "fc175acb205b447b86c7801cb67b2977": {
          "model_module": "@jupyter-widgets/base",
          "model_name": "LayoutModel",
          "model_module_version": "1.2.0",
          "state": {
            "_model_module": "@jupyter-widgets/base",
            "_model_module_version": "1.2.0",
            "_model_name": "LayoutModel",
            "_view_count": null,
            "_view_module": "@jupyter-widgets/base",
            "_view_module_version": "1.2.0",
            "_view_name": "LayoutView",
            "align_content": null,
            "align_items": null,
            "align_self": null,
            "border": null,
            "bottom": null,
            "display": null,
            "flex": null,
            "flex_flow": null,
            "grid_area": null,
            "grid_auto_columns": null,
            "grid_auto_flow": null,
            "grid_auto_rows": null,
            "grid_column": null,
            "grid_gap": null,
            "grid_row": null,
            "grid_template_areas": null,
            "grid_template_columns": null,
            "grid_template_rows": null,
            "height": null,
            "justify_content": null,
            "justify_items": null,
            "left": null,
            "margin": null,
            "max_height": null,
            "max_width": null,
            "min_height": null,
            "min_width": null,
            "object_fit": null,
            "object_position": null,
            "order": null,
            "overflow": null,
            "overflow_x": null,
            "overflow_y": null,
            "padding": null,
            "right": null,
            "top": null,
            "visibility": null,
            "width": null
          }
        },
        "d95f7bddc36b4e0292f916dd117004b1": {
          "model_module": "@jupyter-widgets/controls",
          "model_name": "DescriptionStyleModel",
          "model_module_version": "1.5.0",
          "state": {
            "_model_module": "@jupyter-widgets/controls",
            "_model_module_version": "1.5.0",
            "_model_name": "DescriptionStyleModel",
            "_view_count": null,
            "_view_module": "@jupyter-widgets/base",
            "_view_module_version": "1.2.0",
            "_view_name": "StyleView",
            "description_width": ""
          }
        },
        "bb06f25b01ec42edb90c9d9f1d440955": {
          "model_module": "@jupyter-widgets/base",
          "model_name": "LayoutModel",
          "model_module_version": "1.2.0",
          "state": {
            "_model_module": "@jupyter-widgets/base",
            "_model_module_version": "1.2.0",
            "_model_name": "LayoutModel",
            "_view_count": null,
            "_view_module": "@jupyter-widgets/base",
            "_view_module_version": "1.2.0",
            "_view_name": "LayoutView",
            "align_content": null,
            "align_items": null,
            "align_self": null,
            "border": null,
            "bottom": null,
            "display": null,
            "flex": null,
            "flex_flow": null,
            "grid_area": null,
            "grid_auto_columns": null,
            "grid_auto_flow": null,
            "grid_auto_rows": null,
            "grid_column": null,
            "grid_gap": null,
            "grid_row": null,
            "grid_template_areas": null,
            "grid_template_columns": null,
            "grid_template_rows": null,
            "height": null,
            "justify_content": null,
            "justify_items": null,
            "left": null,
            "margin": null,
            "max_height": null,
            "max_width": null,
            "min_height": null,
            "min_width": null,
            "object_fit": null,
            "object_position": null,
            "order": null,
            "overflow": null,
            "overflow_x": null,
            "overflow_y": null,
            "padding": null,
            "right": null,
            "top": null,
            "visibility": null,
            "width": null
          }
        },
        "0d087166b3e347ddb7d96208db36b1fd": {
          "model_module": "@jupyter-widgets/controls",
          "model_name": "ProgressStyleModel",
          "model_module_version": "1.5.0",
          "state": {
            "_model_module": "@jupyter-widgets/controls",
            "_model_module_version": "1.5.0",
            "_model_name": "ProgressStyleModel",
            "_view_count": null,
            "_view_module": "@jupyter-widgets/base",
            "_view_module_version": "1.2.0",
            "_view_name": "StyleView",
            "bar_color": null,
            "description_width": ""
          }
        },
        "560fbd0c77c048189de75d250d39b97a": {
          "model_module": "@jupyter-widgets/base",
          "model_name": "LayoutModel",
          "model_module_version": "1.2.0",
          "state": {
            "_model_module": "@jupyter-widgets/base",
            "_model_module_version": "1.2.0",
            "_model_name": "LayoutModel",
            "_view_count": null,
            "_view_module": "@jupyter-widgets/base",
            "_view_module_version": "1.2.0",
            "_view_name": "LayoutView",
            "align_content": null,
            "align_items": null,
            "align_self": null,
            "border": null,
            "bottom": null,
            "display": null,
            "flex": null,
            "flex_flow": null,
            "grid_area": null,
            "grid_auto_columns": null,
            "grid_auto_flow": null,
            "grid_auto_rows": null,
            "grid_column": null,
            "grid_gap": null,
            "grid_row": null,
            "grid_template_areas": null,
            "grid_template_columns": null,
            "grid_template_rows": null,
            "height": null,
            "justify_content": null,
            "justify_items": null,
            "left": null,
            "margin": null,
            "max_height": null,
            "max_width": null,
            "min_height": null,
            "min_width": null,
            "object_fit": null,
            "object_position": null,
            "order": null,
            "overflow": null,
            "overflow_x": null,
            "overflow_y": null,
            "padding": null,
            "right": null,
            "top": null,
            "visibility": null,
            "width": null
          }
        },
        "c891ea21d07e4275a5e60a512db03379": {
          "model_module": "@jupyter-widgets/controls",
          "model_name": "DescriptionStyleModel",
          "model_module_version": "1.5.0",
          "state": {
            "_model_module": "@jupyter-widgets/controls",
            "_model_module_version": "1.5.0",
            "_model_name": "DescriptionStyleModel",
            "_view_count": null,
            "_view_module": "@jupyter-widgets/base",
            "_view_module_version": "1.2.0",
            "_view_name": "StyleView",
            "description_width": ""
          }
        },
        "1e6d60fa600449b5bf705b18f5429ca7": {
          "model_module": "@jupyter-widgets/controls",
          "model_name": "HBoxModel",
          "model_module_version": "1.5.0",
          "state": {
            "_dom_classes": [],
            "_model_module": "@jupyter-widgets/controls",
            "_model_module_version": "1.5.0",
            "_model_name": "HBoxModel",
            "_view_count": null,
            "_view_module": "@jupyter-widgets/controls",
            "_view_module_version": "1.5.0",
            "_view_name": "HBoxView",
            "box_style": "",
            "children": [
              "IPY_MODEL_f877f5444dd84e4eb3564c663f655a47",
              "IPY_MODEL_6715e84a48dd4e37aa87938c0973d3f9",
              "IPY_MODEL_1237dec7803449aba8b7a0cf65d1c321"
            ],
            "layout": "IPY_MODEL_7c37c35774e5455ca3c4a699851cbbb4"
          }
        },
        "f877f5444dd84e4eb3564c663f655a47": {
          "model_module": "@jupyter-widgets/controls",
          "model_name": "HTMLModel",
          "model_module_version": "1.5.0",
          "state": {
            "_dom_classes": [],
            "_model_module": "@jupyter-widgets/controls",
            "_model_module_version": "1.5.0",
            "_model_name": "HTMLModel",
            "_view_count": null,
            "_view_module": "@jupyter-widgets/controls",
            "_view_module_version": "1.5.0",
            "_view_name": "HTMLView",
            "description": "",
            "description_tooltip": null,
            "layout": "IPY_MODEL_67966f53486f446ebdea57c0f9415a90",
            "placeholder": "​",
            "style": "IPY_MODEL_45aa016ef6df41969ff9f1480a39a0f1",
            "value": ""
          }
        },
        "6715e84a48dd4e37aa87938c0973d3f9": {
          "model_module": "@jupyter-widgets/controls",
          "model_name": "FloatProgressModel",
          "model_module_version": "1.5.0",
          "state": {
            "_dom_classes": [],
            "_model_module": "@jupyter-widgets/controls",
            "_model_module_version": "1.5.0",
            "_model_name": "FloatProgressModel",
            "_view_count": null,
            "_view_module": "@jupyter-widgets/controls",
            "_view_module_version": "1.5.0",
            "_view_name": "ProgressView",
            "bar_style": "success",
            "description": "",
            "description_tooltip": null,
            "layout": "IPY_MODEL_8a5f444afab642e3b220c41410743c42",
            "max": 1,
            "min": 0,
            "orientation": "horizontal",
            "style": "IPY_MODEL_aa5ae57ac67942eab1cdf30430c122e8",
            "value": 1
          }
        },
        "1237dec7803449aba8b7a0cf65d1c321": {
          "model_module": "@jupyter-widgets/controls",
          "model_name": "HTMLModel",
          "model_module_version": "1.5.0",
          "state": {
            "_dom_classes": [],
            "_model_module": "@jupyter-widgets/controls",
            "_model_module_version": "1.5.0",
            "_model_name": "HTMLModel",
            "_view_count": null,
            "_view_module": "@jupyter-widgets/controls",
            "_view_module_version": "1.5.0",
            "_view_name": "HTMLView",
            "description": "",
            "description_tooltip": null,
            "layout": "IPY_MODEL_656901cda94e4cbebd056a3ce06c6604",
            "placeholder": "​",
            "style": "IPY_MODEL_002055663e184973ad0fd486ae97823a",
            "value": " 4620/? [00:00&lt;00:00, 13071.73ex/s]"
          }
        },
        "7c37c35774e5455ca3c4a699851cbbb4": {
          "model_module": "@jupyter-widgets/base",
          "model_name": "LayoutModel",
          "model_module_version": "1.2.0",
          "state": {
            "_model_module": "@jupyter-widgets/base",
            "_model_module_version": "1.2.0",
            "_model_name": "LayoutModel",
            "_view_count": null,
            "_view_module": "@jupyter-widgets/base",
            "_view_module_version": "1.2.0",
            "_view_name": "LayoutView",
            "align_content": null,
            "align_items": null,
            "align_self": null,
            "border": null,
            "bottom": null,
            "display": null,
            "flex": null,
            "flex_flow": null,
            "grid_area": null,
            "grid_auto_columns": null,
            "grid_auto_flow": null,
            "grid_auto_rows": null,
            "grid_column": null,
            "grid_gap": null,
            "grid_row": null,
            "grid_template_areas": null,
            "grid_template_columns": null,
            "grid_template_rows": null,
            "height": null,
            "justify_content": null,
            "justify_items": null,
            "left": null,
            "margin": null,
            "max_height": null,
            "max_width": null,
            "min_height": null,
            "min_width": null,
            "object_fit": null,
            "object_position": null,
            "order": null,
            "overflow": null,
            "overflow_x": null,
            "overflow_y": null,
            "padding": null,
            "right": null,
            "top": null,
            "visibility": null,
            "width": null
          }
        },
        "67966f53486f446ebdea57c0f9415a90": {
          "model_module": "@jupyter-widgets/base",
          "model_name": "LayoutModel",
          "model_module_version": "1.2.0",
          "state": {
            "_model_module": "@jupyter-widgets/base",
            "_model_module_version": "1.2.0",
            "_model_name": "LayoutModel",
            "_view_count": null,
            "_view_module": "@jupyter-widgets/base",
            "_view_module_version": "1.2.0",
            "_view_name": "LayoutView",
            "align_content": null,
            "align_items": null,
            "align_self": null,
            "border": null,
            "bottom": null,
            "display": null,
            "flex": null,
            "flex_flow": null,
            "grid_area": null,
            "grid_auto_columns": null,
            "grid_auto_flow": null,
            "grid_auto_rows": null,
            "grid_column": null,
            "grid_gap": null,
            "grid_row": null,
            "grid_template_areas": null,
            "grid_template_columns": null,
            "grid_template_rows": null,
            "height": null,
            "justify_content": null,
            "justify_items": null,
            "left": null,
            "margin": null,
            "max_height": null,
            "max_width": null,
            "min_height": null,
            "min_width": null,
            "object_fit": null,
            "object_position": null,
            "order": null,
            "overflow": null,
            "overflow_x": null,
            "overflow_y": null,
            "padding": null,
            "right": null,
            "top": null,
            "visibility": null,
            "width": null
          }
        },
        "45aa016ef6df41969ff9f1480a39a0f1": {
          "model_module": "@jupyter-widgets/controls",
          "model_name": "DescriptionStyleModel",
          "model_module_version": "1.5.0",
          "state": {
            "_model_module": "@jupyter-widgets/controls",
            "_model_module_version": "1.5.0",
            "_model_name": "DescriptionStyleModel",
            "_view_count": null,
            "_view_module": "@jupyter-widgets/base",
            "_view_module_version": "1.2.0",
            "_view_name": "StyleView",
            "description_width": ""
          }
        },
        "8a5f444afab642e3b220c41410743c42": {
          "model_module": "@jupyter-widgets/base",
          "model_name": "LayoutModel",
          "model_module_version": "1.2.0",
          "state": {
            "_model_module": "@jupyter-widgets/base",
            "_model_module_version": "1.2.0",
            "_model_name": "LayoutModel",
            "_view_count": null,
            "_view_module": "@jupyter-widgets/base",
            "_view_module_version": "1.2.0",
            "_view_name": "LayoutView",
            "align_content": null,
            "align_items": null,
            "align_self": null,
            "border": null,
            "bottom": null,
            "display": null,
            "flex": null,
            "flex_flow": null,
            "grid_area": null,
            "grid_auto_columns": null,
            "grid_auto_flow": null,
            "grid_auto_rows": null,
            "grid_column": null,
            "grid_gap": null,
            "grid_row": null,
            "grid_template_areas": null,
            "grid_template_columns": null,
            "grid_template_rows": null,
            "height": null,
            "justify_content": null,
            "justify_items": null,
            "left": null,
            "margin": null,
            "max_height": null,
            "max_width": null,
            "min_height": null,
            "min_width": null,
            "object_fit": null,
            "object_position": null,
            "order": null,
            "overflow": null,
            "overflow_x": null,
            "overflow_y": null,
            "padding": null,
            "right": null,
            "top": null,
            "visibility": null,
            "width": "20px"
          }
        },
        "aa5ae57ac67942eab1cdf30430c122e8": {
          "model_module": "@jupyter-widgets/controls",
          "model_name": "ProgressStyleModel",
          "model_module_version": "1.5.0",
          "state": {
            "_model_module": "@jupyter-widgets/controls",
            "_model_module_version": "1.5.0",
            "_model_name": "ProgressStyleModel",
            "_view_count": null,
            "_view_module": "@jupyter-widgets/base",
            "_view_module_version": "1.2.0",
            "_view_name": "StyleView",
            "bar_color": null,
            "description_width": ""
          }
        },
        "656901cda94e4cbebd056a3ce06c6604": {
          "model_module": "@jupyter-widgets/base",
          "model_name": "LayoutModel",
          "model_module_version": "1.2.0",
          "state": {
            "_model_module": "@jupyter-widgets/base",
            "_model_module_version": "1.2.0",
            "_model_name": "LayoutModel",
            "_view_count": null,
            "_view_module": "@jupyter-widgets/base",
            "_view_module_version": "1.2.0",
            "_view_name": "LayoutView",
            "align_content": null,
            "align_items": null,
            "align_self": null,
            "border": null,
            "bottom": null,
            "display": null,
            "flex": null,
            "flex_flow": null,
            "grid_area": null,
            "grid_auto_columns": null,
            "grid_auto_flow": null,
            "grid_auto_rows": null,
            "grid_column": null,
            "grid_gap": null,
            "grid_row": null,
            "grid_template_areas": null,
            "grid_template_columns": null,
            "grid_template_rows": null,
            "height": null,
            "justify_content": null,
            "justify_items": null,
            "left": null,
            "margin": null,
            "max_height": null,
            "max_width": null,
            "min_height": null,
            "min_width": null,
            "object_fit": null,
            "object_position": null,
            "order": null,
            "overflow": null,
            "overflow_x": null,
            "overflow_y": null,
            "padding": null,
            "right": null,
            "top": null,
            "visibility": null,
            "width": null
          }
        },
        "002055663e184973ad0fd486ae97823a": {
          "model_module": "@jupyter-widgets/controls",
          "model_name": "DescriptionStyleModel",
          "model_module_version": "1.5.0",
          "state": {
            "_model_module": "@jupyter-widgets/controls",
            "_model_module_version": "1.5.0",
            "_model_name": "DescriptionStyleModel",
            "_view_count": null,
            "_view_module": "@jupyter-widgets/base",
            "_view_module_version": "1.2.0",
            "_view_name": "StyleView",
            "description_width": ""
          }
        },
        "c04103ae033c4b6c910502659c969799": {
          "model_module": "@jupyter-widgets/controls",
          "model_name": "HBoxModel",
          "model_module_version": "1.5.0",
          "state": {
            "_dom_classes": [],
            "_model_module": "@jupyter-widgets/controls",
            "_model_module_version": "1.5.0",
            "_model_name": "HBoxModel",
            "_view_count": null,
            "_view_module": "@jupyter-widgets/controls",
            "_view_module_version": "1.5.0",
            "_view_name": "HBoxView",
            "box_style": "",
            "children": [
              "IPY_MODEL_e19760e83fcc464da0ac7cd5e5bd7192",
              "IPY_MODEL_cf3b239d02834761b8200c6296f09d0a",
              "IPY_MODEL_95cf8f1cafa249d3a714a976ef3ef25e"
            ],
            "layout": "IPY_MODEL_324e1382702f4eccb947561061d64c08"
          }
        },
        "e19760e83fcc464da0ac7cd5e5bd7192": {
          "model_module": "@jupyter-widgets/controls",
          "model_name": "HTMLModel",
          "model_module_version": "1.5.0",
          "state": {
            "_dom_classes": [],
            "_model_module": "@jupyter-widgets/controls",
            "_model_module_version": "1.5.0",
            "_model_name": "HTMLModel",
            "_view_count": null,
            "_view_module": "@jupyter-widgets/controls",
            "_view_module_version": "1.5.0",
            "_view_name": "HTMLView",
            "description": "",
            "description_tooltip": null,
            "layout": "IPY_MODEL_e6c41c8a01fd41ba8694f02e3cd30f71",
            "placeholder": "​",
            "style": "IPY_MODEL_f89e764f5a54441d872fd1b84be28686",
            "value": ""
          }
        },
        "cf3b239d02834761b8200c6296f09d0a": {
          "model_module": "@jupyter-widgets/controls",
          "model_name": "FloatProgressModel",
          "model_module_version": "1.5.0",
          "state": {
            "_dom_classes": [],
            "_model_module": "@jupyter-widgets/controls",
            "_model_module_version": "1.5.0",
            "_model_name": "FloatProgressModel",
            "_view_count": null,
            "_view_module": "@jupyter-widgets/controls",
            "_view_module_version": "1.5.0",
            "_view_name": "ProgressView",
            "bar_style": "success",
            "description": "",
            "description_tooltip": null,
            "layout": "IPY_MODEL_a1eb06ef5aca4cd99af893a5879f15e6",
            "max": 1,
            "min": 0,
            "orientation": "horizontal",
            "style": "IPY_MODEL_6271f4fe9157415686f322ae74fa9beb",
            "value": 1
          }
        },
        "95cf8f1cafa249d3a714a976ef3ef25e": {
          "model_module": "@jupyter-widgets/controls",
          "model_name": "HTMLModel",
          "model_module_version": "1.5.0",
          "state": {
            "_dom_classes": [],
            "_model_module": "@jupyter-widgets/controls",
            "_model_module_version": "1.5.0",
            "_model_name": "HTMLModel",
            "_view_count": null,
            "_view_module": "@jupyter-widgets/controls",
            "_view_module_version": "1.5.0",
            "_view_name": "HTMLView",
            "description": "",
            "description_tooltip": null,
            "layout": "IPY_MODEL_383135fcdf454e7aa9a9c339b5a491d6",
            "placeholder": "​",
            "style": "IPY_MODEL_d33c0a776c4f4991bf781b66904e1c5e",
            "value": " 1680/? [00:00&lt;00:00, 9624.80ex/s]"
          }
        },
        "324e1382702f4eccb947561061d64c08": {
          "model_module": "@jupyter-widgets/base",
          "model_name": "LayoutModel",
          "model_module_version": "1.2.0",
          "state": {
            "_model_module": "@jupyter-widgets/base",
            "_model_module_version": "1.2.0",
            "_model_name": "LayoutModel",
            "_view_count": null,
            "_view_module": "@jupyter-widgets/base",
            "_view_module_version": "1.2.0",
            "_view_name": "LayoutView",
            "align_content": null,
            "align_items": null,
            "align_self": null,
            "border": null,
            "bottom": null,
            "display": null,
            "flex": null,
            "flex_flow": null,
            "grid_area": null,
            "grid_auto_columns": null,
            "grid_auto_flow": null,
            "grid_auto_rows": null,
            "grid_column": null,
            "grid_gap": null,
            "grid_row": null,
            "grid_template_areas": null,
            "grid_template_columns": null,
            "grid_template_rows": null,
            "height": null,
            "justify_content": null,
            "justify_items": null,
            "left": null,
            "margin": null,
            "max_height": null,
            "max_width": null,
            "min_height": null,
            "min_width": null,
            "object_fit": null,
            "object_position": null,
            "order": null,
            "overflow": null,
            "overflow_x": null,
            "overflow_y": null,
            "padding": null,
            "right": null,
            "top": null,
            "visibility": null,
            "width": null
          }
        },
        "e6c41c8a01fd41ba8694f02e3cd30f71": {
          "model_module": "@jupyter-widgets/base",
          "model_name": "LayoutModel",
          "model_module_version": "1.2.0",
          "state": {
            "_model_module": "@jupyter-widgets/base",
            "_model_module_version": "1.2.0",
            "_model_name": "LayoutModel",
            "_view_count": null,
            "_view_module": "@jupyter-widgets/base",
            "_view_module_version": "1.2.0",
            "_view_name": "LayoutView",
            "align_content": null,
            "align_items": null,
            "align_self": null,
            "border": null,
            "bottom": null,
            "display": null,
            "flex": null,
            "flex_flow": null,
            "grid_area": null,
            "grid_auto_columns": null,
            "grid_auto_flow": null,
            "grid_auto_rows": null,
            "grid_column": null,
            "grid_gap": null,
            "grid_row": null,
            "grid_template_areas": null,
            "grid_template_columns": null,
            "grid_template_rows": null,
            "height": null,
            "justify_content": null,
            "justify_items": null,
            "left": null,
            "margin": null,
            "max_height": null,
            "max_width": null,
            "min_height": null,
            "min_width": null,
            "object_fit": null,
            "object_position": null,
            "order": null,
            "overflow": null,
            "overflow_x": null,
            "overflow_y": null,
            "padding": null,
            "right": null,
            "top": null,
            "visibility": null,
            "width": null
          }
        },
        "f89e764f5a54441d872fd1b84be28686": {
          "model_module": "@jupyter-widgets/controls",
          "model_name": "DescriptionStyleModel",
          "model_module_version": "1.5.0",
          "state": {
            "_model_module": "@jupyter-widgets/controls",
            "_model_module_version": "1.5.0",
            "_model_name": "DescriptionStyleModel",
            "_view_count": null,
            "_view_module": "@jupyter-widgets/base",
            "_view_module_version": "1.2.0",
            "_view_name": "StyleView",
            "description_width": ""
          }
        },
        "a1eb06ef5aca4cd99af893a5879f15e6": {
          "model_module": "@jupyter-widgets/base",
          "model_name": "LayoutModel",
          "model_module_version": "1.2.0",
          "state": {
            "_model_module": "@jupyter-widgets/base",
            "_model_module_version": "1.2.0",
            "_model_name": "LayoutModel",
            "_view_count": null,
            "_view_module": "@jupyter-widgets/base",
            "_view_module_version": "1.2.0",
            "_view_name": "LayoutView",
            "align_content": null,
            "align_items": null,
            "align_self": null,
            "border": null,
            "bottom": null,
            "display": null,
            "flex": null,
            "flex_flow": null,
            "grid_area": null,
            "grid_auto_columns": null,
            "grid_auto_flow": null,
            "grid_auto_rows": null,
            "grid_column": null,
            "grid_gap": null,
            "grid_row": null,
            "grid_template_areas": null,
            "grid_template_columns": null,
            "grid_template_rows": null,
            "height": null,
            "justify_content": null,
            "justify_items": null,
            "left": null,
            "margin": null,
            "max_height": null,
            "max_width": null,
            "min_height": null,
            "min_width": null,
            "object_fit": null,
            "object_position": null,
            "order": null,
            "overflow": null,
            "overflow_x": null,
            "overflow_y": null,
            "padding": null,
            "right": null,
            "top": null,
            "visibility": null,
            "width": "20px"
          }
        },
        "6271f4fe9157415686f322ae74fa9beb": {
          "model_module": "@jupyter-widgets/controls",
          "model_name": "ProgressStyleModel",
          "model_module_version": "1.5.0",
          "state": {
            "_model_module": "@jupyter-widgets/controls",
            "_model_module_version": "1.5.0",
            "_model_name": "ProgressStyleModel",
            "_view_count": null,
            "_view_module": "@jupyter-widgets/base",
            "_view_module_version": "1.2.0",
            "_view_name": "StyleView",
            "bar_color": null,
            "description_width": ""
          }
        },
        "383135fcdf454e7aa9a9c339b5a491d6": {
          "model_module": "@jupyter-widgets/base",
          "model_name": "LayoutModel",
          "model_module_version": "1.2.0",
          "state": {
            "_model_module": "@jupyter-widgets/base",
            "_model_module_version": "1.2.0",
            "_model_name": "LayoutModel",
            "_view_count": null,
            "_view_module": "@jupyter-widgets/base",
            "_view_module_version": "1.2.0",
            "_view_name": "LayoutView",
            "align_content": null,
            "align_items": null,
            "align_self": null,
            "border": null,
            "bottom": null,
            "display": null,
            "flex": null,
            "flex_flow": null,
            "grid_area": null,
            "grid_auto_columns": null,
            "grid_auto_flow": null,
            "grid_auto_rows": null,
            "grid_column": null,
            "grid_gap": null,
            "grid_row": null,
            "grid_template_areas": null,
            "grid_template_columns": null,
            "grid_template_rows": null,
            "height": null,
            "justify_content": null,
            "justify_items": null,
            "left": null,
            "margin": null,
            "max_height": null,
            "max_width": null,
            "min_height": null,
            "min_width": null,
            "object_fit": null,
            "object_position": null,
            "order": null,
            "overflow": null,
            "overflow_x": null,
            "overflow_y": null,
            "padding": null,
            "right": null,
            "top": null,
            "visibility": null,
            "width": null
          }
        },
        "d33c0a776c4f4991bf781b66904e1c5e": {
          "model_module": "@jupyter-widgets/controls",
          "model_name": "DescriptionStyleModel",
          "model_module_version": "1.5.0",
          "state": {
            "_model_module": "@jupyter-widgets/controls",
            "_model_module_version": "1.5.0",
            "_model_name": "DescriptionStyleModel",
            "_view_count": null,
            "_view_module": "@jupyter-widgets/base",
            "_view_module_version": "1.2.0",
            "_view_name": "StyleView",
            "description_width": ""
          }
        },
        "dad8471a27c0452b90cff23187bcb1d1": {
          "model_module": "@jupyter-widgets/controls",
          "model_name": "HBoxModel",
          "model_module_version": "1.5.0",
          "state": {
            "_dom_classes": [],
            "_model_module": "@jupyter-widgets/controls",
            "_model_module_version": "1.5.0",
            "_model_name": "HBoxModel",
            "_view_count": null,
            "_view_module": "@jupyter-widgets/controls",
            "_view_module_version": "1.5.0",
            "_view_name": "HBoxView",
            "box_style": "",
            "children": [
              "IPY_MODEL_2c9006a8369f42d5b8fe0480a56db711",
              "IPY_MODEL_1a3a1715473a459db4c7d5248a06a25c",
              "IPY_MODEL_7e02d632a2934caabfef348c4423029f"
            ],
            "layout": "IPY_MODEL_63b609544c6645d2b6cf3802fa367096"
          }
        },
        "2c9006a8369f42d5b8fe0480a56db711": {
          "model_module": "@jupyter-widgets/controls",
          "model_name": "HTMLModel",
          "model_module_version": "1.5.0",
          "state": {
            "_dom_classes": [],
            "_model_module": "@jupyter-widgets/controls",
            "_model_module_version": "1.5.0",
            "_model_name": "HTMLModel",
            "_view_count": null,
            "_view_module": "@jupyter-widgets/controls",
            "_view_module_version": "1.5.0",
            "_view_name": "HTMLView",
            "description": "",
            "description_tooltip": null,
            "layout": "IPY_MODEL_0cced33e97fa4e88a590a4b8c58592f7",
            "placeholder": "​",
            "style": "IPY_MODEL_c9e507b95aeb4ddfbd2e53cf7866d3fe",
            "value": "100%"
          }
        },
        "1a3a1715473a459db4c7d5248a06a25c": {
          "model_module": "@jupyter-widgets/controls",
          "model_name": "FloatProgressModel",
          "model_module_version": "1.5.0",
          "state": {
            "_dom_classes": [],
            "_model_module": "@jupyter-widgets/controls",
            "_model_module_version": "1.5.0",
            "_model_name": "FloatProgressModel",
            "_view_count": null,
            "_view_module": "@jupyter-widgets/controls",
            "_view_module_version": "1.5.0",
            "_view_name": "ProgressView",
            "bar_style": "success",
            "description": "",
            "description_tooltip": null,
            "layout": "IPY_MODEL_0b8915adc108468bacc7360aa22620cc",
            "max": 1,
            "min": 0,
            "orientation": "horizontal",
            "style": "IPY_MODEL_81b92dd2704846f491d57fb6b6c1d986",
            "value": 1
          }
        },
        "7e02d632a2934caabfef348c4423029f": {
          "model_module": "@jupyter-widgets/controls",
          "model_name": "HTMLModel",
          "model_module_version": "1.5.0",
          "state": {
            "_dom_classes": [],
            "_model_module": "@jupyter-widgets/controls",
            "_model_module_version": "1.5.0",
            "_model_name": "HTMLModel",
            "_view_count": null,
            "_view_module": "@jupyter-widgets/controls",
            "_view_module_version": "1.5.0",
            "_view_name": "HTMLView",
            "description": "",
            "description_tooltip": null,
            "layout": "IPY_MODEL_a4ddd237f7ea41dca59b800a059c6d13",
            "placeholder": "​",
            "style": "IPY_MODEL_6566e989546549d99a6615ba70c40024",
            "value": " 1/1 [00:00&lt;00:00, 10.14ba/s]"
          }
        },
        "63b609544c6645d2b6cf3802fa367096": {
          "model_module": "@jupyter-widgets/base",
          "model_name": "LayoutModel",
          "model_module_version": "1.2.0",
          "state": {
            "_model_module": "@jupyter-widgets/base",
            "_model_module_version": "1.2.0",
            "_model_name": "LayoutModel",
            "_view_count": null,
            "_view_module": "@jupyter-widgets/base",
            "_view_module_version": "1.2.0",
            "_view_name": "LayoutView",
            "align_content": null,
            "align_items": null,
            "align_self": null,
            "border": null,
            "bottom": null,
            "display": null,
            "flex": null,
            "flex_flow": null,
            "grid_area": null,
            "grid_auto_columns": null,
            "grid_auto_flow": null,
            "grid_auto_rows": null,
            "grid_column": null,
            "grid_gap": null,
            "grid_row": null,
            "grid_template_areas": null,
            "grid_template_columns": null,
            "grid_template_rows": null,
            "height": null,
            "justify_content": null,
            "justify_items": null,
            "left": null,
            "margin": null,
            "max_height": null,
            "max_width": null,
            "min_height": null,
            "min_width": null,
            "object_fit": null,
            "object_position": null,
            "order": null,
            "overflow": null,
            "overflow_x": null,
            "overflow_y": null,
            "padding": null,
            "right": null,
            "top": null,
            "visibility": null,
            "width": null
          }
        },
        "0cced33e97fa4e88a590a4b8c58592f7": {
          "model_module": "@jupyter-widgets/base",
          "model_name": "LayoutModel",
          "model_module_version": "1.2.0",
          "state": {
            "_model_module": "@jupyter-widgets/base",
            "_model_module_version": "1.2.0",
            "_model_name": "LayoutModel",
            "_view_count": null,
            "_view_module": "@jupyter-widgets/base",
            "_view_module_version": "1.2.0",
            "_view_name": "LayoutView",
            "align_content": null,
            "align_items": null,
            "align_self": null,
            "border": null,
            "bottom": null,
            "display": null,
            "flex": null,
            "flex_flow": null,
            "grid_area": null,
            "grid_auto_columns": null,
            "grid_auto_flow": null,
            "grid_auto_rows": null,
            "grid_column": null,
            "grid_gap": null,
            "grid_row": null,
            "grid_template_areas": null,
            "grid_template_columns": null,
            "grid_template_rows": null,
            "height": null,
            "justify_content": null,
            "justify_items": null,
            "left": null,
            "margin": null,
            "max_height": null,
            "max_width": null,
            "min_height": null,
            "min_width": null,
            "object_fit": null,
            "object_position": null,
            "order": null,
            "overflow": null,
            "overflow_x": null,
            "overflow_y": null,
            "padding": null,
            "right": null,
            "top": null,
            "visibility": null,
            "width": null
          }
        },
        "c9e507b95aeb4ddfbd2e53cf7866d3fe": {
          "model_module": "@jupyter-widgets/controls",
          "model_name": "DescriptionStyleModel",
          "model_module_version": "1.5.0",
          "state": {
            "_model_module": "@jupyter-widgets/controls",
            "_model_module_version": "1.5.0",
            "_model_name": "DescriptionStyleModel",
            "_view_count": null,
            "_view_module": "@jupyter-widgets/base",
            "_view_module_version": "1.2.0",
            "_view_name": "StyleView",
            "description_width": ""
          }
        },
        "0b8915adc108468bacc7360aa22620cc": {
          "model_module": "@jupyter-widgets/base",
          "model_name": "LayoutModel",
          "model_module_version": "1.2.0",
          "state": {
            "_model_module": "@jupyter-widgets/base",
            "_model_module_version": "1.2.0",
            "_model_name": "LayoutModel",
            "_view_count": null,
            "_view_module": "@jupyter-widgets/base",
            "_view_module_version": "1.2.0",
            "_view_name": "LayoutView",
            "align_content": null,
            "align_items": null,
            "align_self": null,
            "border": null,
            "bottom": null,
            "display": null,
            "flex": null,
            "flex_flow": null,
            "grid_area": null,
            "grid_auto_columns": null,
            "grid_auto_flow": null,
            "grid_auto_rows": null,
            "grid_column": null,
            "grid_gap": null,
            "grid_row": null,
            "grid_template_areas": null,
            "grid_template_columns": null,
            "grid_template_rows": null,
            "height": null,
            "justify_content": null,
            "justify_items": null,
            "left": null,
            "margin": null,
            "max_height": null,
            "max_width": null,
            "min_height": null,
            "min_width": null,
            "object_fit": null,
            "object_position": null,
            "order": null,
            "overflow": null,
            "overflow_x": null,
            "overflow_y": null,
            "padding": null,
            "right": null,
            "top": null,
            "visibility": null,
            "width": null
          }
        },
        "81b92dd2704846f491d57fb6b6c1d986": {
          "model_module": "@jupyter-widgets/controls",
          "model_name": "ProgressStyleModel",
          "model_module_version": "1.5.0",
          "state": {
            "_model_module": "@jupyter-widgets/controls",
            "_model_module_version": "1.5.0",
            "_model_name": "ProgressStyleModel",
            "_view_count": null,
            "_view_module": "@jupyter-widgets/base",
            "_view_module_version": "1.2.0",
            "_view_name": "StyleView",
            "bar_color": null,
            "description_width": ""
          }
        },
        "a4ddd237f7ea41dca59b800a059c6d13": {
          "model_module": "@jupyter-widgets/base",
          "model_name": "LayoutModel",
          "model_module_version": "1.2.0",
          "state": {
            "_model_module": "@jupyter-widgets/base",
            "_model_module_version": "1.2.0",
            "_model_name": "LayoutModel",
            "_view_count": null,
            "_view_module": "@jupyter-widgets/base",
            "_view_module_version": "1.2.0",
            "_view_name": "LayoutView",
            "align_content": null,
            "align_items": null,
            "align_self": null,
            "border": null,
            "bottom": null,
            "display": null,
            "flex": null,
            "flex_flow": null,
            "grid_area": null,
            "grid_auto_columns": null,
            "grid_auto_flow": null,
            "grid_auto_rows": null,
            "grid_column": null,
            "grid_gap": null,
            "grid_row": null,
            "grid_template_areas": null,
            "grid_template_columns": null,
            "grid_template_rows": null,
            "height": null,
            "justify_content": null,
            "justify_items": null,
            "left": null,
            "margin": null,
            "max_height": null,
            "max_width": null,
            "min_height": null,
            "min_width": null,
            "object_fit": null,
            "object_position": null,
            "order": null,
            "overflow": null,
            "overflow_x": null,
            "overflow_y": null,
            "padding": null,
            "right": null,
            "top": null,
            "visibility": null,
            "width": null
          }
        },
        "6566e989546549d99a6615ba70c40024": {
          "model_module": "@jupyter-widgets/controls",
          "model_name": "DescriptionStyleModel",
          "model_module_version": "1.5.0",
          "state": {
            "_model_module": "@jupyter-widgets/controls",
            "_model_module_version": "1.5.0",
            "_model_name": "DescriptionStyleModel",
            "_view_count": null,
            "_view_module": "@jupyter-widgets/base",
            "_view_module_version": "1.2.0",
            "_view_name": "StyleView",
            "description_width": ""
          }
        },
        "efd6fd339e314b638df96f7e69d09791": {
          "model_module": "@jupyter-widgets/controls",
          "model_name": "HBoxModel",
          "model_module_version": "1.5.0",
          "state": {
            "_dom_classes": [],
            "_model_module": "@jupyter-widgets/controls",
            "_model_module_version": "1.5.0",
            "_model_name": "HBoxModel",
            "_view_count": null,
            "_view_module": "@jupyter-widgets/controls",
            "_view_module_version": "1.5.0",
            "_view_name": "HBoxView",
            "box_style": "",
            "children": [
              "IPY_MODEL_2f7614fea4ce4ebf83284adbf0aa8342",
              "IPY_MODEL_06d343f1dc794d4eaf6c19aca28bbc26",
              "IPY_MODEL_038ef9e1dd0e401bbf037fd6405731fa"
            ],
            "layout": "IPY_MODEL_aaa39de7360f47eb84e192ab887606fe"
          }
        },
        "2f7614fea4ce4ebf83284adbf0aa8342": {
          "model_module": "@jupyter-widgets/controls",
          "model_name": "HTMLModel",
          "model_module_version": "1.5.0",
          "state": {
            "_dom_classes": [],
            "_model_module": "@jupyter-widgets/controls",
            "_model_module_version": "1.5.0",
            "_model_name": "HTMLModel",
            "_view_count": null,
            "_view_module": "@jupyter-widgets/controls",
            "_view_module_version": "1.5.0",
            "_view_name": "HTMLView",
            "description": "",
            "description_tooltip": null,
            "layout": "IPY_MODEL_30f6ed7f95e548b6840ebf7ccd79cc4f",
            "placeholder": "​",
            "style": "IPY_MODEL_75fd88e6866a40a6a0c15ddb0c8dd0bb",
            "value": "100%"
          }
        },
        "06d343f1dc794d4eaf6c19aca28bbc26": {
          "model_module": "@jupyter-widgets/controls",
          "model_name": "FloatProgressModel",
          "model_module_version": "1.5.0",
          "state": {
            "_dom_classes": [],
            "_model_module": "@jupyter-widgets/controls",
            "_model_module_version": "1.5.0",
            "_model_name": "FloatProgressModel",
            "_view_count": null,
            "_view_module": "@jupyter-widgets/controls",
            "_view_module_version": "1.5.0",
            "_view_name": "ProgressView",
            "bar_style": "success",
            "description": "",
            "description_tooltip": null,
            "layout": "IPY_MODEL_2a1df6e42ecb458288e620baf3e32ea0",
            "max": 1,
            "min": 0,
            "orientation": "horizontal",
            "style": "IPY_MODEL_1a574e7d96664359aab75590c9803a9a",
            "value": 1
          }
        },
        "038ef9e1dd0e401bbf037fd6405731fa": {
          "model_module": "@jupyter-widgets/controls",
          "model_name": "HTMLModel",
          "model_module_version": "1.5.0",
          "state": {
            "_dom_classes": [],
            "_model_module": "@jupyter-widgets/controls",
            "_model_module_version": "1.5.0",
            "_model_name": "HTMLModel",
            "_view_count": null,
            "_view_module": "@jupyter-widgets/controls",
            "_view_module_version": "1.5.0",
            "_view_name": "HTMLView",
            "description": "",
            "description_tooltip": null,
            "layout": "IPY_MODEL_5d18a26091a14ba6b8dfa7ef3781e0f7",
            "placeholder": "​",
            "style": "IPY_MODEL_19933d6b98ed4c7399202efac227f221",
            "value": " 1/1 [00:00&lt;00:00, 22.21ba/s]"
          }
        },
        "aaa39de7360f47eb84e192ab887606fe": {
          "model_module": "@jupyter-widgets/base",
          "model_name": "LayoutModel",
          "model_module_version": "1.2.0",
          "state": {
            "_model_module": "@jupyter-widgets/base",
            "_model_module_version": "1.2.0",
            "_model_name": "LayoutModel",
            "_view_count": null,
            "_view_module": "@jupyter-widgets/base",
            "_view_module_version": "1.2.0",
            "_view_name": "LayoutView",
            "align_content": null,
            "align_items": null,
            "align_self": null,
            "border": null,
            "bottom": null,
            "display": null,
            "flex": null,
            "flex_flow": null,
            "grid_area": null,
            "grid_auto_columns": null,
            "grid_auto_flow": null,
            "grid_auto_rows": null,
            "grid_column": null,
            "grid_gap": null,
            "grid_row": null,
            "grid_template_areas": null,
            "grid_template_columns": null,
            "grid_template_rows": null,
            "height": null,
            "justify_content": null,
            "justify_items": null,
            "left": null,
            "margin": null,
            "max_height": null,
            "max_width": null,
            "min_height": null,
            "min_width": null,
            "object_fit": null,
            "object_position": null,
            "order": null,
            "overflow": null,
            "overflow_x": null,
            "overflow_y": null,
            "padding": null,
            "right": null,
            "top": null,
            "visibility": null,
            "width": null
          }
        },
        "30f6ed7f95e548b6840ebf7ccd79cc4f": {
          "model_module": "@jupyter-widgets/base",
          "model_name": "LayoutModel",
          "model_module_version": "1.2.0",
          "state": {
            "_model_module": "@jupyter-widgets/base",
            "_model_module_version": "1.2.0",
            "_model_name": "LayoutModel",
            "_view_count": null,
            "_view_module": "@jupyter-widgets/base",
            "_view_module_version": "1.2.0",
            "_view_name": "LayoutView",
            "align_content": null,
            "align_items": null,
            "align_self": null,
            "border": null,
            "bottom": null,
            "display": null,
            "flex": null,
            "flex_flow": null,
            "grid_area": null,
            "grid_auto_columns": null,
            "grid_auto_flow": null,
            "grid_auto_rows": null,
            "grid_column": null,
            "grid_gap": null,
            "grid_row": null,
            "grid_template_areas": null,
            "grid_template_columns": null,
            "grid_template_rows": null,
            "height": null,
            "justify_content": null,
            "justify_items": null,
            "left": null,
            "margin": null,
            "max_height": null,
            "max_width": null,
            "min_height": null,
            "min_width": null,
            "object_fit": null,
            "object_position": null,
            "order": null,
            "overflow": null,
            "overflow_x": null,
            "overflow_y": null,
            "padding": null,
            "right": null,
            "top": null,
            "visibility": null,
            "width": null
          }
        },
        "75fd88e6866a40a6a0c15ddb0c8dd0bb": {
          "model_module": "@jupyter-widgets/controls",
          "model_name": "DescriptionStyleModel",
          "model_module_version": "1.5.0",
          "state": {
            "_model_module": "@jupyter-widgets/controls",
            "_model_module_version": "1.5.0",
            "_model_name": "DescriptionStyleModel",
            "_view_count": null,
            "_view_module": "@jupyter-widgets/base",
            "_view_module_version": "1.2.0",
            "_view_name": "StyleView",
            "description_width": ""
          }
        },
        "2a1df6e42ecb458288e620baf3e32ea0": {
          "model_module": "@jupyter-widgets/base",
          "model_name": "LayoutModel",
          "model_module_version": "1.2.0",
          "state": {
            "_model_module": "@jupyter-widgets/base",
            "_model_module_version": "1.2.0",
            "_model_name": "LayoutModel",
            "_view_count": null,
            "_view_module": "@jupyter-widgets/base",
            "_view_module_version": "1.2.0",
            "_view_name": "LayoutView",
            "align_content": null,
            "align_items": null,
            "align_self": null,
            "border": null,
            "bottom": null,
            "display": null,
            "flex": null,
            "flex_flow": null,
            "grid_area": null,
            "grid_auto_columns": null,
            "grid_auto_flow": null,
            "grid_auto_rows": null,
            "grid_column": null,
            "grid_gap": null,
            "grid_row": null,
            "grid_template_areas": null,
            "grid_template_columns": null,
            "grid_template_rows": null,
            "height": null,
            "justify_content": null,
            "justify_items": null,
            "left": null,
            "margin": null,
            "max_height": null,
            "max_width": null,
            "min_height": null,
            "min_width": null,
            "object_fit": null,
            "object_position": null,
            "order": null,
            "overflow": null,
            "overflow_x": null,
            "overflow_y": null,
            "padding": null,
            "right": null,
            "top": null,
            "visibility": null,
            "width": null
          }
        },
        "1a574e7d96664359aab75590c9803a9a": {
          "model_module": "@jupyter-widgets/controls",
          "model_name": "ProgressStyleModel",
          "model_module_version": "1.5.0",
          "state": {
            "_model_module": "@jupyter-widgets/controls",
            "_model_module_version": "1.5.0",
            "_model_name": "ProgressStyleModel",
            "_view_count": null,
            "_view_module": "@jupyter-widgets/base",
            "_view_module_version": "1.2.0",
            "_view_name": "StyleView",
            "bar_color": null,
            "description_width": ""
          }
        },
        "5d18a26091a14ba6b8dfa7ef3781e0f7": {
          "model_module": "@jupyter-widgets/base",
          "model_name": "LayoutModel",
          "model_module_version": "1.2.0",
          "state": {
            "_model_module": "@jupyter-widgets/base",
            "_model_module_version": "1.2.0",
            "_model_name": "LayoutModel",
            "_view_count": null,
            "_view_module": "@jupyter-widgets/base",
            "_view_module_version": "1.2.0",
            "_view_name": "LayoutView",
            "align_content": null,
            "align_items": null,
            "align_self": null,
            "border": null,
            "bottom": null,
            "display": null,
            "flex": null,
            "flex_flow": null,
            "grid_area": null,
            "grid_auto_columns": null,
            "grid_auto_flow": null,
            "grid_auto_rows": null,
            "grid_column": null,
            "grid_gap": null,
            "grid_row": null,
            "grid_template_areas": null,
            "grid_template_columns": null,
            "grid_template_rows": null,
            "height": null,
            "justify_content": null,
            "justify_items": null,
            "left": null,
            "margin": null,
            "max_height": null,
            "max_width": null,
            "min_height": null,
            "min_width": null,
            "object_fit": null,
            "object_position": null,
            "order": null,
            "overflow": null,
            "overflow_x": null,
            "overflow_y": null,
            "padding": null,
            "right": null,
            "top": null,
            "visibility": null,
            "width": null
          }
        },
        "19933d6b98ed4c7399202efac227f221": {
          "model_module": "@jupyter-widgets/controls",
          "model_name": "DescriptionStyleModel",
          "model_module_version": "1.5.0",
          "state": {
            "_model_module": "@jupyter-widgets/controls",
            "_model_module_version": "1.5.0",
            "_model_name": "DescriptionStyleModel",
            "_view_count": null,
            "_view_module": "@jupyter-widgets/base",
            "_view_module_version": "1.2.0",
            "_view_name": "StyleView",
            "description_width": ""
          }
        }
      }
    }
  },
  "cells": [
    {
      "cell_type": "markdown",
      "metadata": {
        "id": "view-in-github",
        "colab_type": "text"
      },
      "source": [
        "<a href=\"https://colab.research.google.com/github/stdntlfe/transformers-notebooks/blob/main/Fine_tuning_Wav2Vec2_for_English_ASR.ipynb\" target=\"_parent\"><img src=\"https://colab.research.google.com/assets/colab-badge.svg\" alt=\"Open In Colab\"/></a>"
      ]
    },
    {
      "cell_type": "markdown",
      "metadata": {
        "id": "LBSYoWbi-45k"
      },
      "source": [
        "# **Fine-tuning Wav2Vec2 for English ASR with 🤗 Transformers**"
      ]
    },
    {
      "cell_type": "markdown",
      "metadata": {
        "id": "V7YOT2mnUiea"
      },
      "source": [
        "Wav2Vec2 is a pretrained model for Automatic Speech Recognition (ASR) and was released in [September 2020](https://ai.facebook.com/blog/wav2vec-20-learning-the-structure-of-speech-from-raw-audio/) by Alexei Baevski, Michael Auli, and Alex Conneau.\n",
        "\n",
        "Using a novel contrastive pretraining objective, Wav2Vec2 learns powerful speech representations from more than 50.000 hours of unlabeled speech. Similar, to [BERT's masked language modeling](http://jalammar.github.io/illustrated-bert/), the model learns contextualized speech representations by randomly masking feature vectors before passing them to a transformer network.\n",
        "\n",
        "![wav2vec2_structure](https://raw.githubusercontent.com/patrickvonplaten/scientific_images/master/wav2vec2.png)\n",
        "\n",
        "For the first time, it has been shown that pretraining, followed by fine-tuning on very little labeled speech data achieves competitive results to state-of-the-art ASR systems. Using as little as 10 minutes of labeled data, Wav2Vec2 yields a word error rate (WER) of less than 5% on the clean test set of [LibriSpeech](https://huggingface.co/datasets/librispeech_asr) - *cf.* with Table 9 of the [paper](https://arxiv.org/pdf/2006.11477.pdf)."
      ]
    },
    {
      "cell_type": "markdown",
      "metadata": {
        "id": "nT_QrfWtsxIz"
      },
      "source": [
        "In this notebook, we will give an in-detail explanation of how Wav2Vec2's pretrained checkpoints can be fine-tuned on any English ASR dataset. Note that in this notebook, we will fine-tune Wav2Vec2 without making use of a language model. It is much simpler to use Wav2Vec2 without a language model as an end-to-end ASR system and it has been shown that a standalone Wav2Vec2 acoustic model achieves impressive results. For demonstration purposes, we fine-tune the \"base\"-sized [pretrained checkpoint](https://huggingface.co/facebook/wav2vec2-base) on the rather small [Timit](https://huggingface.co/datasets/timit_asr) dataset that contains just 5h of training data."
      ]
    },
    {
      "cell_type": "markdown",
      "metadata": {
        "id": "Gx9OdDYrCtQ1"
      },
      "source": [
        "Wav2Vec2 is fine-tuned using Connectionist Temporal Classification (CTC), which is an algorithm that is used to train neural networks for sequence-to-sequence problems and mainly in Automatic Speech Recognition and handwriting recognition. \n",
        "\n",
        "I highly recommend reading the blog post [Sequence Modeling with CTC (2017)](https://distill.pub/2017/ctc/) very well-written blog post by Awni Hannun."
      ]
    },
    {
      "cell_type": "markdown",
      "metadata": {
        "id": "qW3J3rBizeds"
      },
      "source": [
        "First, let's try to get a good GPU in our colab! With Google Colab's free version it's sadly becoming much harder to get access to a good GPU. With Google Colab Pro, one has a much easier time getting access to a V100 or P100 GPU however."
      ]
    },
    {
      "cell_type": "code",
      "metadata": {
        "id": "SLAufgh_xxj7",
        "colab": {
          "base_uri": "https://localhost:8080/"
        },
        "outputId": "b44be877-0675-4a88-8fd5-cb1ec44fe75b"
      },
      "source": [
        "gpu_info = !nvidia-smi\n",
        "gpu_info = '\\n'.join(gpu_info)\n",
        "if gpu_info.find('failed') >= 0:\n",
        "  print('Not connected to a GPU')\n",
        "else:\n",
        "  print(gpu_info)"
      ],
      "execution_count": 1,
      "outputs": [
        {
          "output_type": "stream",
          "name": "stdout",
          "text": [
            "Wed May 10 08:16:33 2023       \n",
            "+-----------------------------------------------------------------------------+\n",
            "| NVIDIA-SMI 525.85.12    Driver Version: 525.85.12    CUDA Version: 12.0     |\n",
            "|-------------------------------+----------------------+----------------------+\n",
            "| GPU  Name        Persistence-M| Bus-Id        Disp.A | Volatile Uncorr. ECC |\n",
            "| Fan  Temp  Perf  Pwr:Usage/Cap|         Memory-Usage | GPU-Util  Compute M. |\n",
            "|                               |                      |               MIG M. |\n",
            "|===============================+======================+======================|\n",
            "|   0  Tesla T4            Off  | 00000000:00:04.0 Off |                    0 |\n",
            "| N/A   42C    P8     9W /  70W |      0MiB / 15360MiB |      0%      Default |\n",
            "|                               |                      |                  N/A |\n",
            "+-------------------------------+----------------------+----------------------+\n",
            "                                                                               \n",
            "+-----------------------------------------------------------------------------+\n",
            "| Processes:                                                                  |\n",
            "|  GPU   GI   CI        PID   Type   Process name                  GPU Memory |\n",
            "|        ID   ID                                                   Usage      |\n",
            "|=============================================================================|\n",
            "|  No running processes found                                                 |\n",
            "+-----------------------------------------------------------------------------+\n"
          ]
        }
      ]
    },
    {
      "cell_type": "markdown",
      "metadata": {
        "id": "e335hPmdtASZ"
      },
      "source": [
        "Before we start, let's install both `datasets` and `transformers` from master. Also, we need the `librosa` package to load audio files and the `jiwer` to evaluate our fine-tuned model using the [word error rate (WER)](https://huggingface.co/metrics/wer) metric ${}^1$."
      ]
    },
    {
      "cell_type": "code",
      "metadata": {
        "id": "c8eh87Hoee5d"
      },
      "source": [
        "%%capture\n",
        "!pip install datasets==1.18.3\n",
        "!pip install transformers==4.17.0\n",
        "!pip install jiwer"
      ],
      "execution_count": 2,
      "outputs": []
    },
    {
      "cell_type": "markdown",
      "metadata": {
        "id": "8_6kYmDMH9lR"
      },
      "source": [
        "Next we strongly suggest to upload your training checkpoints directly to the [🤗 Hub](https://huggingface.co/) while training. The [🤗 Hub](https://huggingface.co/) has integrated version control so you can be sure that no model checkpoint is getting lost during training. \n",
        "\n",
        "To do so you have to store your authentication token from the Hugging Face website (sign up [here](https://huggingface.co/join) if you haven't already!)"
      ]
    },
    {
      "cell_type": "code",
      "metadata": {
        "id": "2MMXcWFFgCXU",
        "colab": {
          "base_uri": "https://localhost:8080/",
          "height": 200,
          "referenced_widgets": [
            "5bc06d2c6ded4bf986d6786c64b9daf5",
            "8e7f2e8b6f7348fbbdd2d38c64ff3abf",
            "3d3db576466e4ff39a766c0adedc0c76",
            "6c180118d2a843bb93a67198b789003a",
            "b5365cb6459444eb8deca7ef29f93f30",
            "b1c80bbe955f432594003571a6e24331",
            "0a18f7c46e7543699c0e069cc02336b1",
            "4f46eb4ba77a4e6eb770766b629e8be7",
            "1b2e3d16ffdd4ecf9fa3dadae5dd035f",
            "d73896dfb4cc43f3aba09b6e39805e06",
            "b9e18f70feba41f3bae1a106001f7072",
            "e81989089447485fb58e0ddc5fb9785f",
            "06ef8e7c571f4a33a5ba574017815f41",
            "6dda07e9ac4a4790917c31b1af179f8e",
            "3929a1cc7942458ba688fb7eb40357de",
            "a81a3f8131b843439745800cde843a21",
            "f1294ff43a864011a2b75cdbd1139ec5",
            "744b571fc3cd4059a2afbf8a76abbb37",
            "8be70fb018774de5808836afefa3816d",
            "cb99698f7c374f5783f4b9e8f31bdebd",
            "778b9a08fcf647658b3e634126d55c7d",
            "2825c9c46bbe42ca8ac1650b90265ef7",
            "81e7e8633af44a4ba0857b451f4f32a7",
            "1a8a3919bd3249b6b9cc54737e5dbe54",
            "f98cafaaac764838a915c26d5a11067a",
            "d60543e3727b4a59a917477d702de165",
            "47f2d26f4e6b4701a9d515e727248679",
            "ba1d9f261bd1497092dc4b4a81551b2b",
            "b55eea3ce8324e51b16bc9b0430fe4a4",
            "f1cc1fa9533e4a1db6b7385eff03d744",
            "1bf92d9a2aeb44e1a408c07155040810",
            "5a58fedb90d249c6a6b8c9487cd80314",
            "e85b218ebed44d0e8ac4172149c53b5c",
            "ea6a2a890e4f4671a402ac5455423656",
            "ef57e8e28687428f9b41edfa27e44cae",
            "92b7eac3b0c24daa9d827a77ae1013b6",
            "0716e72f939e42eca1d3a680ed4d0694",
            "1c246fbf41ef4f31ba2e25518059730a",
            "7bf4188c12d54abcb08610957b72e0eb",
            "d8b8ea2a04bd4e9ca236d57ffdeee3bb",
            "5f79f9eb86f243c89c37b75c6fedfbf4",
            "e264dae79f894b1bba0b2152d8343beb",
            "4345cc50c19f475abc1b9ee3f4fc7521",
            "1dda214b66014cf4b61a4ee5e2514bb2",
            "0516633842374d53b48fdeb0daa7acc5",
            "2de79071a3354561b3f0be3c85b67939",
            "656d026c47ca42f9bdec01b6e4c14982",
            "08f0d83cf90b49f7a84e377dd1870310",
            "dda1849ab60b413f9e5110e4f35ecb4c",
            "f430bcc80f71494d81aba2d8f9d1e6ce",
            "cfccd1e9ea56466894f4b5673ee02fad",
            "418214883d2b416f828845776da84257",
            "434245b037c6465bb851398ff902c9b0",
            "63637a405ee149a2868fb4a995ec1ed1",
            "f13a083a1a2d4ee59169e1f7f6c6091f",
            "d280926794394744b5215c98d0054aef",
            "dcc77778c2784c9ab8a0e4adcd598fb5",
            "b5bac9a5a0a040e895284e4b48ec6385",
            "03eecacce5d64086bc16296c6cfd11f6",
            "44a10b6cb23f45b693128c7482f021a9",
            "fc175acb205b447b86c7801cb67b2977",
            "d95f7bddc36b4e0292f916dd117004b1",
            "bb06f25b01ec42edb90c9d9f1d440955",
            "0d087166b3e347ddb7d96208db36b1fd",
            "560fbd0c77c048189de75d250d39b97a",
            "c891ea21d07e4275a5e60a512db03379"
          ]
        },
        "outputId": "19b8db44-9287-44ef-f73d-f6188507784b"
      },
      "source": [
        "from datasets import load_dataset, load_metric\n",
        "\n",
        "timit = load_dataset(\"timit_asr\")"
      ],
      "execution_count": 3,
      "outputs": [
        {
          "output_type": "display_data",
          "data": {
            "text/plain": [
              "Downloading:   0%|          | 0.00/2.40k [00:00<?, ?B/s]"
            ],
            "application/vnd.jupyter.widget-view+json": {
              "version_major": 2,
              "version_minor": 0,
              "model_id": "5bc06d2c6ded4bf986d6786c64b9daf5"
            }
          },
          "metadata": {}
        },
        {
          "output_type": "display_data",
          "data": {
            "text/plain": [
              "Downloading:   0%|          | 0.00/1.06k [00:00<?, ?B/s]"
            ],
            "application/vnd.jupyter.widget-view+json": {
              "version_major": 2,
              "version_minor": 0,
              "model_id": "e81989089447485fb58e0ddc5fb9785f"
            }
          },
          "metadata": {}
        },
        {
          "output_type": "stream",
          "name": "stdout",
          "text": [
            "Downloading and preparing dataset timit_asr/clean (download: 828.75 MiB, generated: 7.90 MiB, post-processed: Unknown size, total: 836.65 MiB) to /root/.cache/huggingface/datasets/timit_asr/clean/2.0.1/b11b576ddcccbcefa7c9f0c4e6c2a43756f3033adffe0fb686aa61043d0450ad...\n"
          ]
        },
        {
          "output_type": "display_data",
          "data": {
            "text/plain": [
              "Downloading:   0%|          | 0.00/869M [00:00<?, ?B/s]"
            ],
            "application/vnd.jupyter.widget-view+json": {
              "version_major": 2,
              "version_minor": 0,
              "model_id": "81e7e8633af44a4ba0857b451f4f32a7"
            }
          },
          "metadata": {}
        },
        {
          "output_type": "display_data",
          "data": {
            "text/plain": [
              "0 examples [00:00, ? examples/s]"
            ],
            "application/vnd.jupyter.widget-view+json": {
              "version_major": 2,
              "version_minor": 0,
              "model_id": "ea6a2a890e4f4671a402ac5455423656"
            }
          },
          "metadata": {}
        },
        {
          "output_type": "display_data",
          "data": {
            "text/plain": [
              "0 examples [00:00, ? examples/s]"
            ],
            "application/vnd.jupyter.widget-view+json": {
              "version_major": 2,
              "version_minor": 0,
              "model_id": "0516633842374d53b48fdeb0daa7acc5"
            }
          },
          "metadata": {}
        },
        {
          "output_type": "stream",
          "name": "stdout",
          "text": [
            "Dataset timit_asr downloaded and prepared to /root/.cache/huggingface/datasets/timit_asr/clean/2.0.1/b11b576ddcccbcefa7c9f0c4e6c2a43756f3033adffe0fb686aa61043d0450ad. Subsequent calls will reuse this data.\n"
          ]
        },
        {
          "output_type": "display_data",
          "data": {
            "text/plain": [
              "  0%|          | 0/2 [00:00<?, ?it/s]"
            ],
            "application/vnd.jupyter.widget-view+json": {
              "version_major": 2,
              "version_minor": 0,
              "model_id": "d280926794394744b5215c98d0054aef"
            }
          },
          "metadata": {}
        }
      ]
    },
    {
      "cell_type": "code",
      "metadata": {
        "colab": {
          "base_uri": "https://localhost:8080/"
        },
        "id": "QbIM-L0xdvf4",
        "outputId": "bea650f2-f233-40e3-d8d8-cd791347eff2"
      },
      "source": [
        "timit"
      ],
      "execution_count": 4,
      "outputs": [
        {
          "output_type": "execute_result",
          "data": {
            "text/plain": [
              "DatasetDict({\n",
              "    train: Dataset({\n",
              "        features: ['file', 'audio', 'text', 'phonetic_detail', 'word_detail', 'dialect_region', 'sentence_type', 'speaker_id', 'id'],\n",
              "        num_rows: 4620\n",
              "    })\n",
              "    test: Dataset({\n",
              "        features: ['file', 'audio', 'text', 'phonetic_detail', 'word_detail', 'dialect_region', 'sentence_type', 'speaker_id', 'id'],\n",
              "        num_rows: 1680\n",
              "    })\n",
              "})"
            ]
          },
          "metadata": {},
          "execution_count": 4
        }
      ]
    },
    {
      "cell_type": "markdown",
      "metadata": {
        "id": "ri5y5N_HMANq"
      },
      "source": [
        "Many ASR datasets only provide the target text, `'text'` for each audio `'audio'` and file `'file'`. Timit actually provides much more information about each audio file, such as the `'phonetic_detail'`, etc., which is why many researchers choose to evaluate their models on phoneme classification instead of speech recognition when working with Timit. However, we want to keep the notebook as general as possible, so that we will only consider the transcribed text for fine-tuning.\n",
        "\n"
      ]
    },
    {
      "cell_type": "code",
      "metadata": {
        "id": "kbyq6lDgQc2a"
      },
      "source": [
        "timit = timit.remove_columns([\"phonetic_detail\", \"word_detail\", \"dialect_region\", \"id\", \"sentence_type\", \"speaker_id\"])"
      ],
      "execution_count": 5,
      "outputs": []
    },
    {
      "cell_type": "markdown",
      "metadata": {
        "id": "Go9Hq4e4NDT9"
      },
      "source": [
        "Let's write a short function to display some random samples of the dataset and run it a couple of times to get a feeling for the transcriptions."
      ]
    },
    {
      "cell_type": "code",
      "metadata": {
        "id": "72737oog2F6U"
      },
      "source": [
        "from datasets import ClassLabel\n",
        "import random\n",
        "import pandas as pd\n",
        "from IPython.display import display, HTML\n",
        "\n",
        "def show_random_elements(dataset, num_examples=10):\n",
        "    assert num_examples <= len(dataset), \"Can't pick more elements than there are in the dataset.\"\n",
        "    picks = []\n",
        "    for _ in range(num_examples):\n",
        "        pick = random.randint(0, len(dataset)-1)\n",
        "        while pick in picks:\n",
        "            pick = random.randint(0, len(dataset)-1)\n",
        "        picks.append(pick)\n",
        "    \n",
        "    df = pd.DataFrame(dataset[picks])\n",
        "    display(HTML(df.to_html()))"
      ],
      "execution_count": 6,
      "outputs": []
    },
    {
      "cell_type": "code",
      "metadata": {
        "colab": {
          "base_uri": "https://localhost:8080/",
          "height": 363
        },
        "id": "K_JUmf3G3b9S",
        "outputId": "a70deba4-cd85-49ce-d432-490944b5cb03"
      },
      "source": [
        "show_random_elements(timit[\"train\"].remove_columns([\"audio\", \"file\"]), num_examples=10)"
      ],
      "execution_count": 7,
      "outputs": [
        {
          "output_type": "display_data",
          "data": {
            "text/plain": [
              "<IPython.core.display.HTML object>"
            ],
            "text/html": [
              "<table border=\"1\" class=\"dataframe\">\n",
              "  <thead>\n",
              "    <tr style=\"text-align: right;\">\n",
              "      <th></th>\n",
              "      <th>text</th>\n",
              "    </tr>\n",
              "  </thead>\n",
              "  <tbody>\n",
              "    <tr>\n",
              "      <th>0</th>\n",
              "      <td>Ran away on a black night with a lawful wedded man.</td>\n",
              "    </tr>\n",
              "    <tr>\n",
              "      <th>1</th>\n",
              "      <td>According to my interpretation of the problem, two lines must be perpendicular.</td>\n",
              "    </tr>\n",
              "    <tr>\n",
              "      <th>2</th>\n",
              "      <td>Nothing is as offensive as innocence.</td>\n",
              "    </tr>\n",
              "    <tr>\n",
              "      <th>3</th>\n",
              "      <td>Don't ask me to carry an oily rag like that.</td>\n",
              "    </tr>\n",
              "    <tr>\n",
              "      <th>4</th>\n",
              "      <td>Now the hope was gone.</td>\n",
              "    </tr>\n",
              "    <tr>\n",
              "      <th>5</th>\n",
              "      <td>Etiquette mandates compliance with existing regulations.</td>\n",
              "    </tr>\n",
              "    <tr>\n",
              "      <th>6</th>\n",
              "      <td>The need for reupholstering, redecorating, repainting becomes more infrequent.</td>\n",
              "    </tr>\n",
              "    <tr>\n",
              "      <th>7</th>\n",
              "      <td>Academic aptitude guarantees your diploma.</td>\n",
              "    </tr>\n",
              "    <tr>\n",
              "      <th>8</th>\n",
              "      <td>Don't ask me to carry an oily rag like that.</td>\n",
              "    </tr>\n",
              "    <tr>\n",
              "      <th>9</th>\n",
              "      <td>They used an aggressive policeman to flag thoughtless motorists.</td>\n",
              "    </tr>\n",
              "  </tbody>\n",
              "</table>"
            ]
          },
          "metadata": {}
        }
      ]
    },
    {
      "cell_type": "markdown",
      "metadata": {
        "id": "fowcOllGNNju"
      },
      "source": [
        "Alright! The transcriptions look very clean and the language seems to correspond more to written text than dialogue. This makes sense taking into account that [Timit](https://huggingface.co/datasets/timit_asr) is a read speech corpus."
      ]
    },
    {
      "cell_type": "markdown",
      "metadata": {
        "id": "vq7OR50LN49m"
      },
      "source": [
        "We can see that the transcriptions contain some special characters, such as `,.?!;:`. Without a language model, it is much harder to classify speech chunks to such special characters because they don't really correspond to a characteristic sound unit. *E.g.*, the letter `\"s\"` has a more or less clear sound, whereas the special character `\".\"` does not.\n",
        "Also in order to understand the meaning of a speech signal, it is usually not necessary to include special characters in the transcription.\n",
        "\n",
        "In addition, we normalize the text to only have lower case letters and append a word separator token at the end."
      ]
    },
    {
      "cell_type": "code",
      "metadata": {
        "id": "svKzVJ_hQGK6"
      },
      "source": [
        "import re\n",
        "chars_to_ignore_regex = '[\\,\\?\\.\\!\\-\\;\\:\\\"]'\n",
        "\n",
        "def remove_special_characters(batch):\n",
        "    batch[\"text\"] = re.sub(chars_to_ignore_regex, '', batch[\"text\"]).lower() + \" \"\n",
        "    return batch"
      ],
      "execution_count": 8,
      "outputs": []
    },
    {
      "cell_type": "code",
      "metadata": {
        "colab": {
          "base_uri": "https://localhost:8080/",
          "height": 118,
          "referenced_widgets": [
            "1e6d60fa600449b5bf705b18f5429ca7",
            "f877f5444dd84e4eb3564c663f655a47",
            "6715e84a48dd4e37aa87938c0973d3f9",
            "1237dec7803449aba8b7a0cf65d1c321",
            "7c37c35774e5455ca3c4a699851cbbb4",
            "67966f53486f446ebdea57c0f9415a90",
            "45aa016ef6df41969ff9f1480a39a0f1",
            "8a5f444afab642e3b220c41410743c42",
            "aa5ae57ac67942eab1cdf30430c122e8",
            "656901cda94e4cbebd056a3ce06c6604",
            "002055663e184973ad0fd486ae97823a",
            "c04103ae033c4b6c910502659c969799",
            "e19760e83fcc464da0ac7cd5e5bd7192",
            "cf3b239d02834761b8200c6296f09d0a",
            "95cf8f1cafa249d3a714a976ef3ef25e",
            "324e1382702f4eccb947561061d64c08",
            "e6c41c8a01fd41ba8694f02e3cd30f71",
            "f89e764f5a54441d872fd1b84be28686",
            "a1eb06ef5aca4cd99af893a5879f15e6",
            "6271f4fe9157415686f322ae74fa9beb",
            "383135fcdf454e7aa9a9c339b5a491d6",
            "d33c0a776c4f4991bf781b66904e1c5e"
          ]
        },
        "id": "XIHocAuTQbBR",
        "outputId": "9890e504-9bdb-4332-c191-c23108cf40f8"
      },
      "source": [
        "timit = timit.map(remove_special_characters)"
      ],
      "execution_count": 9,
      "outputs": [
        {
          "output_type": "stream",
          "name": "stderr",
          "text": [
            "WARNING:datasets.fingerprint:Parameter 'function'=<function remove_special_characters at 0x7f6603f5a290> of the transform datasets.arrow_dataset.Dataset._map_single couldn't be hashed properly, a random hash was used instead. Make sure your transforms and parameters are serializable with pickle or dill for the dataset fingerprinting and caching to work. If you reuse this transform, the caching mechanism will consider it to be different from the previous calls and recompute everything. This warning is only showed once. Subsequent hashing failures won't be showed.\n"
          ]
        },
        {
          "output_type": "display_data",
          "data": {
            "text/plain": [
              "0ex [00:00, ?ex/s]"
            ],
            "application/vnd.jupyter.widget-view+json": {
              "version_major": 2,
              "version_minor": 0,
              "model_id": "1e6d60fa600449b5bf705b18f5429ca7"
            }
          },
          "metadata": {}
        },
        {
          "output_type": "display_data",
          "data": {
            "text/plain": [
              "0ex [00:00, ?ex/s]"
            ],
            "application/vnd.jupyter.widget-view+json": {
              "version_major": 2,
              "version_minor": 0,
              "model_id": "c04103ae033c4b6c910502659c969799"
            }
          },
          "metadata": {}
        }
      ]
    },
    {
      "cell_type": "code",
      "metadata": {
        "colab": {
          "base_uri": "https://localhost:8080/",
          "height": 363
        },
        "id": "RBDRAAYxRE6n",
        "outputId": "a848cc74-8763-41f8-874a-7a40879ed951"
      },
      "source": [
        "show_random_elements(timit[\"train\"].remove_columns([\"audio\", \"file\"]))"
      ],
      "execution_count": 10,
      "outputs": [
        {
          "output_type": "display_data",
          "data": {
            "text/plain": [
              "<IPython.core.display.HTML object>"
            ],
            "text/html": [
              "<table border=\"1\" class=\"dataframe\">\n",
              "  <thead>\n",
              "    <tr style=\"text-align: right;\">\n",
              "      <th></th>\n",
              "      <th>text</th>\n",
              "    </tr>\n",
              "  </thead>\n",
              "  <tbody>\n",
              "    <tr>\n",
              "      <th>0</th>\n",
              "      <td>don't ask me to carry an oily rag like that</td>\n",
              "    </tr>\n",
              "    <tr>\n",
              "      <th>1</th>\n",
              "      <td>at no time were algae found in the mixed liquor</td>\n",
              "    </tr>\n",
              "    <tr>\n",
              "      <th>2</th>\n",
              "      <td>did shawn catch that big goose without help</td>\n",
              "    </tr>\n",
              "    <tr>\n",
              "      <th>3</th>\n",
              "      <td>he wore a brown knit sport shirt with no tie</td>\n",
              "    </tr>\n",
              "    <tr>\n",
              "      <th>4</th>\n",
              "      <td>don't ask me to carry an oily rag like that</td>\n",
              "    </tr>\n",
              "    <tr>\n",
              "      <th>5</th>\n",
              "      <td>i honor my mom</td>\n",
              "    </tr>\n",
              "    <tr>\n",
              "      <th>6</th>\n",
              "      <td>she had your dark suit in greasy wash water all year</td>\n",
              "    </tr>\n",
              "    <tr>\n",
              "      <th>7</th>\n",
              "      <td>nonprofit organizations have frequent fund raisers</td>\n",
              "    </tr>\n",
              "    <tr>\n",
              "      <th>8</th>\n",
              "      <td>she had your dark suit in greasy wash water all year</td>\n",
              "    </tr>\n",
              "    <tr>\n",
              "      <th>9</th>\n",
              "      <td>is his appetite improved</td>\n",
              "    </tr>\n",
              "  </tbody>\n",
              "</table>"
            ]
          },
          "metadata": {}
        }
      ]
    },
    {
      "cell_type": "markdown",
      "metadata": {
        "id": "jwfaptH5RJwA"
      },
      "source": [
        "Good! This looks better. We have removed most special characters from transcriptions and normalized them to lower-case only.\n",
        "\n",
        "In CTC, it is common to classify speech chunks into letters, so we will do the same here. \n",
        "Let's extract all distinct letters of the training and test data and build our vocabulary from this set of letters.\n",
        "\n",
        "We write a mapping function that concatenates all transcriptions into one long transcription and then transforms the string into a set of chars. \n",
        "It is important to pass the argument `batched=True` to the `map(...)` function so that the mapping function has access to all transcriptions at once."
      ]
    },
    {
      "cell_type": "code",
      "metadata": {
        "id": "LwCshNbbeRZR"
      },
      "source": [
        "def extract_all_chars(batch):\n",
        "  all_text = \" \".join(batch[\"text\"])\n",
        "  vocab = list(set(all_text))\n",
        "  return {\"vocab\": [vocab], \"all_text\": [all_text]}"
      ],
      "execution_count": 11,
      "outputs": []
    },
    {
      "cell_type": "code",
      "metadata": {
        "colab": {
          "base_uri": "https://localhost:8080/",
          "height": 81,
          "referenced_widgets": [
            "dad8471a27c0452b90cff23187bcb1d1",
            "2c9006a8369f42d5b8fe0480a56db711",
            "1a3a1715473a459db4c7d5248a06a25c",
            "7e02d632a2934caabfef348c4423029f",
            "63b609544c6645d2b6cf3802fa367096",
            "0cced33e97fa4e88a590a4b8c58592f7",
            "c9e507b95aeb4ddfbd2e53cf7866d3fe",
            "0b8915adc108468bacc7360aa22620cc",
            "81b92dd2704846f491d57fb6b6c1d986",
            "a4ddd237f7ea41dca59b800a059c6d13",
            "6566e989546549d99a6615ba70c40024",
            "efd6fd339e314b638df96f7e69d09791",
            "2f7614fea4ce4ebf83284adbf0aa8342",
            "06d343f1dc794d4eaf6c19aca28bbc26",
            "038ef9e1dd0e401bbf037fd6405731fa",
            "aaa39de7360f47eb84e192ab887606fe",
            "30f6ed7f95e548b6840ebf7ccd79cc4f",
            "75fd88e6866a40a6a0c15ddb0c8dd0bb",
            "2a1df6e42ecb458288e620baf3e32ea0",
            "1a574e7d96664359aab75590c9803a9a",
            "5d18a26091a14ba6b8dfa7ef3781e0f7",
            "19933d6b98ed4c7399202efac227f221"
          ]
        },
        "id": "_m6uUjjcfbjH",
        "outputId": "5a2b829d-1a9a-4bdd-c206-60dbe06bd5b7"
      },
      "source": [
        "vocabs = timit.map(extract_all_chars, batched=True, batch_size=-1, keep_in_memory=True, remove_columns=timit.column_names[\"train\"])"
      ],
      "execution_count": 12,
      "outputs": [
        {
          "output_type": "display_data",
          "data": {
            "text/plain": [
              "  0%|          | 0/1 [00:00<?, ?ba/s]"
            ],
            "application/vnd.jupyter.widget-view+json": {
              "version_major": 2,
              "version_minor": 0,
              "model_id": "dad8471a27c0452b90cff23187bcb1d1"
            }
          },
          "metadata": {}
        },
        {
          "output_type": "display_data",
          "data": {
            "text/plain": [
              "  0%|          | 0/1 [00:00<?, ?ba/s]"
            ],
            "application/vnd.jupyter.widget-view+json": {
              "version_major": 2,
              "version_minor": 0,
              "model_id": "efd6fd339e314b638df96f7e69d09791"
            }
          },
          "metadata": {}
        }
      ]
    },
    {
      "cell_type": "markdown",
      "metadata": {
        "id": "7oVgE8RZSJNP"
      },
      "source": [
        "Now, we create the union of all distinct letters in the training dataset and test dataset and convert the resulting list into an enumerated dictionary."
      ]
    },
    {
      "cell_type": "code",
      "metadata": {
        "id": "aQfneNsmlJI0"
      },
      "source": [
        "vocab_list = list(set(vocabs[\"train\"][\"vocab\"][0]) | set(vocabs[\"test\"][\"vocab\"][0]))"
      ],
      "execution_count": 13,
      "outputs": []
    },
    {
      "cell_type": "code",
      "metadata": {
        "colab": {
          "base_uri": "https://localhost:8080/"
        },
        "id": "_0kRndSvqaKk",
        "outputId": "b02fd103-a162-4e2f-82ef-5e3ee2d91c21"
      },
      "source": [
        "vocab_dict = {v: k for k, v in enumerate(vocab_list)}\n",
        "vocab_dict"
      ],
      "execution_count": 14,
      "outputs": [
        {
          "output_type": "execute_result",
          "data": {
            "text/plain": [
              "{'h': 0,\n",
              " 'x': 1,\n",
              " 'r': 2,\n",
              " 'o': 3,\n",
              " 'y': 4,\n",
              " 'l': 5,\n",
              " 'd': 6,\n",
              " 'q': 7,\n",
              " 'f': 8,\n",
              " 'v': 9,\n",
              " ' ': 10,\n",
              " 'z': 11,\n",
              " 'n': 12,\n",
              " \"'\": 13,\n",
              " 'a': 14,\n",
              " 'g': 15,\n",
              " 'p': 16,\n",
              " 'i': 17,\n",
              " 'j': 18,\n",
              " 'k': 19,\n",
              " 't': 20,\n",
              " 'b': 21,\n",
              " 'c': 22,\n",
              " 'm': 23,\n",
              " 's': 24,\n",
              " 'e': 25,\n",
              " 'u': 26,\n",
              " 'w': 27}"
            ]
          },
          "metadata": {},
          "execution_count": 14
        }
      ]
    },
    {
      "cell_type": "markdown",
      "metadata": {
        "id": "JOSzbvs9SXT1"
      },
      "source": [
        "Cool, we see that all letters of the alphabet occur in the dataset (which is not really surprising) and we also extracted the special characters `\" \"` and `'`. Note that we did not exclude those special characters because: \n",
        "\n",
        "- The model has to learn to predict when a word finished or else the model prediction would always be a sequence of chars which would make it impossible to separate words from each other.\n",
        "- In English, we need to keep the `'` character to differentiate between words, *e.g.*, `\"it's\"` and `\"its\"` which have very different meanings."
      ]
    },
    {
      "cell_type": "markdown",
      "metadata": {
        "id": "b1fBRCn-TRaO"
      },
      "source": [
        "To make it clearer that `\" \"` has its own token class, we give it a more visible character `|`. In addition, we also add an \"unknown\" token so that the model can later deal with characters not encountered in Timit's training set. \n",
        "\n",
        "Finally, we also add a padding token that corresponds to CTC's \"*blank token*\". The \"blank token\" is a core component of the CTC algorithm. For more information, please take a look at the \"Alignment\" section [here](https://distill.pub/2017/ctc/)."
      ]
    },
    {
      "cell_type": "code",
      "metadata": {
        "id": "npbIbBoLgaFX"
      },
      "source": [
        "vocab_dict[\"|\"] = vocab_dict[\" \"]\n",
        "del vocab_dict[\" \"]"
      ],
      "execution_count": 15,
      "outputs": []
    },
    {
      "cell_type": "code",
      "metadata": {
        "id": "znF0bNunsjbl",
        "colab": {
          "base_uri": "https://localhost:8080/"
        },
        "outputId": "4299e697-60bb-4932-9c12-e3f49ea9c010"
      },
      "source": [
        "vocab_dict[\"[UNK]\"] = len(vocab_dict)\n",
        "vocab_dict[\"[PAD]\"] = len(vocab_dict)\n",
        "len(vocab_dict)"
      ],
      "execution_count": 16,
      "outputs": [
        {
          "output_type": "execute_result",
          "data": {
            "text/plain": [
              "30"
            ]
          },
          "metadata": {},
          "execution_count": 16
        }
      ]
    },
    {
      "cell_type": "markdown",
      "metadata": {
        "id": "SFPGfet8U5sL"
      },
      "source": [
        "Cool, now our vocabulary is complete and consists of 30 tokens, which means that the linear layer that we will add on top of the pretrained Wav2Vec2 checkpoint will have an output dimension of 30."
      ]
    },
    {
      "cell_type": "markdown",
      "metadata": {
        "id": "1CujRgBNVRaD"
      },
      "source": [
        "Let's now save the vocabulary as a json file."
      ]
    },
    {
      "cell_type": "code",
      "metadata": {
        "id": "ehyUoh9vk191"
      },
      "source": [
        "import json\n",
        "with open('vocab.json', 'w') as vocab_file:\n",
        "    json.dump(vocab_dict, vocab_file)"
      ],
      "execution_count": 17,
      "outputs": []
    },
    {
      "cell_type": "markdown",
      "metadata": {
        "id": "SHJDaKlIVVim"
      },
      "source": [
        "In a final step, we use the json file to instantiate an object of the `Wav2Vec2CTCTokenizer` class."
      ]
    },
    {
      "cell_type": "code",
      "metadata": {
        "id": "xriFGEWQkO4M"
      },
      "source": [
        "from transformers import Wav2Vec2CTCTokenizer\n",
        "\n",
        "tokenizer = Wav2Vec2CTCTokenizer(\"./vocab.json\", unk_token=\"[UNK]\", pad_token=\"[PAD]\", word_delimiter_token=\"|\")"
      ],
      "execution_count": 18,
      "outputs": []
    },
    {
      "cell_type": "markdown",
      "metadata": {
        "id": "P6L2EVWwIazG"
      },
      "source": [
        "If one wants to re-use the just created tokenizer with the fine-tuned model of this notebook, it is strongly advised to upload the `tokenizer` to the [🤗 Hub](https://huggingface.co/). Let's call the repo to which we will upload the files\n",
        "`\"wav2vec2-base-timit-demo-colab\"`:"
      ]
    },
    {
      "cell_type": "code",
      "metadata": {
        "id": "1mbffBdxIl0M"
      },
      "source": [
        "repo_name = \"wav2vec2-base-timit-demo-google-colab\""
      ],
      "execution_count": 19,
      "outputs": []
    },
    {
      "cell_type": "markdown",
      "metadata": {
        "id": "pmpG2ftFIu3B"
      },
      "source": [
        "and upload the tokenizer to the [🤗 Hub](https://huggingface.co/)."
      ]
    },
    {
      "cell_type": "markdown",
      "metadata": {
        "id": "KvL12DrNV4cx"
      },
      "source": [
        "Great, you can see the just created repository under `https://huggingface.co/<your-username>/wav2vec2-base-timit-demo-colab`"
      ]
    },
    {
      "cell_type": "markdown",
      "metadata": {
        "id": "mYcIiR2FQ96i"
      },
      "source": [
        "### Create Wav2Vec2 Feature Extractor"
      ]
    },
    {
      "cell_type": "markdown",
      "metadata": {
        "id": "Y6mDEyW719rx"
      },
      "source": [
        "Speech is a continuous signal and to be treated by computers, it first has to be discretized, which is usually called **sampling**. The sampling rate hereby plays an important role in that it defines how many data points of the speech signal are measured per second. Therefore, sampling with a higher sampling rate results in a better approximation of the *real* speech signal but also necessitates more values per second.\n",
        "\n",
        "A pretrained checkpoint expects its input data to have been sampled more or less from the same distribution as the data it was trained on. The same speech signals sampled at two different rates have a very different distribution, *e.g.*, doubling the sampling rate results in data points being twice as long. Thus, \n",
        "before fine-tuning a pretrained checkpoint of an ASR model, it is crucial to verify that the sampling rate of the data that was used to pretrain the model matches the sampling rate of the dataset used to fine-tune the model.\n",
        "\n",
        "Wav2Vec2 was pretrained on the audio data of [LibriSpeech](https://huggingface.co/datasets/librispeech_asr) and LibriVox which both were sampling with 16kHz. Our fine-tuning dataset, [Timit](hhtps://huggingface.co/datasets/timit_asr), was luckily also sampled with 16kHz. If the fine-tuning dataset would have been sampled with a rate lower or higher than 16kHz, we first would have had to up or downsample the speech signal to match the sampling rate of the data used for pretraining. \n",
        "\n"
      ]
    },
    {
      "cell_type": "markdown",
      "metadata": {
        "id": "KuUbPW7oV-B5"
      },
      "source": [
        "A Wav2Vec2 feature extractor object requires the following parameters to be instantiated:\n",
        "\n",
        "- `feature_size`: Speech models take a sequence of feature vectors as an input. While the length of this sequence obviously varies, the feature size should not. In the case of Wav2Vec2, the feature size is 1 because the model was trained on the raw speech signal ${}^2$.\n",
        "- `sampling_rate`: The sampling rate at which the model is trained on.\n",
        "- `padding_value`: For batched inference, shorter inputs need to be padded with a specific value\n",
        "- `do_normalize`: Whether the input should be *zero-mean-unit-variance* normalized or not. Usually, speech models perform better when normalizing the input\n",
        "- `return_attention_mask`: Whether the model should make use of an `attention_mask` for batched inference. In general, models should **always** make use of the `attention_mask` to mask padded tokens. However, due to a very specific design choice of `Wav2Vec2`'s \"base\" checkpoint, better results are achieved when using no `attention_mask`. This is **not** recommended for other speech models. For more information, one can take a look at [this](https://github.com/pytorch/fairseq/issues/3227) issue. **Important** If you want to use this notebook to fine-tune [large-lv60](https://huggingface.co/facebook/wav2vec2-large-lv60), this parameter should be set to `True`."
      ]
    },
    {
      "cell_type": "code",
      "metadata": {
        "id": "kAR0-2KLkopp"
      },
      "source": [
        "from transformers import Wav2Vec2FeatureExtractor\n",
        "\n",
        "feature_extractor = Wav2Vec2FeatureExtractor(feature_size=1, sampling_rate=16000, padding_value=0.0, do_normalize=True, return_attention_mask=False)"
      ],
      "execution_count": 21,
      "outputs": []
    },
    {
      "cell_type": "markdown",
      "metadata": {
        "id": "qUETetgqYC3W"
      },
      "source": [
        "Great, Wav2Vec2's feature extraction pipeline is thereby fully defined!\n",
        "\n",
        "To make the usage of Wav2Vec2 as user-friendly as possible, the feature extractor and tokenizer are *wrapped* into a single `Wav2Vec2Processor` class so that one only needs a `model` and `processor` object."
      ]
    },
    {
      "cell_type": "code",
      "metadata": {
        "id": "KYZtoW-tlZgl"
      },
      "source": [
        "from transformers import Wav2Vec2Processor\n",
        "\n",
        "processor = Wav2Vec2Processor(feature_extractor=feature_extractor, tokenizer=tokenizer)"
      ],
      "execution_count": 22,
      "outputs": []
    },
    {
      "cell_type": "markdown",
      "metadata": {
        "id": "DrKnYuvDIoOO"
      },
      "source": [
        "Next, we can prepare the dataset."
      ]
    },
    {
      "cell_type": "markdown",
      "metadata": {
        "id": "YFmShnl7RE35"
      },
      "source": [
        "### Preprocess Data\n",
        "\n",
        "So far, we have not looked at the actual values of the speech signal but just the transcription. In addition to `'text'`, our datasets include two more column names `'file'` and `'audio'`. `'file'` states the absolute path of the audio file. Let's take a look."
      ]
    },
    {
      "cell_type": "code",
      "metadata": {
        "colab": {
          "base_uri": "https://localhost:8080/",
          "height": 35
        },
        "id": "TTCS7W6XJ9BG",
        "outputId": "a66d8628-4a8c-4a8f-d1aa-98c23c33bde9"
      },
      "source": [
        "timit[\"train\"][0][\"file\"]"
      ],
      "execution_count": 23,
      "outputs": [
        {
          "output_type": "execute_result",
          "data": {
            "text/plain": [
              "'/root/.cache/huggingface/datasets/downloads/extracted/404950a46da14eac65eb4e2a8317b1372fb3971d980d91d5d5b221275b1fd7e0/data/TRAIN/DR4/MMDM0/SI681.WAV'"
            ],
            "application/vnd.google.colaboratory.intrinsic+json": {
              "type": "string"
            }
          },
          "metadata": {},
          "execution_count": 23
        }
      ]
    },
    {
      "cell_type": "markdown",
      "metadata": {
        "id": "BwxprOw4Nzrl"
      },
      "source": [
        "`Wav2Vec2` expects the input in the format of a 1-dimensional array of 16 kHz. This means that the audio file has to be loaded and resampled.\n",
        "\n",
        " Thankfully, `datasets` does this automatically when calling the column `audio`. Let try it out. "
      ]
    },
    {
      "cell_type": "code",
      "metadata": {
        "colab": {
          "base_uri": "https://localhost:8080/"
        },
        "id": "mk9QHuSsN7lf",
        "outputId": "646c46a2-d12c-43fe-b8ab-cf4db9d41d35"
      },
      "source": [
        "timit[\"train\"][0][\"audio\"]"
      ],
      "execution_count": 24,
      "outputs": [
        {
          "output_type": "execute_result",
          "data": {
            "text/plain": [
              "{'path': '/root/.cache/huggingface/datasets/downloads/extracted/404950a46da14eac65eb4e2a8317b1372fb3971d980d91d5d5b221275b1fd7e0/data/TRAIN/DR4/MMDM0/SI681.WAV',\n",
              " 'array': array([-2.1362305e-04,  6.1035156e-05,  3.0517578e-05, ...,\n",
              "        -3.0517578e-05, -9.1552734e-05, -6.1035156e-05], dtype=float32),\n",
              " 'sampling_rate': 16000}"
            ]
          },
          "metadata": {},
          "execution_count": 24
        }
      ]
    },
    {
      "cell_type": "markdown",
      "metadata": {
        "id": "wSBIGEiaKHMn"
      },
      "source": [
        "We can see that the audio file has automatically been loaded. This is thanks to the new [`\"Audio\"` feature](https://huggingface.co/docs/datasets/package_reference/main_classes.html?highlight=audio#datasets.Audio) introduced in `datasets == 4.13.3`, which loads and resamples audio files on-the-fly upon calling.\n",
        "\n",
        "The sampling rate is set to 16kHz which is what `Wav2Vec2` expects as an input."
      ]
    },
    {
      "cell_type": "markdown",
      "metadata": {
        "id": "SOckzFd4Mbzq"
      },
      "source": [
        "Great, let's listen to a couple of audio files to better understand the dataset and verify that the audio was correctly loaded. \n",
        "\n",
        "**Note**: *You can click the following cell a couple of times to listen to different speech samples.*"
      ]
    },
    {
      "cell_type": "code",
      "metadata": {
        "colab": {
          "base_uri": "https://localhost:8080/",
          "height": 93
        },
        "id": "dueM6U7Ev0OA",
        "outputId": "e1f629e8-3172-4e59-c7c1-ad6d948113a8"
      },
      "source": [
        "import IPython.display as ipd\n",
        "import numpy as np\n",
        "import random\n",
        "\n",
        "rand_int = random.randint(0, len(timit[\"train\"]))\n",
        "\n",
        "print(timit[\"train\"][rand_int][\"text\"])\n",
        "ipd.Audio(data=np.asarray(timit[\"train\"][rand_int][\"audio\"][\"array\"]), autoplay=True, rate=16000)"
      ],
      "execution_count": 25,
      "outputs": [
        {
          "output_type": "stream",
          "name": "stdout",
          "text": [
            "somewhere birds were sweetly calling were answered \n"
          ]
        },
        {
          "output_type": "execute_result",
          "data": {
            "text/plain": [
              "<IPython.lib.display.Audio object>"
            ],
            "text/html": [
              "\n",
              "                <audio  controls=\"controls\" autoplay=\"autoplay\">\n",
              "                    <source src=\"data:audio/wav;base64,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\" type=\"audio/wav\" />\n",
              "                    Your browser does not support the audio element.\n",
              "                </audio>\n",
              "              "
            ]
          },
          "metadata": {},
          "execution_count": 25
        }
      ]
    },
    {
      "cell_type": "markdown",
      "metadata": {
        "id": "1MaL9J2dNVtG"
      },
      "source": [
        "It can be heard, that the speakers change along with their speaking rate, accent, etc. Overall, the recordings sound relatively clear though, which is to be expected from a read speech corpus.\n",
        "\n",
        "Let's do a final check that the data is correctly prepared, by printing the shape of the speech input, its transcription, and the corresponding sampling rate.\n",
        "\n",
        "**Note**: *You can click the following cell a couple of times to verify multiple samples.*"
      ]
    },
    {
      "cell_type": "code",
      "metadata": {
        "colab": {
          "base_uri": "https://localhost:8080/"
        },
        "id": "1Po2g7YPuRTx",
        "outputId": "6c030b98-0350-43de-be78-c7cfbf823dd1"
      },
      "source": [
        "rand_int = random.randint(0, len(timit[\"train\"]))\n",
        "\n",
        "print(\"Target text:\", timit[\"train\"][rand_int][\"text\"])\n",
        "print(\"Input array shape:\", np.asarray(timit[\"train\"][rand_int][\"audio\"][\"array\"]).shape)\n",
        "print(\"Sampling rate:\", timit[\"train\"][rand_int][\"audio\"][\"sampling_rate\"])"
      ],
      "execution_count": 26,
      "outputs": [
        {
          "output_type": "stream",
          "name": "stdout",
          "text": [
            "Target text: bob found more clams at the ocean's edge \n",
            "Input array shape: (47514,)\n",
            "Sampling rate: 16000\n"
          ]
        }
      ]
    },
    {
      "cell_type": "markdown",
      "metadata": {
        "id": "M9teZcSwOBJ4"
      },
      "source": [
        "Good! Everything looks fine - the data is a 1-dimensional array, the sampling rate always corresponds to 16kHz, and the target text is normalized."
      ]
    },
    {
      "cell_type": "markdown",
      "metadata": {
        "id": "k3Pbn5WvOYZF"
      },
      "source": [
        "Finally, we can process the dataset to the format expected by the model for training. We will make use of the `map(...)` function.\n",
        "\n",
        "First, we load and resample the audio data, simply by calling `batch[\"audio\"]`.\n",
        "Second, we extract the `input_values` from the loaded audio file. In our case, the `Wav2Vec2Processor` only normalizes the data. For other speech models, however, this step can include more complex feature extraction, such as [Log-Mel feature extraction](https://en.wikipedia.org/wiki/Mel-frequency_cepstrum).\n",
        "Third, we encode the transcriptions to label ids.\n",
        "\n",
        "**Note**: This mapping function is a good example of how the `Wav2Vec2Processor` class should be used. In \"normal\" context, calling `processor(...)` is redirected to `Wav2Vec2FeatureExtractor`'s call method. When wrapping the processor into the `as_target_processor` context, however, the same method is redirected to `Wav2Vec2CTCTokenizer`'s call method.\n",
        "For more information please check the [docs](https://huggingface.co/transformers/master/model_doc/wav2vec2.html#transformers.Wav2Vec2Processor.__call__)."
      ]
    },
    {
      "cell_type": "code",
      "metadata": {
        "id": "eJY7I0XAwe9p"
      },
      "source": [
        "def prepare_dataset(batch):\n",
        "    audio = batch[\"audio\"]\n",
        "\n",
        "    # batched output is \"un-batched\" to ensure mapping is correct\n",
        "    batch[\"input_values\"] = processor(audio[\"array\"], sampling_rate=audio[\"sampling_rate\"]).input_values[0]\n",
        "    batch[\"input_length\"] = len(batch[\"input_values\"])\n",
        "    \n",
        "    with processor.as_target_processor():\n",
        "        batch[\"labels\"] = processor(batch[\"text\"]).input_ids\n",
        "    return batch"
      ],
      "execution_count": 27,
      "outputs": []
    },
    {
      "cell_type": "markdown",
      "metadata": {
        "id": "hVMZhH4-nP8-"
      },
      "source": [
        "Let's apply the data preparation function to all examples."
      ]
    },
    {
      "cell_type": "code",
      "metadata": {
        "id": "-np9xYK-wl8q"
      },
      "source": [
        "timit = timit.map(prepare_dataset, remove_columns=timit.column_names[\"train\"], num_proc=4)"
      ],
      "execution_count": null,
      "outputs": []
    },
    {
      "cell_type": "markdown",
      "metadata": {
        "id": "p_MuJSH8nTuQ"
      },
      "source": [
        "**Note**: Currently `datasets` make use of [`torchaudio`](https://pytorch.org/audio/stable/index.html) and [`librosa`](https://librosa.org/doc/latest/index.html) for audio loading and resampling. If you wish to implement your own costumized data loading/sampling, feel free to just make use of the `\"path\"` column instead and disregard the `\"audio\"` column."
      ]
    },
    {
      "cell_type": "markdown",
      "metadata": {
        "id": "M4J0bU1WsvAg"
      },
      "source": [
        "Long input sequences require a lot of memory. Since `Wav2Vec2` is based on `self-attention` the memory requirement scales quadratically with the input length for long input sequences (*cf.* with [this](https://www.reddit.com/r/MachineLearning/comments/genjvb/d_why_is_the_maximum_input_sequence_length_of/) reddit post). For this demo, let's filter all sequences that are longer than 4 seconds out of the training dataset."
      ]
    },
    {
      "cell_type": "code",
      "metadata": {
        "colab": {
          "base_uri": "https://localhost:8080/"
        },
        "id": "nqGobEPUvG3v",
        "outputId": "0cae58f9-2cd9-405a-ad60-7bb31e649911"
      },
      "source": [
        "max_input_length_in_sec = 4.0\n",
        "timit[\"train\"] = timit[\"train\"].filter(lambda x: x < max_input_length_in_sec * processor.feature_extractor.sampling_rate, input_columns=[\"input_length\"])"
      ],
      "execution_count": null,
      "outputs": [
        {
          "output_type": "stream",
          "name": "stderr",
          "text": [
            "Loading cached processed dataset at /root/.cache/huggingface/datasets/timit_asr/clean/2.0.1/b11b576ddcccbcefa7c9f0c4e6c2a43756f3033adffe0fb686aa61043d0450ad/cache-27a077ffa2911470.arrow\n"
          ]
        }
      ]
    },
    {
      "cell_type": "markdown",
      "metadata": {
        "id": "25Genil2v_Br"
      },
      "source": [
        "Awesome, now we are ready to start training!"
      ]
    },
    {
      "cell_type": "markdown",
      "metadata": {
        "id": "gYlQkKVoRUos"
      },
      "source": [
        "## Training & Evaluation\n",
        "\n",
        "The data is processed so that we are ready to start setting up the training pipeline. We will make use of 🤗's [Trainer](https://huggingface.co/transformers/master/main_classes/trainer.html?highlight=trainer) for which we essentially need to do the following:\n",
        "\n",
        "- Define a data collator. In contrast to most NLP models, Wav2Vec2 has a much larger input length than output length. *E.g.*, a sample of input length 50000 has an output length of no more than 100. Given the large input sizes, it is much more efficient to pad the training batches dynamically meaning that all training samples should only be padded to the longest sample in their batch and not the overall longest sample. Therefore, fine-tuning Wav2Vec2 requires a special padding data collator, which we will define below\n",
        "\n",
        "- Evaluation metric. During training, the model should be evaluated on the word error rate. We should define a `compute_metrics` function accordingly\n",
        "\n",
        "- Load a pretrained checkpoint. We need to load a pretrained checkpoint and configure it correctly for training.\n",
        "\n",
        "- Define the training configuration.\n",
        "\n",
        "After having fine-tuned the model, we will correctly evaluate it on the test data and verify that it has indeed learned to correctly transcribe speech."
      ]
    },
    {
      "cell_type": "markdown",
      "metadata": {
        "id": "Slk403unUS91"
      },
      "source": [
        "### Set-up Trainer\n",
        "\n",
        "Let's start by defining the data collator. The code for the data collator was copied from [this example](https://github.com/huggingface/transformers/blob/9a06b6b11bdfc42eea08fa91d0c737d1863c99e3/examples/research_projects/wav2vec2/run_asr.py#L81).\n",
        "\n",
        "Without going into too many details, in contrast to the common data collators, this data collator treats the `input_values` and `labels` differently and thus applies to separate padding functions on them (again making use of Wav2Vec2's context manager). This is necessary because in speech input and output are of different modalities meaning that they should not be treated by the same padding function.\n",
        "Analogous to the common data collators, the padding tokens in the labels with `-100` so that those tokens are **not** taken into account when computing the loss."
      ]
    },
    {
      "cell_type": "code",
      "metadata": {
        "id": "tborvC9hx88e"
      },
      "source": [
        "import torch\n",
        "\n",
        "from dataclasses import dataclass, field\n",
        "from typing import Any, Dict, List, Optional, Union\n",
        "\n",
        "@dataclass\n",
        "class DataCollatorCTCWithPadding:\n",
        "    \"\"\"\n",
        "    Data collator that will dynamically pad the inputs received.\n",
        "    Args:\n",
        "        processor (:class:`~transformers.Wav2Vec2Processor`)\n",
        "            The processor used for proccessing the data.\n",
        "        padding (:obj:`bool`, :obj:`str` or :class:`~transformers.tokenization_utils_base.PaddingStrategy`, `optional`, defaults to :obj:`True`):\n",
        "            Select a strategy to pad the returned sequences (according to the model's padding side and padding index)\n",
        "            among:\n",
        "            * :obj:`True` or :obj:`'longest'`: Pad to the longest sequence in the batch (or no padding if only a single\n",
        "              sequence if provided).\n",
        "            * :obj:`'max_length'`: Pad to a maximum length specified with the argument :obj:`max_length` or to the\n",
        "              maximum acceptable input length for the model if that argument is not provided.\n",
        "            * :obj:`False` or :obj:`'do_not_pad'` (default): No padding (i.e., can output a batch with sequences of\n",
        "              different lengths).\n",
        "    \"\"\"\n",
        "\n",
        "    processor: Wav2Vec2Processor\n",
        "    padding: Union[bool, str] = True\n",
        "\n",
        "    def __call__(self, features: List[Dict[str, Union[List[int], torch.Tensor]]]) -> Dict[str, torch.Tensor]:\n",
        "        # split inputs and labels since they have to be of different lenghts and need\n",
        "        # different padding methods\n",
        "        input_features = [{\"input_values\": feature[\"input_values\"]} for feature in features]\n",
        "        label_features = [{\"input_ids\": feature[\"labels\"]} for feature in features]\n",
        "\n",
        "        batch = self.processor.pad(\n",
        "            input_features,\n",
        "            padding=self.padding,\n",
        "            return_tensors=\"pt\",\n",
        "        )\n",
        "        with self.processor.as_target_processor():\n",
        "            labels_batch = self.processor.pad(\n",
        "                label_features,\n",
        "                padding=self.padding,\n",
        "                return_tensors=\"pt\",\n",
        "            )\n",
        "\n",
        "        # replace padding with -100 to ignore loss correctly\n",
        "        labels = labels_batch[\"input_ids\"].masked_fill(labels_batch.attention_mask.ne(1), -100)\n",
        "\n",
        "        batch[\"labels\"] = labels\n",
        "\n",
        "        return batch"
      ],
      "execution_count": null,
      "outputs": []
    },
    {
      "cell_type": "code",
      "metadata": {
        "id": "lbQf5GuZyQ4_"
      },
      "source": [
        "data_collator = DataCollatorCTCWithPadding(processor=processor, padding=True)"
      ],
      "execution_count": null,
      "outputs": []
    },
    {
      "cell_type": "markdown",
      "metadata": {
        "id": "xO-Zdj-5cxXp"
      },
      "source": [
        "Next, the evaluation metric is defined. As mentioned earlier, the \n",
        "predominant metric in ASR is the word error rate (WER), hence we will use it in this notebook as well."
      ]
    },
    {
      "cell_type": "code",
      "metadata": {
        "id": "9Xsux2gmyXso"
      },
      "source": [
        "wer_metric = load_metric(\"wer\")"
      ],
      "execution_count": null,
      "outputs": []
    },
    {
      "cell_type": "markdown",
      "metadata": {
        "id": "E1qZU5p-deqB"
      },
      "source": [
        "The model will return a sequence of logit vectors:\n",
        "$\\mathbf{y}_1, \\ldots, \\mathbf{y}_m$ with $\\mathbf{y}_1 = f_{\\theta}(x_1, \\ldots, x_n)[0]$ and $n >> m$.\n",
        "\n",
        "A logit vector $\\mathbf{y}_1$ contains the log-odds for each word in the vocabulary we defined earlier, thus $\\text{len}(\\mathbf{y}_i) =$ `config.vocab_size`. We are interested in the most likely prediction of the model and thus take the `argmax(...)` of the logits. Also, we transform the encoded labels back to the original string by replacing `-100` with the `pad_token_id` and decoding the ids while making sure that consecutive tokens are **not** grouped to the same token in CTC style ${}^1$."
      ]
    },
    {
      "cell_type": "code",
      "metadata": {
        "id": "1XZ-kjweyTy_"
      },
      "source": [
        "def compute_metrics(pred):\n",
        "    pred_logits = pred.predictions\n",
        "    pred_ids = np.argmax(pred_logits, axis=-1)\n",
        "\n",
        "    pred.label_ids[pred.label_ids == -100] = processor.tokenizer.pad_token_id\n",
        "\n",
        "    pred_str = processor.batch_decode(pred_ids)\n",
        "    # we do not want to group tokens when computing the metrics\n",
        "    label_str = processor.batch_decode(pred.label_ids, group_tokens=False)\n",
        "\n",
        "    wer = wer_metric.compute(predictions=pred_str, references=label_str)\n",
        "\n",
        "    return {\"wer\": wer}"
      ],
      "execution_count": null,
      "outputs": []
    },
    {
      "cell_type": "markdown",
      "metadata": {
        "id": "Xmgrx4bRwLIH"
      },
      "source": [
        "Now, we can load the pretrained `Wav2Vec2` checkpoint. The tokenizer's `pad_token_id` must be to define the model's `pad_token_id` or in the case of `Wav2Vec2ForCTC` also CTC's *blank token* ${}^2$. To save GPU memory, we enable PyTorch's [gradient checkpointing](https://pytorch.org/docs/stable/checkpoint.html) and also set the loss reduction to \"*mean*\"."
      ]
    },
    {
      "cell_type": "code",
      "metadata": {
        "colab": {
          "base_uri": "https://localhost:8080/"
        },
        "id": "e7cqAWIayn6w",
        "outputId": "0b87744a-98a0-4198-c9f6-2a0f46365058"
      },
      "source": [
        "from transformers import Wav2Vec2ForCTC\n",
        "\n",
        "model = Wav2Vec2ForCTC.from_pretrained(\n",
        "    \"facebook/wav2vec2-base\",\n",
        "    ctc_loss_reduction=\"mean\", \n",
        "    pad_token_id=processor.tokenizer.pad_token_id,\n",
        ")"
      ],
      "execution_count": null,
      "outputs": [
        {
          "output_type": "stream",
          "name": "stderr",
          "text": [
            "loading configuration file https://huggingface.co/facebook/wav2vec2-base/resolve/main/config.json from cache at /root/.cache/huggingface/transformers/c7746642f045322fd01afa31271dd490e677ea11999e68660a92619ec7c892b4.ce1f96bfaf3d7475cb8187b9668c7f19437ade45fb9ceb78d2b06a2cec198015\n",
            "/usr/local/lib/python3.7/dist-packages/transformers/configuration_utils.py:357: UserWarning: Passing `gradient_checkpointing` to a config initialization is deprecated and will be removed in v5 Transformers. Using `model.gradient_checkpointing_enable()` instead, or if you are using the `Trainer` API, pass `gradient_checkpointing=True` in your `TrainingArguments`.\n",
            "  \"Passing `gradient_checkpointing` to a config initialization is deprecated and will be removed in v5 \"\n",
            "Model config Wav2Vec2Config {\n",
            "  \"activation_dropout\": 0.0,\n",
            "  \"adapter_kernel_size\": 3,\n",
            "  \"adapter_stride\": 2,\n",
            "  \"add_adapter\": false,\n",
            "  \"apply_spec_augment\": true,\n",
            "  \"architectures\": [\n",
            "    \"Wav2Vec2ForPreTraining\"\n",
            "  ],\n",
            "  \"attention_dropout\": 0.1,\n",
            "  \"bos_token_id\": 1,\n",
            "  \"classifier_proj_size\": 256,\n",
            "  \"codevector_dim\": 256,\n",
            "  \"contrastive_logits_temperature\": 0.1,\n",
            "  \"conv_bias\": false,\n",
            "  \"conv_dim\": [\n",
            "    512,\n",
            "    512,\n",
            "    512,\n",
            "    512,\n",
            "    512,\n",
            "    512,\n",
            "    512\n",
            "  ],\n",
            "  \"conv_kernel\": [\n",
            "    10,\n",
            "    3,\n",
            "    3,\n",
            "    3,\n",
            "    3,\n",
            "    2,\n",
            "    2\n",
            "  ],\n",
            "  \"conv_stride\": [\n",
            "    5,\n",
            "    2,\n",
            "    2,\n",
            "    2,\n",
            "    2,\n",
            "    2,\n",
            "    2\n",
            "  ],\n",
            "  \"ctc_loss_reduction\": \"mean\",\n",
            "  \"ctc_zero_infinity\": false,\n",
            "  \"diversity_loss_weight\": 0.1,\n",
            "  \"do_stable_layer_norm\": false,\n",
            "  \"eos_token_id\": 2,\n",
            "  \"feat_extract_activation\": \"gelu\",\n",
            "  \"feat_extract_norm\": \"group\",\n",
            "  \"feat_proj_dropout\": 0.1,\n",
            "  \"feat_quantizer_dropout\": 0.0,\n",
            "  \"final_dropout\": 0.0,\n",
            "  \"freeze_feat_extract_train\": true,\n",
            "  \"gradient_checkpointing\": true,\n",
            "  \"hidden_act\": \"gelu\",\n",
            "  \"hidden_dropout\": 0.1,\n",
            "  \"hidden_size\": 768,\n",
            "  \"initializer_range\": 0.02,\n",
            "  \"intermediate_size\": 3072,\n",
            "  \"layer_norm_eps\": 1e-05,\n",
            "  \"layerdrop\": 0.0,\n",
            "  \"mask_channel_length\": 10,\n",
            "  \"mask_channel_min_space\": 1,\n",
            "  \"mask_channel_other\": 0.0,\n",
            "  \"mask_channel_prob\": 0.0,\n",
            "  \"mask_channel_selection\": \"static\",\n",
            "  \"mask_feature_length\": 10,\n",
            "  \"mask_feature_min_masks\": 0,\n",
            "  \"mask_feature_prob\": 0.0,\n",
            "  \"mask_time_length\": 10,\n",
            "  \"mask_time_min_masks\": 2,\n",
            "  \"mask_time_min_space\": 1,\n",
            "  \"mask_time_other\": 0.0,\n",
            "  \"mask_time_prob\": 0.05,\n",
            "  \"mask_time_selection\": \"static\",\n",
            "  \"model_type\": \"wav2vec2\",\n",
            "  \"no_mask_channel_overlap\": false,\n",
            "  \"no_mask_time_overlap\": false,\n",
            "  \"num_adapter_layers\": 3,\n",
            "  \"num_attention_heads\": 12,\n",
            "  \"num_codevector_groups\": 2,\n",
            "  \"num_codevectors_per_group\": 320,\n",
            "  \"num_conv_pos_embedding_groups\": 16,\n",
            "  \"num_conv_pos_embeddings\": 128,\n",
            "  \"num_feat_extract_layers\": 7,\n",
            "  \"num_hidden_layers\": 12,\n",
            "  \"num_negatives\": 100,\n",
            "  \"output_hidden_size\": 768,\n",
            "  \"pad_token_id\": 29,\n",
            "  \"proj_codevector_dim\": 256,\n",
            "  \"tdnn_dilation\": [\n",
            "    1,\n",
            "    2,\n",
            "    3,\n",
            "    1,\n",
            "    1\n",
            "  ],\n",
            "  \"tdnn_dim\": [\n",
            "    512,\n",
            "    512,\n",
            "    512,\n",
            "    512,\n",
            "    1500\n",
            "  ],\n",
            "  \"tdnn_kernel\": [\n",
            "    5,\n",
            "    3,\n",
            "    3,\n",
            "    1,\n",
            "    1\n",
            "  ],\n",
            "  \"transformers_version\": \"4.17.0\",\n",
            "  \"use_weighted_layer_sum\": false,\n",
            "  \"vocab_size\": 32,\n",
            "  \"xvector_output_dim\": 512\n",
            "}\n",
            "\n",
            "loading weights file https://huggingface.co/facebook/wav2vec2-base/resolve/main/pytorch_model.bin from cache at /root/.cache/huggingface/transformers/ef45231897ce572a660ebc5a63d3702f1a6041c4c5fb78cbec330708531939b3.fcae05302a685f7904c551c8ea571e8bc2a2c4a1777ea81ad66e47f7883a650a\n",
            "Some weights of the model checkpoint at facebook/wav2vec2-base were not used when initializing Wav2Vec2ForCTC: ['project_q.weight', 'quantizer.weight_proj.bias', 'project_hid.bias', 'project_q.bias', 'quantizer.weight_proj.weight', 'project_hid.weight', 'quantizer.codevectors']\n",
            "- This IS expected if you are initializing Wav2Vec2ForCTC from the checkpoint of a model trained on another task or with another architecture (e.g. initializing a BertForSequenceClassification model from a BertForPreTraining model).\n",
            "- This IS NOT expected if you are initializing Wav2Vec2ForCTC from the checkpoint of a model that you expect to be exactly identical (initializing a BertForSequenceClassification model from a BertForSequenceClassification model).\n",
            "Some weights of Wav2Vec2ForCTC were not initialized from the model checkpoint at facebook/wav2vec2-base and are newly initialized: ['lm_head.weight', 'lm_head.bias']\n",
            "You should probably TRAIN this model on a down-stream task to be able to use it for predictions and inference.\n"
          ]
        }
      ]
    },
    {
      "cell_type": "markdown",
      "metadata": {
        "id": "1DwR3XLSzGDD"
      },
      "source": [
        "The first component of Wav2Vec2 consists of a stack of CNN layers that are used to extract acoustically meaningful - but contextually independent - features from the raw speech signal. This part of the model has already been sufficiently trained during pretrainind and as stated in the [paper](https://arxiv.org/abs/2006.11477) does not need to be fine-tuned anymore. \n",
        "Thus, we can set the `requires_grad` to `False` for all parameters of the *feature extraction* part."
      ]
    },
    {
      "cell_type": "code",
      "source": [
        "model.freeze_feature_encoder()"
      ],
      "metadata": {
        "id": "Et_NUAZjWppc"
      },
      "execution_count": null,
      "outputs": []
    },
    {
      "cell_type": "markdown",
      "metadata": {
        "id": "lD4aGhQM0K-D"
      },
      "source": [
        "In a final step, we define all parameters related to training. \n",
        "To give more explanation on some of the parameters:\n",
        "- `group_by_length` makes training more efficient by grouping training samples of similar input length into one batch. This can significantly speed up training time by heavily reducing the overall number of useless padding tokens that are passed through the model\n",
        "- `learning_rate` and `weight_decay` were heuristically tuned until fine-tuning has become stable. Note that those parameters strongly depend on the Timit dataset and might be suboptimal for other speech datasets.\n",
        "\n",
        "For more explanations on other parameters, one can take a look at the [docs](https://huggingface.co/transformers/master/main_classes/trainer.html?highlight=trainer#trainingarguments).\n",
        "\n",
        "During training, a checkpoint will be uploaded asynchronously to the hub every 400 training steps. It allows you to also play around with the demo widget even while your model is still training.\n",
        "\n",
        "**Note**: If one does not want to upload the model checkpoints to the hub, simply set `push_to_hub=False`."
      ]
    },
    {
      "cell_type": "code",
      "metadata": {
        "id": "KbeKSV7uzGPP",
        "colab": {
          "base_uri": "https://localhost:8080/"
        },
        "outputId": "502e0963-4b94-40c9-915a-531b35ef7e8a"
      },
      "source": [
        "from transformers import TrainingArguments\n",
        "\n",
        "training_args = TrainingArguments(\n",
        "  output_dir=repo_name,\n",
        "  group_by_length=True,\n",
        "  per_device_train_batch_size=8,\n",
        "  evaluation_strategy=\"steps\",\n",
        "  num_train_epochs=30,\n",
        "  fp16=True,\n",
        "  gradient_checkpointing=True,\n",
        "  save_steps=500,\n",
        "  eval_steps=500,\n",
        "  logging_steps=500,\n",
        "  learning_rate=1e-4,\n",
        "  weight_decay=0.005,\n",
        "  warmup_steps=1000,\n",
        "  save_total_limit=2,\n",
        ")"
      ],
      "execution_count": null,
      "outputs": [
        {
          "output_type": "stream",
          "name": "stderr",
          "text": [
            "PyTorch: setting up devices\n",
            "The default value for the training argument `--report_to` will change in v5 (from all installed integrations to none). In v5, you will need to use `--report_to all` to get the same behavior as now. You should start updating your code and make this info disappear :-).\n"
          ]
        }
      ]
    },
    {
      "cell_type": "markdown",
      "metadata": {
        "id": "OsW-WZcL1ZtN"
      },
      "source": [
        "Now, all instances can be passed to Trainer and we are ready to start training!"
      ]
    },
    {
      "cell_type": "code",
      "metadata": {
        "id": "rY7vBmFCPFgC",
        "colab": {
          "base_uri": "https://localhost:8080/"
        },
        "outputId": "7d004e64-8aa4-49d1-8635-f6dd920470b1"
      },
      "source": [
        "from transformers import Trainer\n",
        "\n",
        "trainer = Trainer(\n",
        "    model=model,\n",
        "    data_collator=data_collator,\n",
        "    args=training_args,\n",
        "    compute_metrics=compute_metrics,\n",
        "    train_dataset=timit[\"train\"],\n",
        "    eval_dataset=timit[\"test\"],\n",
        "    tokenizer=processor.feature_extractor,\n",
        ")"
      ],
      "execution_count": null,
      "outputs": [
        {
          "output_type": "stream",
          "name": "stderr",
          "text": [
            "Using amp half precision backend\n"
          ]
        }
      ]
    },
    {
      "cell_type": "markdown",
      "metadata": {
        "id": "UoXBx1JAA0DX"
      },
      "source": [
        "\n",
        "\n",
        "---\n",
        "\n",
        "${}^1$ To allow models to become independent of the speaker rate, in CTC, consecutive tokens that are identical are simply grouped as a single token. However, the encoded labels should not be grouped when decoding since they don't correspond to the predicted tokens of the model, which is why the `group_tokens=False` parameter has to be passed. If we wouldn't pass this parameter a word like `\"hello\"` would incorrectly be encoded, and decoded as `\"helo\"`.\n",
        "\n",
        "${}^2$ The blank token allows the model to predict a word, such as `\"hello\"` by forcing it to insert the blank token between the two l's. A CTC-conform prediction of `\"hello\"` of our model would be `[PAD] [PAD] \"h\" \"e\" \"e\" \"l\" \"l\" [PAD] \"l\" \"o\" \"o\" [PAD]`."
      ]
    },
    {
      "cell_type": "markdown",
      "metadata": {
        "id": "rpvZHM1xReIW"
      },
      "source": [
        "### Training"
      ]
    },
    {
      "cell_type": "markdown",
      "metadata": {
        "id": "j-3oKSzZ1hGq"
      },
      "source": [
        "Training will take between 90 and 270 minutes depending on the GPU allocated to this notebook. While the trained model yields satisfying results on *Timit*'s test data, it is by no means an optimally fine-tuned model. The purpose of this notebook is to demonstrate how Wav2Vec2's [base](https://huggingface.co/facebook/wav2vec2-base), [large](https://huggingface.co/facebook/wav2vec2-large), and [large-lv60](https://huggingface.co/facebook/wav2vec2-large-lv60) checkpoints can be fine-tuned on any English dataset.\n",
        "\n",
        "In case you want to use this google colab to fine-tune your model, you should make sure that your training doesn't stop due to inactivity. A simple hack to prevent this is to paste the following code into the console of this tab (*right mouse click -> inspect -> Console tab and insert code*)."
      ]
    },
    {
      "cell_type": "markdown",
      "metadata": {
        "id": "VYYAvgkW4P0m"
      },
      "source": [
        "```javascript\n",
        "function ConnectButton(){\n",
        "    console.log(\"Connect pushed\"); \n",
        "    document.querySelector(\"#top-toolbar > colab-connect-button\").shadowRoot.querySelector(\"#connect\").click() \n",
        "}\n",
        "setInterval(ConnectButton,60000);\n",
        "```"
      ]
    },
    {
      "cell_type": "markdown",
      "metadata": {
        "id": "PmY6yqd1zvzU"
      },
      "source": [
        "Depending on what GPU was allocated to your google colab it might be possible that you are seeing an `\"out-of-memory\"` error here. In this case, it's probably best to reduce `per_device_train_batch_size` to 16 or even less and eventually make use of [`gradient_accumulation`](https://huggingface.co/transformers/master/main_classes/trainer.html#trainingarguments)."
      ]
    },
    {
      "cell_type": "code",
      "metadata": {
        "colab": {
          "base_uri": "https://localhost:8080/",
          "height": 1000
        },
        "id": "_UEjJqGsQw24",
        "outputId": "ef86cb55-632e-44fd-b9b2-6b804e7808df"
      },
      "source": [
        "trainer.train()"
      ],
      "execution_count": null,
      "outputs": [
        {
          "output_type": "stream",
          "name": "stderr",
          "text": [
            "The following columns in the training set  don't have a corresponding argument in `Wav2Vec2ForCTC.forward` and have been ignored: input_length. If input_length are not expected by `Wav2Vec2ForCTC.forward`,  you can safely ignore this message.\n",
            "/usr/local/lib/python3.7/dist-packages/transformers/optimization.py:309: FutureWarning: This implementation of AdamW is deprecated and will be removed in a future version. Use the PyTorch implementation torch.optim.AdamW instead, or set `no_deprecation_warning=True` to disable this warning\n",
            "  FutureWarning,\n",
            "***** Running training *****\n",
            "  Num examples = 3978\n",
            "  Num Epochs = 30\n",
            "  Instantaneous batch size per device = 8\n",
            "  Total train batch size (w. parallel, distributed & accumulation) = 8\n",
            "  Gradient Accumulation steps = 1\n",
            "  Total optimization steps = 14940\n"
          ]
        },
        {
          "output_type": "display_data",
          "data": {
            "text/plain": [
              "<IPython.core.display.HTML object>"
            ],
            "text/html": [
              "\n",
              "    <div>\n",
              "      \n",
              "      <progress value='14940' max='14940' style='width:300px; height:20px; vertical-align: middle;'></progress>\n",
              "      [14940/14940 1:24:12, Epoch 30/30]\n",
              "    </div>\n",
              "    <table border=\"1\" class=\"dataframe\">\n",
              "  <thead>\n",
              " <tr style=\"text-align: left;\">\n",
              "      <th>Step</th>\n",
              "      <th>Training Loss</th>\n",
              "      <th>Validation Loss</th>\n",
              "      <th>Wer</th>\n",
              "    </tr>\n",
              "  </thead>\n",
              "  <tbody>\n",
              "    <tr>\n",
              "      <td>500</td>\n",
              "      <td>3.513700</td>\n",
              "      <td>1.671889</td>\n",
              "      <td>0.958032</td>\n",
              "    </tr>\n",
              "    <tr>\n",
              "      <td>1000</td>\n",
              "      <td>0.832400</td>\n",
              "      <td>0.554610</td>\n",
              "      <td>0.534147</td>\n",
              "    </tr>\n",
              "    <tr>\n",
              "      <td>1500</td>\n",
              "      <td>0.436500</td>\n",
              "      <td>0.456734</td>\n",
              "      <td>0.463510</td>\n",
              "    </tr>\n",
              "    <tr>\n",
              "      <td>2000</td>\n",
              "      <td>0.305800</td>\n",
              "      <td>0.442902</td>\n",
              "      <td>0.445386</td>\n",
              "    </tr>\n",
              "    <tr>\n",
              "      <td>2500</td>\n",
              "      <td>0.228400</td>\n",
              "      <td>0.473383</td>\n",
              "      <td>0.418648</td>\n",
              "    </tr>\n",
              "    <tr>\n",
              "      <td>3000</td>\n",
              "      <td>0.189200</td>\n",
              "      <td>0.419089</td>\n",
              "      <td>0.403005</td>\n",
              "    </tr>\n",
              "    <tr>\n",
              "      <td>3500</td>\n",
              "      <td>0.154200</td>\n",
              "      <td>0.452161</td>\n",
              "      <td>0.398456</td>\n",
              "    </tr>\n",
              "    <tr>\n",
              "      <td>4000</td>\n",
              "      <td>0.136400</td>\n",
              "      <td>0.474920</td>\n",
              "      <td>0.392185</td>\n",
              "    </tr>\n",
              "    <tr>\n",
              "      <td>4500</td>\n",
              "      <td>0.123900</td>\n",
              "      <td>0.495003</td>\n",
              "      <td>0.397698</td>\n",
              "    </tr>\n",
              "    <tr>\n",
              "      <td>5000</td>\n",
              "      <td>0.109200</td>\n",
              "      <td>0.446769</td>\n",
              "      <td>0.377851</td>\n",
              "    </tr>\n",
              "    <tr>\n",
              "      <td>5500</td>\n",
              "      <td>0.095600</td>\n",
              "      <td>0.489680</td>\n",
              "      <td>0.378885</td>\n",
              "    </tr>\n",
              "    <tr>\n",
              "      <td>6000</td>\n",
              "      <td>0.089700</td>\n",
              "      <td>0.492681</td>\n",
              "      <td>0.371787</td>\n",
              "    </tr>\n",
              "    <tr>\n",
              "      <td>6500</td>\n",
              "      <td>0.079200</td>\n",
              "      <td>0.524202</td>\n",
              "      <td>0.369926</td>\n",
              "    </tr>\n",
              "    <tr>\n",
              "      <td>7000</td>\n",
              "      <td>0.073100</td>\n",
              "      <td>0.520223</td>\n",
              "      <td>0.377162</td>\n",
              "    </tr>\n",
              "    <tr>\n",
              "      <td>7500</td>\n",
              "      <td>0.068100</td>\n",
              "      <td>0.504624</td>\n",
              "      <td>0.363724</td>\n",
              "    </tr>\n",
              "    <tr>\n",
              "      <td>8000</td>\n",
              "      <td>0.062000</td>\n",
              "      <td>0.533646</td>\n",
              "      <td>0.366412</td>\n",
              "    </tr>\n",
              "    <tr>\n",
              "      <td>8500</td>\n",
              "      <td>0.055600</td>\n",
              "      <td>0.501713</td>\n",
              "      <td>0.363311</td>\n",
              "    </tr>\n",
              "    <tr>\n",
              "      <td>9000</td>\n",
              "      <td>0.055600</td>\n",
              "      <td>0.546627</td>\n",
              "      <td>0.373648</td>\n",
              "    </tr>\n",
              "    <tr>\n",
              "      <td>9500</td>\n",
              "      <td>0.046100</td>\n",
              "      <td>0.548935</td>\n",
              "      <td>0.356626</td>\n",
              "    </tr>\n",
              "    <tr>\n",
              "      <td>10000</td>\n",
              "      <td>0.043900</td>\n",
              "      <td>0.539872</td>\n",
              "      <td>0.355937</td>\n",
              "    </tr>\n",
              "    <tr>\n",
              "      <td>10500</td>\n",
              "      <td>0.039700</td>\n",
              "      <td>0.515413</td>\n",
              "      <td>0.353938</td>\n",
              "    </tr>\n",
              "    <tr>\n",
              "      <td>11000</td>\n",
              "      <td>0.034600</td>\n",
              "      <td>0.517013</td>\n",
              "      <td>0.351251</td>\n",
              "    </tr>\n",
              "    <tr>\n",
              "      <td>11500</td>\n",
              "      <td>0.033800</td>\n",
              "      <td>0.523557</td>\n",
              "      <td>0.349183</td>\n",
              "    </tr>\n",
              "    <tr>\n",
              "      <td>12000</td>\n",
              "      <td>0.034200</td>\n",
              "      <td>0.528785</td>\n",
              "      <td>0.349252</td>\n",
              "    </tr>\n",
              "    <tr>\n",
              "      <td>12500</td>\n",
              "      <td>0.028200</td>\n",
              "      <td>0.514678</td>\n",
              "      <td>0.344911</td>\n",
              "    </tr>\n",
              "    <tr>\n",
              "      <td>13000</td>\n",
              "      <td>0.025100</td>\n",
              "      <td>0.509152</td>\n",
              "      <td>0.344222</td>\n",
              "    </tr>\n",
              "    <tr>\n",
              "      <td>13500</td>\n",
              "      <td>0.026800</td>\n",
              "      <td>0.509325</td>\n",
              "      <td>0.341327</td>\n",
              "    </tr>\n",
              "    <tr>\n",
              "      <td>14000</td>\n",
              "      <td>0.021000</td>\n",
              "      <td>0.530961</td>\n",
              "      <td>0.339880</td>\n",
              "    </tr>\n",
              "    <tr>\n",
              "      <td>14500</td>\n",
              "      <td>0.022000</td>\n",
              "      <td>0.518533</td>\n",
              "      <td>0.336986</td>\n",
              "    </tr>\n",
              "  </tbody>\n",
              "</table><p>"
            ]
          },
          "metadata": {}
        },
        {
          "output_type": "stream",
          "name": "stderr",
          "text": [
            "The following columns in the evaluation set  don't have a corresponding argument in `Wav2Vec2ForCTC.forward` and have been ignored: input_length. If input_length are not expected by `Wav2Vec2ForCTC.forward`,  you can safely ignore this message.\n",
            "***** Running Evaluation *****\n",
            "  Num examples = 1680\n",
            "  Batch size = 8\n",
            "Saving model checkpoint to wav2vec2-base-timit-demo-google-colab/checkpoint-500\n",
            "Configuration saved in wav2vec2-base-timit-demo-google-colab/checkpoint-500/config.json\n",
            "Model weights saved in wav2vec2-base-timit-demo-google-colab/checkpoint-500/pytorch_model.bin\n",
            "Feature extractor saved in wav2vec2-base-timit-demo-google-colab/checkpoint-500/preprocessor_config.json\n",
            "The following columns in the evaluation set  don't have a corresponding argument in `Wav2Vec2ForCTC.forward` and have been ignored: input_length. If input_length are not expected by `Wav2Vec2ForCTC.forward`,  you can safely ignore this message.\n",
            "***** Running Evaluation *****\n",
            "  Num examples = 1680\n",
            "  Batch size = 8\n",
            "Saving model checkpoint to wav2vec2-base-timit-demo-google-colab/checkpoint-1000\n",
            "Configuration saved in wav2vec2-base-timit-demo-google-colab/checkpoint-1000/config.json\n",
            "Model weights saved in wav2vec2-base-timit-demo-google-colab/checkpoint-1000/pytorch_model.bin\n",
            "Feature extractor saved in wav2vec2-base-timit-demo-google-colab/checkpoint-1000/preprocessor_config.json\n",
            "The following columns in the evaluation set  don't have a corresponding argument in `Wav2Vec2ForCTC.forward` and have been ignored: input_length. If input_length are not expected by `Wav2Vec2ForCTC.forward`,  you can safely ignore this message.\n",
            "***** Running Evaluation *****\n",
            "  Num examples = 1680\n",
            "  Batch size = 8\n",
            "Saving model checkpoint to wav2vec2-base-timit-demo-google-colab/checkpoint-1500\n",
            "Configuration saved in wav2vec2-base-timit-demo-google-colab/checkpoint-1500/config.json\n",
            "Model weights saved in wav2vec2-base-timit-demo-google-colab/checkpoint-1500/pytorch_model.bin\n",
            "Feature extractor saved in wav2vec2-base-timit-demo-google-colab/checkpoint-1500/preprocessor_config.json\n",
            "Deleting older checkpoint [wav2vec2-base-timit-demo-google-colab/checkpoint-500] due to args.save_total_limit\n",
            "The following columns in the evaluation set  don't have a corresponding argument in `Wav2Vec2ForCTC.forward` and have been ignored: input_length. If input_length are not expected by `Wav2Vec2ForCTC.forward`,  you can safely ignore this message.\n",
            "***** Running Evaluation *****\n",
            "  Num examples = 1680\n",
            "  Batch size = 8\n",
            "Saving model checkpoint to wav2vec2-base-timit-demo-google-colab/checkpoint-2000\n",
            "Configuration saved in wav2vec2-base-timit-demo-google-colab/checkpoint-2000/config.json\n",
            "Model weights saved in wav2vec2-base-timit-demo-google-colab/checkpoint-2000/pytorch_model.bin\n",
            "Feature extractor saved in wav2vec2-base-timit-demo-google-colab/checkpoint-2000/preprocessor_config.json\n",
            "Deleting older checkpoint [wav2vec2-base-timit-demo-google-colab/checkpoint-1000] due to args.save_total_limit\n",
            "The following columns in the evaluation set  don't have a corresponding argument in `Wav2Vec2ForCTC.forward` and have been ignored: input_length. If input_length are not expected by `Wav2Vec2ForCTC.forward`,  you can safely ignore this message.\n",
            "***** Running Evaluation *****\n",
            "  Num examples = 1680\n",
            "  Batch size = 8\n",
            "Saving model checkpoint to wav2vec2-base-timit-demo-google-colab/checkpoint-2500\n",
            "Configuration saved in wav2vec2-base-timit-demo-google-colab/checkpoint-2500/config.json\n",
            "Model weights saved in wav2vec2-base-timit-demo-google-colab/checkpoint-2500/pytorch_model.bin\n",
            "Feature extractor saved in wav2vec2-base-timit-demo-google-colab/checkpoint-2500/preprocessor_config.json\n",
            "Deleting older checkpoint [wav2vec2-base-timit-demo-google-colab/checkpoint-1500] due to args.save_total_limit\n",
            "The following columns in the evaluation set  don't have a corresponding argument in `Wav2Vec2ForCTC.forward` and have been ignored: input_length. If input_length are not expected by `Wav2Vec2ForCTC.forward`,  you can safely ignore this message.\n",
            "***** Running Evaluation *****\n",
            "  Num examples = 1680\n",
            "  Batch size = 8\n",
            "Saving model checkpoint to wav2vec2-base-timit-demo-google-colab/checkpoint-3000\n",
            "Configuration saved in wav2vec2-base-timit-demo-google-colab/checkpoint-3000/config.json\n",
            "Model weights saved in wav2vec2-base-timit-demo-google-colab/checkpoint-3000/pytorch_model.bin\n",
            "Feature extractor saved in wav2vec2-base-timit-demo-google-colab/checkpoint-3000/preprocessor_config.json\n",
            "Deleting older checkpoint [wav2vec2-base-timit-demo-google-colab/checkpoint-2000] due to args.save_total_limit\n",
            "The following columns in the evaluation set  don't have a corresponding argument in `Wav2Vec2ForCTC.forward` and have been ignored: input_length. If input_length are not expected by `Wav2Vec2ForCTC.forward`,  you can safely ignore this message.\n",
            "***** Running Evaluation *****\n",
            "  Num examples = 1680\n",
            "  Batch size = 8\n",
            "Saving model checkpoint to wav2vec2-base-timit-demo-google-colab/checkpoint-3500\n",
            "Configuration saved in wav2vec2-base-timit-demo-google-colab/checkpoint-3500/config.json\n",
            "Model weights saved in wav2vec2-base-timit-demo-google-colab/checkpoint-3500/pytorch_model.bin\n",
            "Feature extractor saved in wav2vec2-base-timit-demo-google-colab/checkpoint-3500/preprocessor_config.json\n",
            "Deleting older checkpoint [wav2vec2-base-timit-demo-google-colab/checkpoint-2500] due to args.save_total_limit\n",
            "The following columns in the evaluation set  don't have a corresponding argument in `Wav2Vec2ForCTC.forward` and have been ignored: input_length. If input_length are not expected by `Wav2Vec2ForCTC.forward`,  you can safely ignore this message.\n",
            "***** Running Evaluation *****\n",
            "  Num examples = 1680\n",
            "  Batch size = 8\n",
            "Saving model checkpoint to wav2vec2-base-timit-demo-google-colab/checkpoint-4000\n",
            "Configuration saved in wav2vec2-base-timit-demo-google-colab/checkpoint-4000/config.json\n",
            "Model weights saved in wav2vec2-base-timit-demo-google-colab/checkpoint-4000/pytorch_model.bin\n",
            "Feature extractor saved in wav2vec2-base-timit-demo-google-colab/checkpoint-4000/preprocessor_config.json\n",
            "Deleting older checkpoint [wav2vec2-base-timit-demo-google-colab/checkpoint-3000] due to args.save_total_limit\n",
            "The following columns in the evaluation set  don't have a corresponding argument in `Wav2Vec2ForCTC.forward` and have been ignored: input_length. If input_length are not expected by `Wav2Vec2ForCTC.forward`,  you can safely ignore this message.\n",
            "***** Running Evaluation *****\n",
            "  Num examples = 1680\n",
            "  Batch size = 8\n",
            "Saving model checkpoint to wav2vec2-base-timit-demo-google-colab/checkpoint-4500\n",
            "Configuration saved in wav2vec2-base-timit-demo-google-colab/checkpoint-4500/config.json\n",
            "Model weights saved in wav2vec2-base-timit-demo-google-colab/checkpoint-4500/pytorch_model.bin\n",
            "Feature extractor saved in wav2vec2-base-timit-demo-google-colab/checkpoint-4500/preprocessor_config.json\n",
            "Deleting older checkpoint [wav2vec2-base-timit-demo-google-colab/checkpoint-3500] due to args.save_total_limit\n",
            "The following columns in the evaluation set  don't have a corresponding argument in `Wav2Vec2ForCTC.forward` and have been ignored: input_length. If input_length are not expected by `Wav2Vec2ForCTC.forward`,  you can safely ignore this message.\n",
            "***** Running Evaluation *****\n",
            "  Num examples = 1680\n",
            "  Batch size = 8\n",
            "Saving model checkpoint to wav2vec2-base-timit-demo-google-colab/checkpoint-5000\n",
            "Configuration saved in wav2vec2-base-timit-demo-google-colab/checkpoint-5000/config.json\n",
            "Model weights saved in wav2vec2-base-timit-demo-google-colab/checkpoint-5000/pytorch_model.bin\n",
            "Feature extractor saved in wav2vec2-base-timit-demo-google-colab/checkpoint-5000/preprocessor_config.json\n",
            "Deleting older checkpoint [wav2vec2-base-timit-demo-google-colab/checkpoint-4000] due to args.save_total_limit\n",
            "The following columns in the evaluation set  don't have a corresponding argument in `Wav2Vec2ForCTC.forward` and have been ignored: input_length. If input_length are not expected by `Wav2Vec2ForCTC.forward`,  you can safely ignore this message.\n",
            "***** Running Evaluation *****\n",
            "  Num examples = 1680\n",
            "  Batch size = 8\n",
            "Saving model checkpoint to wav2vec2-base-timit-demo-google-colab/checkpoint-5500\n",
            "Configuration saved in wav2vec2-base-timit-demo-google-colab/checkpoint-5500/config.json\n",
            "Model weights saved in wav2vec2-base-timit-demo-google-colab/checkpoint-5500/pytorch_model.bin\n",
            "Feature extractor saved in wav2vec2-base-timit-demo-google-colab/checkpoint-5500/preprocessor_config.json\n",
            "Deleting older checkpoint [wav2vec2-base-timit-demo-google-colab/checkpoint-4500] due to args.save_total_limit\n",
            "The following columns in the evaluation set  don't have a corresponding argument in `Wav2Vec2ForCTC.forward` and have been ignored: input_length. If input_length are not expected by `Wav2Vec2ForCTC.forward`,  you can safely ignore this message.\n",
            "***** Running Evaluation *****\n",
            "  Num examples = 1680\n",
            "  Batch size = 8\n",
            "Saving model checkpoint to wav2vec2-base-timit-demo-google-colab/checkpoint-6000\n",
            "Configuration saved in wav2vec2-base-timit-demo-google-colab/checkpoint-6000/config.json\n",
            "Model weights saved in wav2vec2-base-timit-demo-google-colab/checkpoint-6000/pytorch_model.bin\n",
            "Feature extractor saved in wav2vec2-base-timit-demo-google-colab/checkpoint-6000/preprocessor_config.json\n",
            "Deleting older checkpoint [wav2vec2-base-timit-demo-google-colab/checkpoint-5000] due to args.save_total_limit\n",
            "The following columns in the evaluation set  don't have a corresponding argument in `Wav2Vec2ForCTC.forward` and have been ignored: input_length. If input_length are not expected by `Wav2Vec2ForCTC.forward`,  you can safely ignore this message.\n",
            "***** Running Evaluation *****\n",
            "  Num examples = 1680\n",
            "  Batch size = 8\n",
            "Saving model checkpoint to wav2vec2-base-timit-demo-google-colab/checkpoint-6500\n",
            "Configuration saved in wav2vec2-base-timit-demo-google-colab/checkpoint-6500/config.json\n",
            "Model weights saved in wav2vec2-base-timit-demo-google-colab/checkpoint-6500/pytorch_model.bin\n",
            "Feature extractor saved in wav2vec2-base-timit-demo-google-colab/checkpoint-6500/preprocessor_config.json\n",
            "Deleting older checkpoint [wav2vec2-base-timit-demo-google-colab/checkpoint-5500] due to args.save_total_limit\n",
            "The following columns in the evaluation set  don't have a corresponding argument in `Wav2Vec2ForCTC.forward` and have been ignored: input_length. If input_length are not expected by `Wav2Vec2ForCTC.forward`,  you can safely ignore this message.\n",
            "***** Running Evaluation *****\n",
            "  Num examples = 1680\n",
            "  Batch size = 8\n",
            "Saving model checkpoint to wav2vec2-base-timit-demo-google-colab/checkpoint-7000\n",
            "Configuration saved in wav2vec2-base-timit-demo-google-colab/checkpoint-7000/config.json\n",
            "Model weights saved in wav2vec2-base-timit-demo-google-colab/checkpoint-7000/pytorch_model.bin\n",
            "Feature extractor saved in wav2vec2-base-timit-demo-google-colab/checkpoint-7000/preprocessor_config.json\n",
            "Deleting older checkpoint [wav2vec2-base-timit-demo-google-colab/checkpoint-6000] due to args.save_total_limit\n",
            "The following columns in the evaluation set  don't have a corresponding argument in `Wav2Vec2ForCTC.forward` and have been ignored: input_length. If input_length are not expected by `Wav2Vec2ForCTC.forward`,  you can safely ignore this message.\n",
            "***** Running Evaluation *****\n",
            "  Num examples = 1680\n",
            "  Batch size = 8\n",
            "Saving model checkpoint to wav2vec2-base-timit-demo-google-colab/checkpoint-7500\n",
            "Configuration saved in wav2vec2-base-timit-demo-google-colab/checkpoint-7500/config.json\n",
            "Model weights saved in wav2vec2-base-timit-demo-google-colab/checkpoint-7500/pytorch_model.bin\n",
            "Feature extractor saved in wav2vec2-base-timit-demo-google-colab/checkpoint-7500/preprocessor_config.json\n",
            "Deleting older checkpoint [wav2vec2-base-timit-demo-google-colab/checkpoint-6500] due to args.save_total_limit\n",
            "The following columns in the evaluation set  don't have a corresponding argument in `Wav2Vec2ForCTC.forward` and have been ignored: input_length. If input_length are not expected by `Wav2Vec2ForCTC.forward`,  you can safely ignore this message.\n",
            "***** Running Evaluation *****\n",
            "  Num examples = 1680\n",
            "  Batch size = 8\n",
            "Saving model checkpoint to wav2vec2-base-timit-demo-google-colab/checkpoint-8000\n",
            "Configuration saved in wav2vec2-base-timit-demo-google-colab/checkpoint-8000/config.json\n",
            "Model weights saved in wav2vec2-base-timit-demo-google-colab/checkpoint-8000/pytorch_model.bin\n",
            "Feature extractor saved in wav2vec2-base-timit-demo-google-colab/checkpoint-8000/preprocessor_config.json\n",
            "Deleting older checkpoint [wav2vec2-base-timit-demo-google-colab/checkpoint-7000] due to args.save_total_limit\n",
            "The following columns in the evaluation set  don't have a corresponding argument in `Wav2Vec2ForCTC.forward` and have been ignored: input_length. If input_length are not expected by `Wav2Vec2ForCTC.forward`,  you can safely ignore this message.\n",
            "***** Running Evaluation *****\n",
            "  Num examples = 1680\n",
            "  Batch size = 8\n",
            "Saving model checkpoint to wav2vec2-base-timit-demo-google-colab/checkpoint-8500\n",
            "Configuration saved in wav2vec2-base-timit-demo-google-colab/checkpoint-8500/config.json\n",
            "Model weights saved in wav2vec2-base-timit-demo-google-colab/checkpoint-8500/pytorch_model.bin\n",
            "Feature extractor saved in wav2vec2-base-timit-demo-google-colab/checkpoint-8500/preprocessor_config.json\n",
            "Deleting older checkpoint [wav2vec2-base-timit-demo-google-colab/checkpoint-7500] due to args.save_total_limit\n",
            "The following columns in the evaluation set  don't have a corresponding argument in `Wav2Vec2ForCTC.forward` and have been ignored: input_length. If input_length are not expected by `Wav2Vec2ForCTC.forward`,  you can safely ignore this message.\n",
            "***** Running Evaluation *****\n",
            "  Num examples = 1680\n",
            "  Batch size = 8\n",
            "Saving model checkpoint to wav2vec2-base-timit-demo-google-colab/checkpoint-9000\n",
            "Configuration saved in wav2vec2-base-timit-demo-google-colab/checkpoint-9000/config.json\n",
            "Model weights saved in wav2vec2-base-timit-demo-google-colab/checkpoint-9000/pytorch_model.bin\n",
            "Feature extractor saved in wav2vec2-base-timit-demo-google-colab/checkpoint-9000/preprocessor_config.json\n",
            "Deleting older checkpoint [wav2vec2-base-timit-demo-google-colab/checkpoint-8000] due to args.save_total_limit\n",
            "The following columns in the evaluation set  don't have a corresponding argument in `Wav2Vec2ForCTC.forward` and have been ignored: input_length. If input_length are not expected by `Wav2Vec2ForCTC.forward`,  you can safely ignore this message.\n",
            "***** Running Evaluation *****\n",
            "  Num examples = 1680\n",
            "  Batch size = 8\n",
            "Saving model checkpoint to wav2vec2-base-timit-demo-google-colab/checkpoint-9500\n",
            "Configuration saved in wav2vec2-base-timit-demo-google-colab/checkpoint-9500/config.json\n",
            "Model weights saved in wav2vec2-base-timit-demo-google-colab/checkpoint-9500/pytorch_model.bin\n",
            "Feature extractor saved in wav2vec2-base-timit-demo-google-colab/checkpoint-9500/preprocessor_config.json\n",
            "Deleting older checkpoint [wav2vec2-base-timit-demo-google-colab/checkpoint-8500] due to args.save_total_limit\n",
            "The following columns in the evaluation set  don't have a corresponding argument in `Wav2Vec2ForCTC.forward` and have been ignored: input_length. If input_length are not expected by `Wav2Vec2ForCTC.forward`,  you can safely ignore this message.\n",
            "***** Running Evaluation *****\n",
            "  Num examples = 1680\n",
            "  Batch size = 8\n",
            "Saving model checkpoint to wav2vec2-base-timit-demo-google-colab/checkpoint-10000\n",
            "Configuration saved in wav2vec2-base-timit-demo-google-colab/checkpoint-10000/config.json\n",
            "Model weights saved in wav2vec2-base-timit-demo-google-colab/checkpoint-10000/pytorch_model.bin\n",
            "Feature extractor saved in wav2vec2-base-timit-demo-google-colab/checkpoint-10000/preprocessor_config.json\n",
            "Deleting older checkpoint [wav2vec2-base-timit-demo-google-colab/checkpoint-9000] due to args.save_total_limit\n",
            "The following columns in the evaluation set  don't have a corresponding argument in `Wav2Vec2ForCTC.forward` and have been ignored: input_length. If input_length are not expected by `Wav2Vec2ForCTC.forward`,  you can safely ignore this message.\n",
            "***** Running Evaluation *****\n",
            "  Num examples = 1680\n",
            "  Batch size = 8\n",
            "Saving model checkpoint to wav2vec2-base-timit-demo-google-colab/checkpoint-10500\n",
            "Configuration saved in wav2vec2-base-timit-demo-google-colab/checkpoint-10500/config.json\n",
            "Model weights saved in wav2vec2-base-timit-demo-google-colab/checkpoint-10500/pytorch_model.bin\n",
            "Feature extractor saved in wav2vec2-base-timit-demo-google-colab/checkpoint-10500/preprocessor_config.json\n",
            "Deleting older checkpoint [wav2vec2-base-timit-demo-google-colab/checkpoint-9500] due to args.save_total_limit\n",
            "The following columns in the evaluation set  don't have a corresponding argument in `Wav2Vec2ForCTC.forward` and have been ignored: input_length. If input_length are not expected by `Wav2Vec2ForCTC.forward`,  you can safely ignore this message.\n",
            "***** Running Evaluation *****\n",
            "  Num examples = 1680\n",
            "  Batch size = 8\n",
            "Saving model checkpoint to wav2vec2-base-timit-demo-google-colab/checkpoint-11000\n",
            "Configuration saved in wav2vec2-base-timit-demo-google-colab/checkpoint-11000/config.json\n",
            "Model weights saved in wav2vec2-base-timit-demo-google-colab/checkpoint-11000/pytorch_model.bin\n",
            "Feature extractor saved in wav2vec2-base-timit-demo-google-colab/checkpoint-11000/preprocessor_config.json\n",
            "Deleting older checkpoint [wav2vec2-base-timit-demo-google-colab/checkpoint-10000] due to args.save_total_limit\n",
            "The following columns in the evaluation set  don't have a corresponding argument in `Wav2Vec2ForCTC.forward` and have been ignored: input_length. If input_length are not expected by `Wav2Vec2ForCTC.forward`,  you can safely ignore this message.\n",
            "***** Running Evaluation *****\n",
            "  Num examples = 1680\n",
            "  Batch size = 8\n",
            "Saving model checkpoint to wav2vec2-base-timit-demo-google-colab/checkpoint-11500\n",
            "Configuration saved in wav2vec2-base-timit-demo-google-colab/checkpoint-11500/config.json\n",
            "Model weights saved in wav2vec2-base-timit-demo-google-colab/checkpoint-11500/pytorch_model.bin\n",
            "Feature extractor saved in wav2vec2-base-timit-demo-google-colab/checkpoint-11500/preprocessor_config.json\n",
            "Deleting older checkpoint [wav2vec2-base-timit-demo-google-colab/checkpoint-10500] due to args.save_total_limit\n",
            "The following columns in the evaluation set  don't have a corresponding argument in `Wav2Vec2ForCTC.forward` and have been ignored: input_length. If input_length are not expected by `Wav2Vec2ForCTC.forward`,  you can safely ignore this message.\n",
            "***** Running Evaluation *****\n",
            "  Num examples = 1680\n",
            "  Batch size = 8\n",
            "Saving model checkpoint to wav2vec2-base-timit-demo-google-colab/checkpoint-12000\n",
            "Configuration saved in wav2vec2-base-timit-demo-google-colab/checkpoint-12000/config.json\n",
            "Model weights saved in wav2vec2-base-timit-demo-google-colab/checkpoint-12000/pytorch_model.bin\n",
            "Feature extractor saved in wav2vec2-base-timit-demo-google-colab/checkpoint-12000/preprocessor_config.json\n",
            "Deleting older checkpoint [wav2vec2-base-timit-demo-google-colab/checkpoint-11000] due to args.save_total_limit\n",
            "The following columns in the evaluation set  don't have a corresponding argument in `Wav2Vec2ForCTC.forward` and have been ignored: input_length. If input_length are not expected by `Wav2Vec2ForCTC.forward`,  you can safely ignore this message.\n",
            "***** Running Evaluation *****\n",
            "  Num examples = 1680\n",
            "  Batch size = 8\n",
            "Saving model checkpoint to wav2vec2-base-timit-demo-google-colab/checkpoint-12500\n",
            "Configuration saved in wav2vec2-base-timit-demo-google-colab/checkpoint-12500/config.json\n",
            "Model weights saved in wav2vec2-base-timit-demo-google-colab/checkpoint-12500/pytorch_model.bin\n",
            "Feature extractor saved in wav2vec2-base-timit-demo-google-colab/checkpoint-12500/preprocessor_config.json\n",
            "Deleting older checkpoint [wav2vec2-base-timit-demo-google-colab/checkpoint-11500] due to args.save_total_limit\n",
            "The following columns in the evaluation set  don't have a corresponding argument in `Wav2Vec2ForCTC.forward` and have been ignored: input_length. If input_length are not expected by `Wav2Vec2ForCTC.forward`,  you can safely ignore this message.\n",
            "***** Running Evaluation *****\n",
            "  Num examples = 1680\n",
            "  Batch size = 8\n",
            "Saving model checkpoint to wav2vec2-base-timit-demo-google-colab/checkpoint-13000\n",
            "Configuration saved in wav2vec2-base-timit-demo-google-colab/checkpoint-13000/config.json\n",
            "Model weights saved in wav2vec2-base-timit-demo-google-colab/checkpoint-13000/pytorch_model.bin\n",
            "Feature extractor saved in wav2vec2-base-timit-demo-google-colab/checkpoint-13000/preprocessor_config.json\n",
            "Deleting older checkpoint [wav2vec2-base-timit-demo-google-colab/checkpoint-12000] due to args.save_total_limit\n",
            "The following columns in the evaluation set  don't have a corresponding argument in `Wav2Vec2ForCTC.forward` and have been ignored: input_length. If input_length are not expected by `Wav2Vec2ForCTC.forward`,  you can safely ignore this message.\n",
            "***** Running Evaluation *****\n",
            "  Num examples = 1680\n",
            "  Batch size = 8\n",
            "Saving model checkpoint to wav2vec2-base-timit-demo-google-colab/checkpoint-13500\n",
            "Configuration saved in wav2vec2-base-timit-demo-google-colab/checkpoint-13500/config.json\n",
            "Model weights saved in wav2vec2-base-timit-demo-google-colab/checkpoint-13500/pytorch_model.bin\n",
            "Feature extractor saved in wav2vec2-base-timit-demo-google-colab/checkpoint-13500/preprocessor_config.json\n",
            "Deleting older checkpoint [wav2vec2-base-timit-demo-google-colab/checkpoint-12500] due to args.save_total_limit\n",
            "The following columns in the evaluation set  don't have a corresponding argument in `Wav2Vec2ForCTC.forward` and have been ignored: input_length. If input_length are not expected by `Wav2Vec2ForCTC.forward`,  you can safely ignore this message.\n",
            "***** Running Evaluation *****\n",
            "  Num examples = 1680\n",
            "  Batch size = 8\n",
            "Saving model checkpoint to wav2vec2-base-timit-demo-google-colab/checkpoint-14000\n",
            "Configuration saved in wav2vec2-base-timit-demo-google-colab/checkpoint-14000/config.json\n",
            "Model weights saved in wav2vec2-base-timit-demo-google-colab/checkpoint-14000/pytorch_model.bin\n",
            "Feature extractor saved in wav2vec2-base-timit-demo-google-colab/checkpoint-14000/preprocessor_config.json\n",
            "Deleting older checkpoint [wav2vec2-base-timit-demo-google-colab/checkpoint-13000] due to args.save_total_limit\n",
            "The following columns in the evaluation set  don't have a corresponding argument in `Wav2Vec2ForCTC.forward` and have been ignored: input_length. If input_length are not expected by `Wav2Vec2ForCTC.forward`,  you can safely ignore this message.\n",
            "***** Running Evaluation *****\n",
            "  Num examples = 1680\n",
            "  Batch size = 8\n",
            "Saving model checkpoint to wav2vec2-base-timit-demo-google-colab/checkpoint-14500\n",
            "Configuration saved in wav2vec2-base-timit-demo-google-colab/checkpoint-14500/config.json\n",
            "Model weights saved in wav2vec2-base-timit-demo-google-colab/checkpoint-14500/pytorch_model.bin\n",
            "Feature extractor saved in wav2vec2-base-timit-demo-google-colab/checkpoint-14500/preprocessor_config.json\n",
            "Deleting older checkpoint [wav2vec2-base-timit-demo-google-colab/checkpoint-13500] due to args.save_total_limit\n",
            "\n",
            "\n",
            "Training completed. Do not forget to share your model on huggingface.co/models =)\n",
            "\n",
            "\n"
          ]
        },
        {
          "output_type": "execute_result",
          "data": {
            "text/plain": [
              "TrainOutput(global_step=14940, training_loss=0.23359869193520091, metrics={'train_runtime': 5052.3634, 'train_samples_per_second': 23.621, 'train_steps_per_second': 2.957, 'total_flos': 3.0766610595969556e+18, 'train_loss': 0.23359869193520091, 'epoch': 30.0})"
            ]
          },
          "metadata": {},
          "execution_count": 85
        }
      ]
    },
    {
      "cell_type": "markdown",
      "metadata": {
        "id": "UCyp-v3n4Zlt"
      },
      "source": [
        "The final WER should be around 0.3 which is reasonable given that state-of-the-art phoneme error rates (PER) are just below 0.1 (see [leaderboard](https://paperswithcode.com/sota/speech-recognition-on-timit)) and that WER is usually worse than PER.\n",
        "\n",
        "You can now upload the result of the training to the Hub, just execute this instruction:"
      ]
    },
    {
      "cell_type": "code",
      "metadata": {
        "colab": {
          "base_uri": "https://localhost:8080/",
          "height": 497,
          "referenced_widgets": [
            "a7725ad7a1774178bba1b39b48bee36b",
            "acc6c975316f4fc9af3f449ccaf71646",
            "2b48e3c58b284b32ae51a3c3afb13d85",
            "7748d6bd4e224b3f836a06b321e72de0",
            "b29aab47d701449181b8d8c715b09657",
            "5cb2c62e3d6f426f8c17eec2fe6e23ae",
            "f44a8453ba314ddbb153e1278eb59eec",
            "6ba56300bd3240629256a72060f36fde",
            "d8f4c2ce266a4a9284572af28ad9ad1c",
            "4cdbe067372b4c32bc782f966aea7f42",
            "afe17562ac7948edab0233eb3804d9cb",
            "00a02ff8b284413f853da9d7c41afedd",
            "73b586087e9447e688c97318bf6eba11",
            "6ba8f8fde3fc4050a304df11cc1d2c7c",
            "0ceb294ca03a4bf2ae5586ffbbb6f0fc",
            "ffa2bd3495f54f1c81f15ebf50fd4fee",
            "e53ec4e8ee3d44bb8b3bdcf323335c8a",
            "ceef78fab0024c578976ad6c589c0d7f",
            "35a9027e670146f3a25db0d06035fd1b",
            "0cd65792216b4decaf24961bb33802d0",
            "968f456d45ab4f25aeaf57b0c0ddc190",
            "92ae2ab85efc40fa89da650ccbe85e21",
            "e1a34af59be04546808279b6e673c498",
            "91a9bd637428473192d5ec47ba137268",
            "f11e33bc060746758ad638204b71955c",
            "ef69985b8f7c4662912a11a377e99b59",
            "9721f00cdfc942e8ab8a4faf8080ef2d",
            "196c66080f944a61a537a0ddd9905248",
            "e7d54319900548208c3852623ebc3dcf",
            "adbd04cd03624b66a8c725f9a89647b6",
            "200b5fada23d45ff947953003d052605",
            "8c89f99cd7b9408eafbfbf8e0c56d39c",
            "a40561b6f013481ba77fa137ab43b1c2",
            "63ee5e2413434249bd47a8d662ec0da6",
            "d10215d60b9f471ab681a948ad143159",
            "bcb33e49c5ab412eb5b8cd823cf06706",
            "f23b78d30ff040f481b5584a83083b39",
            "fe39df4b5e9d41f6a0233bafb4522dd4",
            "6cac8e9fcefd4353a76244f89ff459e1",
            "4f70c2c356074adf9aa7c1fb6b20f8e3",
            "4cc884973b734098a135619736b5f599",
            "fd72ea27c82843ceb5fdb74886fc5b44",
            "28b1ff0d507e40fb84e4083537207de4",
            "bf2896c4b25147f0a303c748fa2b0cd9"
          ]
        },
        "id": "JYGQYBhHNsvj",
        "outputId": "c60381d7-a4ec-4cfe-ec0b-0b16af963c3d"
      },
      "source": [
        "trainer.push_to_hub()"
      ],
      "execution_count": null,
      "outputs": [
        {
          "output_type": "stream",
          "name": "stderr",
          "text": [
            "/content/wav2vec2-base-timit-demo-google-colab is already a clone of https://huggingface.co/patrickvonplaten/wav2vec2-base-timit-demo-google-colab. Make sure you pull the latest changes with `repo.git_pull()`.\n",
            "Saving model checkpoint to wav2vec2-base-timit-demo-google-colab\n",
            "Configuration saved in wav2vec2-base-timit-demo-google-colab/config.json\n",
            "Model weights saved in wav2vec2-base-timit-demo-google-colab/pytorch_model.bin\n",
            "Feature extractor saved in wav2vec2-base-timit-demo-google-colab/preprocessor_config.json\n"
          ]
        },
        {
          "output_type": "display_data",
          "data": {
            "text/plain": [
              "Upload file pytorch_model.bin:   0%|          | 3.34k/360M [00:00<?, ?B/s]"
            ],
            "application/vnd.jupyter.widget-view+json": {
              "version_major": 2,
              "version_minor": 0,
              "model_id": "a7725ad7a1774178bba1b39b48bee36b"
            }
          },
          "metadata": {}
        },
        {
          "output_type": "display_data",
          "data": {
            "text/plain": [
              "Upload file runs/May10_11-02-51_d58de38fbf77/1652180636.6085317/events.out.tfevents.1652180636.d58de38fbf77.96…"
            ],
            "application/vnd.jupyter.widget-view+json": {
              "version_major": 2,
              "version_minor": 0,
              "model_id": "00a02ff8b284413f853da9d7c41afedd"
            }
          },
          "metadata": {}
        },
        {
          "output_type": "display_data",
          "data": {
            "text/plain": [
              "Upload file training_args.bin: 100%|##########| 2.98k/2.98k [00:00<?, ?B/s]"
            ],
            "application/vnd.jupyter.widget-view+json": {
              "version_major": 2,
              "version_minor": 0,
              "model_id": "e1a34af59be04546808279b6e673c498"
            }
          },
          "metadata": {}
        },
        {
          "output_type": "display_data",
          "data": {
            "text/plain": [
              "Upload file runs/May10_11-02-51_d58de38fbf77/events.out.tfevents.1652180636.d58de38fbf77.96.2:  18%|#7        …"
            ],
            "application/vnd.jupyter.widget-view+json": {
              "version_major": 2,
              "version_minor": 0,
              "model_id": "63ee5e2413434249bd47a8d662ec0da6"
            }
          },
          "metadata": {}
        },
        {
          "output_type": "stream",
          "name": "stderr",
          "text": [
            "remote: Enforcing permissions...        \n",
            "remote: Allowed refs: all        \n",
            "To https://huggingface.co/patrickvonplaten/wav2vec2-base-timit-demo-google-colab\n",
            "   293755a..629f0ba  main -> main\n",
            "\n",
            "Dropping the following result as it does not have all the necessary fields:\n",
            "{}\n",
            "remote: Enforcing permissions...        \n",
            "remote: Allowed refs: all        \n",
            "To https://huggingface.co/patrickvonplaten/wav2vec2-base-timit-demo-google-colab\n",
            "   629f0ba..38b281e  main -> main\n",
            "\n"
          ]
        },
        {
          "output_type": "execute_result",
          "data": {
            "text/plain": [
              "'https://huggingface.co/patrickvonplaten/wav2vec2-base-timit-demo-google-colab/commit/629f0ba808bdecd2134e2d91110e86e4d7d7647c'"
            ],
            "application/vnd.google.colaboratory.intrinsic+json": {
              "type": "string"
            }
          },
          "metadata": {},
          "execution_count": 86
        }
      ]
    },
    {
      "cell_type": "markdown",
      "metadata": {
        "id": "djzwS5WeNu16"
      },
      "source": [
        "You can now share this model with all your friends, family, favorite pets: they can all load it with the identifier \"your-username/the-name-you-picked\" so for instance:"
      ]
    },
    {
      "cell_type": "markdown",
      "metadata": {
        "id": "Adm0LngNNxq7"
      },
      "source": [
        "```python\n",
        "from transformers import AutoModelForCTC, Wav2Vec2Processor\n",
        "\n",
        "model = AutoModelForCTC.from_pretrained(\"patrickvonplaten/wav2vec2-base-timit-demo-google-colab\")\n",
        "processor = Wav2Vec2Processor.from_pretrained(\"patrickvonplaten/wav2vec2-base-timit-demo-google-colab\")\n",
        "```"
      ]
    },
    {
      "cell_type": "markdown",
      "metadata": {
        "id": "nD4XP5IHncsY"
      },
      "source": [
        "### Evaluate\n",
        "\n",
        "In the final part, we run our model on some of the validation data to get a feeling for how well it works.\n",
        "\n",
        "Let's load the `processor` and `model`."
      ]
    },
    {
      "cell_type": "code",
      "metadata": {
        "id": "-rg0USDCnbo6",
        "colab": {
          "base_uri": "https://localhost:8080/",
          "height": 718,
          "referenced_widgets": [
            "524b5795780746f5966c06b878cc0fbc",
            "8eb41fee8e1c452a9d69a07a266d871a",
            "f22febfc3bbe48058be84b2a20e906f5",
            "ab51fefefa1b464a9a780b80c6f0c020",
            "88fd1cb973f8485b97caa19b7801c3d3",
            "3234edc4a75e4658acd19feef174e88f",
            "6bfe6219ad934146a4d680e38ed19879",
            "63e9fc689ea54fbfa7226cc9918977cb",
            "dc034b4bf9e34963ab79f391c55d44ac",
            "6b3288ffeef34c2a925d2554c7c4f521",
            "116e45bbe2d640d18d6a47309692dc20",
            "66d5a397b26e4d66a97bc3b3159e96bd",
            "041870fd5bac43b394956252364a16c4",
            "26f6574d99724fb29159071dda6039b5",
            "55d0bfd5c746402f89e6b86a7ca37b3a",
            "b69bad861f014c20b4cb470c73b1fe37",
            "940e030ce7ae40d68136ddf1a1a67736",
            "c80bdd3bae794c08b81c950a33ff9ba0",
            "7b0c8bc5bb66433384aeb47bf99001ae",
            "6b03d462bd0f4fbeab0df76bbb881621",
            "be78bdab8638431e80c087a0fe9a7a8f",
            "d44a1f0b3216469fb1ac597951f9471a",
            "a0e897961bb049438847879cf082adf3",
            "820ac3ce474346728b80a609d47848ee",
            "045273b88fa04afba97bf7ba6027f164",
            "4847949da7b64782895b4fca8b432ec8",
            "427b99cf8b964a59bbbf0b4d04504906",
            "f652ea3e007c42669e445a7247bb0430",
            "527bf8b3612b4da89479424c5b66681e",
            "708ff309676040119bccd6f21d1684f6",
            "6a8694b9181f4828ba3ef4ff828fd1c3",
            "90dbfe5bab604315b329a6a8fcf131b1",
            "b1a51bfb07774b7bac783d1c4d5a680c",
            "6ca0c9b3d250425b9597de9baa6bd77b",
            "b7d46c7f5da646eba0ed9e38fed6b4ee",
            "7291673613bb43848bec1abee7447078",
            "5c49d625a7f742f1a64820bc6f749f3a",
            "a6a5bcb980df41d1b3e7b581701eae16",
            "6412d390b2ce416fae910d689c3f6e70",
            "255c276a050446ed9df81f8eeb7c1178",
            "ddd975596c234b0eacc40ef18ef40778",
            "a5fd824b8eb64bb7b8d83354961927e6",
            "17e3d063396848548af91c55c8f8e282",
            "a3b48bc669674ff2a0bcce75a50e81eb"
          ]
        },
        "outputId": "ddfac637-7c6d-4df1-a07a-4f1278fff182"
      },
      "source": [
        "processor = Wav2Vec2Processor.from_pretrained(\"patrickvonplaten/wav2vec2-base-timit-demo-google-colab\")"
      ],
      "execution_count": null,
      "outputs": [
        {
          "output_type": "stream",
          "name": "stderr",
          "text": [
            "https://huggingface.co/patrickvonplaten/wav2vec2-base-timit-demo-google-colab/resolve/main/preprocessor_config.json not found in cache or force_download set to True, downloading to /root/.cache/huggingface/transformers/tmpjyd34ogd\n"
          ]
        },
        {
          "output_type": "display_data",
          "data": {
            "text/plain": [
              "Downloading:   0%|          | 0.00/215 [00:00<?, ?B/s]"
            ],
            "application/vnd.jupyter.widget-view+json": {
              "version_major": 2,
              "version_minor": 0,
              "model_id": "524b5795780746f5966c06b878cc0fbc"
            }
          },
          "metadata": {}
        },
        {
          "output_type": "stream",
          "name": "stderr",
          "text": [
            "storing https://huggingface.co/patrickvonplaten/wav2vec2-base-timit-demo-google-colab/resolve/main/preprocessor_config.json in cache at /root/.cache/huggingface/transformers/17fa07f6e2f88edf24c71037bed1b7cf0cf9acfef7d3353afb589689627542c1.0e3e6656f99a6f7b9eddd943463eb7f34363640fce9e87b047ebd50d4b112b50\n",
            "creating metadata file for /root/.cache/huggingface/transformers/17fa07f6e2f88edf24c71037bed1b7cf0cf9acfef7d3353afb589689627542c1.0e3e6656f99a6f7b9eddd943463eb7f34363640fce9e87b047ebd50d4b112b50\n",
            "loading feature extractor configuration file https://huggingface.co/patrickvonplaten/wav2vec2-base-timit-demo-google-colab/resolve/main/preprocessor_config.json from cache at /root/.cache/huggingface/transformers/17fa07f6e2f88edf24c71037bed1b7cf0cf9acfef7d3353afb589689627542c1.0e3e6656f99a6f7b9eddd943463eb7f34363640fce9e87b047ebd50d4b112b50\n",
            "Feature extractor Wav2Vec2FeatureExtractor {\n",
            "  \"do_normalize\": true,\n",
            "  \"feature_extractor_type\": \"Wav2Vec2FeatureExtractor\",\n",
            "  \"feature_size\": 1,\n",
            "  \"padding_side\": \"right\",\n",
            "  \"padding_value\": 0.0,\n",
            "  \"return_attention_mask\": false,\n",
            "  \"sampling_rate\": 16000\n",
            "}\n",
            "\n",
            "https://huggingface.co/patrickvonplaten/wav2vec2-base-timit-demo-google-colab/resolve/main/tokenizer_config.json not found in cache or force_download set to True, downloading to /root/.cache/huggingface/transformers/tmpcsym765z\n"
          ]
        },
        {
          "output_type": "display_data",
          "data": {
            "text/plain": [
              "Downloading:   0%|          | 0.00/217 [00:00<?, ?B/s]"
            ],
            "application/vnd.jupyter.widget-view+json": {
              "version_major": 2,
              "version_minor": 0,
              "model_id": "66d5a397b26e4d66a97bc3b3159e96bd"
            }
          },
          "metadata": {}
        },
        {
          "output_type": "stream",
          "name": "stderr",
          "text": [
            "storing https://huggingface.co/patrickvonplaten/wav2vec2-base-timit-demo-google-colab/resolve/main/tokenizer_config.json in cache at /root/.cache/huggingface/transformers/7bf2e07c1c7ed7e3d055d87aa6bd33c75e6883d98029ae3744fed6bea9e35095.59710b1a6a5501d31e746b6e464f5c44de3e55a58f80634196025936683a68a9\n",
            "creating metadata file for /root/.cache/huggingface/transformers/7bf2e07c1c7ed7e3d055d87aa6bd33c75e6883d98029ae3744fed6bea9e35095.59710b1a6a5501d31e746b6e464f5c44de3e55a58f80634196025936683a68a9\n",
            "https://huggingface.co/patrickvonplaten/wav2vec2-base-timit-demo-google-colab/resolve/main/vocab.json not found in cache or force_download set to True, downloading to /root/.cache/huggingface/transformers/tmpptj3is25\n"
          ]
        },
        {
          "output_type": "display_data",
          "data": {
            "text/plain": [
              "Downloading:   0%|          | 0.00/268 [00:00<?, ?B/s]"
            ],
            "application/vnd.jupyter.widget-view+json": {
              "version_major": 2,
              "version_minor": 0,
              "model_id": "a0e897961bb049438847879cf082adf3"
            }
          },
          "metadata": {}
        },
        {
          "output_type": "stream",
          "name": "stderr",
          "text": [
            "storing https://huggingface.co/patrickvonplaten/wav2vec2-base-timit-demo-google-colab/resolve/main/vocab.json in cache at /root/.cache/huggingface/transformers/f739813380b0880ba302557f0f990f0f64e8efe81fcc91a4fce08206a91ee215.c44a036121683e19f1a033a1765d4344364cb4633a6cbf5cf51b153f2388abb1\n",
            "creating metadata file for /root/.cache/huggingface/transformers/f739813380b0880ba302557f0f990f0f64e8efe81fcc91a4fce08206a91ee215.c44a036121683e19f1a033a1765d4344364cb4633a6cbf5cf51b153f2388abb1\n",
            "https://huggingface.co/patrickvonplaten/wav2vec2-base-timit-demo-google-colab/resolve/main/special_tokens_map.json not found in cache or force_download set to True, downloading to /root/.cache/huggingface/transformers/tmpckp9vkh1\n"
          ]
        },
        {
          "output_type": "display_data",
          "data": {
            "text/plain": [
              "Downloading:   0%|          | 0.00/85.0 [00:00<?, ?B/s]"
            ],
            "application/vnd.jupyter.widget-view+json": {
              "version_major": 2,
              "version_minor": 0,
              "model_id": "6ca0c9b3d250425b9597de9baa6bd77b"
            }
          },
          "metadata": {}
        },
        {
          "output_type": "stream",
          "name": "stderr",
          "text": [
            "storing https://huggingface.co/patrickvonplaten/wav2vec2-base-timit-demo-google-colab/resolve/main/special_tokens_map.json in cache at /root/.cache/huggingface/transformers/c239f3738252f8d8e83d9813ea82866aeec476c467a008db86229f4edc6490b0.a21d51735cf8667bcd610f057e88548d5d6a381401f6b4501a8bc6c1a9dc8498\n",
            "creating metadata file for /root/.cache/huggingface/transformers/c239f3738252f8d8e83d9813ea82866aeec476c467a008db86229f4edc6490b0.a21d51735cf8667bcd610f057e88548d5d6a381401f6b4501a8bc6c1a9dc8498\n",
            "loading file https://huggingface.co/patrickvonplaten/wav2vec2-base-timit-demo-google-colab/resolve/main/vocab.json from cache at /root/.cache/huggingface/transformers/f739813380b0880ba302557f0f990f0f64e8efe81fcc91a4fce08206a91ee215.c44a036121683e19f1a033a1765d4344364cb4633a6cbf5cf51b153f2388abb1\n",
            "loading file https://huggingface.co/patrickvonplaten/wav2vec2-base-timit-demo-google-colab/resolve/main/tokenizer_config.json from cache at /root/.cache/huggingface/transformers/7bf2e07c1c7ed7e3d055d87aa6bd33c75e6883d98029ae3744fed6bea9e35095.59710b1a6a5501d31e746b6e464f5c44de3e55a58f80634196025936683a68a9\n",
            "loading file https://huggingface.co/patrickvonplaten/wav2vec2-base-timit-demo-google-colab/resolve/main/added_tokens.json from cache at None\n",
            "loading file https://huggingface.co/patrickvonplaten/wav2vec2-base-timit-demo-google-colab/resolve/main/special_tokens_map.json from cache at /root/.cache/huggingface/transformers/c239f3738252f8d8e83d9813ea82866aeec476c467a008db86229f4edc6490b0.a21d51735cf8667bcd610f057e88548d5d6a381401f6b4501a8bc6c1a9dc8498\n",
            "Adding <s> to the vocabulary\n",
            "Adding </s> to the vocabulary\n",
            "Special tokens have been added in the vocabulary, make sure the associated word embeddings are fine-tuned or trained.\n"
          ]
        }
      ]
    },
    {
      "cell_type": "code",
      "metadata": {
        "id": "sSpFW3pDn23P",
        "colab": {
          "base_uri": "https://localhost:8080/"
        },
        "outputId": "dd9ac831-3620-4b87-98b6-c85a57150a15"
      },
      "source": [
        "model = Wav2Vec2ForCTC.from_pretrained(\"patrickvonplaten/wav2vec2-base-timit-demo-google-colab\").cuda()"
      ],
      "execution_count": null,
      "outputs": [
        {
          "output_type": "stream",
          "name": "stderr",
          "text": [
            "loading configuration file https://huggingface.co/patrickvonplaten/wav2vec2-base-timit-demo-google-colab/resolve/main/config.json from cache at /root/.cache/huggingface/transformers/7606a293c66b1cba6bb9a342dcffe3831dc19a120cfeeb9e57cdf6ffb9630f3f.3202909be16e9c482257d0c4d35b4f4c2558cea585027c729eed803ba4bf0d8e\n",
            "Model config Wav2Vec2Config {\n",
            "  \"_name_or_path\": \"facebook/wav2vec2-base\",\n",
            "  \"activation_dropout\": 0.0,\n",
            "  \"adapter_kernel_size\": 3,\n",
            "  \"adapter_stride\": 2,\n",
            "  \"add_adapter\": false,\n",
            "  \"apply_spec_augment\": true,\n",
            "  \"architectures\": [\n",
            "    \"Wav2Vec2ForCTC\"\n",
            "  ],\n",
            "  \"attention_dropout\": 0.1,\n",
            "  \"bos_token_id\": 1,\n",
            "  \"classifier_proj_size\": 256,\n",
            "  \"codevector_dim\": 256,\n",
            "  \"contrastive_logits_temperature\": 0.1,\n",
            "  \"conv_bias\": false,\n",
            "  \"conv_dim\": [\n",
            "    512,\n",
            "    512,\n",
            "    512,\n",
            "    512,\n",
            "    512,\n",
            "    512,\n",
            "    512\n",
            "  ],\n",
            "  \"conv_kernel\": [\n",
            "    10,\n",
            "    3,\n",
            "    3,\n",
            "    3,\n",
            "    3,\n",
            "    2,\n",
            "    2\n",
            "  ],\n",
            "  \"conv_stride\": [\n",
            "    5,\n",
            "    2,\n",
            "    2,\n",
            "    2,\n",
            "    2,\n",
            "    2,\n",
            "    2\n",
            "  ],\n",
            "  \"ctc_loss_reduction\": \"mean\",\n",
            "  \"ctc_zero_infinity\": false,\n",
            "  \"diversity_loss_weight\": 0.1,\n",
            "  \"do_stable_layer_norm\": false,\n",
            "  \"eos_token_id\": 2,\n",
            "  \"feat_extract_activation\": \"gelu\",\n",
            "  \"feat_extract_norm\": \"group\",\n",
            "  \"feat_proj_dropout\": 0.1,\n",
            "  \"feat_quantizer_dropout\": 0.0,\n",
            "  \"final_dropout\": 0.0,\n",
            "  \"freeze_feat_extract_train\": true,\n",
            "  \"hidden_act\": \"gelu\",\n",
            "  \"hidden_dropout\": 0.1,\n",
            "  \"hidden_size\": 768,\n",
            "  \"initializer_range\": 0.02,\n",
            "  \"intermediate_size\": 3072,\n",
            "  \"layer_norm_eps\": 1e-05,\n",
            "  \"layerdrop\": 0.0,\n",
            "  \"mask_channel_length\": 10,\n",
            "  \"mask_channel_min_space\": 1,\n",
            "  \"mask_channel_other\": 0.0,\n",
            "  \"mask_channel_prob\": 0.0,\n",
            "  \"mask_channel_selection\": \"static\",\n",
            "  \"mask_feature_length\": 10,\n",
            "  \"mask_feature_min_masks\": 0,\n",
            "  \"mask_feature_prob\": 0.0,\n",
            "  \"mask_time_length\": 10,\n",
            "  \"mask_time_min_masks\": 2,\n",
            "  \"mask_time_min_space\": 1,\n",
            "  \"mask_time_other\": 0.0,\n",
            "  \"mask_time_prob\": 0.05,\n",
            "  \"mask_time_selection\": \"static\",\n",
            "  \"model_type\": \"wav2vec2\",\n",
            "  \"no_mask_channel_overlap\": false,\n",
            "  \"no_mask_time_overlap\": false,\n",
            "  \"num_adapter_layers\": 3,\n",
            "  \"num_attention_heads\": 12,\n",
            "  \"num_codevector_groups\": 2,\n",
            "  \"num_codevectors_per_group\": 320,\n",
            "  \"num_conv_pos_embedding_groups\": 16,\n",
            "  \"num_conv_pos_embeddings\": 128,\n",
            "  \"num_feat_extract_layers\": 7,\n",
            "  \"num_hidden_layers\": 12,\n",
            "  \"num_negatives\": 100,\n",
            "  \"output_hidden_size\": 768,\n",
            "  \"pad_token_id\": 29,\n",
            "  \"proj_codevector_dim\": 256,\n",
            "  \"tdnn_dilation\": [\n",
            "    1,\n",
            "    2,\n",
            "    3,\n",
            "    1,\n",
            "    1\n",
            "  ],\n",
            "  \"tdnn_dim\": [\n",
            "    512,\n",
            "    512,\n",
            "    512,\n",
            "    512,\n",
            "    1500\n",
            "  ],\n",
            "  \"tdnn_kernel\": [\n",
            "    5,\n",
            "    3,\n",
            "    3,\n",
            "    1,\n",
            "    1\n",
            "  ],\n",
            "  \"torch_dtype\": \"float32\",\n",
            "  \"transformers_version\": \"4.17.0\",\n",
            "  \"use_weighted_layer_sum\": false,\n",
            "  \"vocab_size\": 32,\n",
            "  \"xvector_output_dim\": 512\n",
            "}\n",
            "\n",
            "loading weights file https://huggingface.co/patrickvonplaten/wav2vec2-base-timit-demo-google-colab/resolve/main/pytorch_model.bin from cache at /root/.cache/huggingface/transformers/666767bce47a87d50dfd1ceac759d5dc9db6eac8d185ae8f9a7dd388687c28c5.20bdf845b9896c1d0a213f03187b544f2a12b23d751b88c7b49a95d00bd946e1\n",
            "All model checkpoint weights were used when initializing Wav2Vec2ForCTC.\n",
            "\n",
            "All the weights of Wav2Vec2ForCTC were initialized from the model checkpoint at patrickvonplaten/wav2vec2-base-timit-demo-google-colab.\n",
            "If your task is similar to the task the model of the checkpoint was trained on, you can already use Wav2Vec2ForCTC for predictions without further training.\n"
          ]
        }
      ]
    },
    {
      "cell_type": "markdown",
      "metadata": {
        "id": "TUuZpB0v5jn_"
      },
      "source": [
        "Now, we will make use of the `map(...)` function to predict the transcription of every test sample and to save the prediction in the dataset itself. We will call the resulting dictionary `\"results\"`. \n",
        "\n",
        "**Note**: we evaluate the test data set with `batch_size=1` on purpose due to this [issue](https://github.com/pytorch/fairseq/issues/3227). Since padded inputs don't yield the exact same output as non-padded inputs, a better WER can be achieved by not padding the input at all."
      ]
    },
    {
      "cell_type": "code",
      "metadata": {
        "id": "40naJl53n7jT"
      },
      "source": [
        "def map_to_result(batch):\n",
        "  with torch.no_grad():\n",
        "    input_values = torch.tensor(batch[\"input_values\"], device=\"cuda\").unsqueeze(0)\n",
        "    logits = model(input_values).logits\n",
        "\n",
        "  pred_ids = torch.argmax(logits, dim=-1)\n",
        "  batch[\"pred_str\"] = processor.batch_decode(pred_ids)[0]\n",
        "  batch[\"text\"] = processor.decode(batch[\"labels\"], group_tokens=False)\n",
        "  \n",
        "  return batch"
      ],
      "execution_count": null,
      "outputs": []
    },
    {
      "cell_type": "code",
      "metadata": {
        "id": "uPqH7gZqrGPi",
        "colab": {
          "base_uri": "https://localhost:8080/",
          "height": 48,
          "referenced_widgets": [
            "8fbdb230253a4152be95bf6229049f09",
            "857f0c099d8549e98991a93c791db4c1",
            "16561789e2b9417a80ddcb6ef9d8676a",
            "050c9d6bfd1e4b6ebe67401183a8d397",
            "5874591082f944ff9b32202a1edbfd60",
            "8c968b160d3d4fbb998840734f9f07e4",
            "d2fd7c9e56b1419f9d23a10c260a7c7d",
            "4a03fb6d945f4102bc4f7192195d810d",
            "8ab2466b187047fbbe4d8b72455b1108",
            "89472d79793e4db9afa6845fb016c8ad",
            "f5e79b8c3a634eae8a555f18b9dc9bd6"
          ]
        },
        "outputId": "1eb633f5-c487-4cd1-8be6-aac4af385a2e"
      },
      "source": [
        "results = timit[\"test\"].map(map_to_result, remove_columns=timit[\"test\"].column_names)"
      ],
      "execution_count": null,
      "outputs": [
        {
          "output_type": "display_data",
          "data": {
            "text/plain": [
              "0ex [00:00, ?ex/s]"
            ],
            "application/vnd.jupyter.widget-view+json": {
              "version_major": 2,
              "version_minor": 0,
              "model_id": "8fbdb230253a4152be95bf6229049f09"
            }
          },
          "metadata": {}
        }
      ]
    },
    {
      "cell_type": "markdown",
      "metadata": {
        "id": "-mqpdB8R6rty"
      },
      "source": [
        "Let's compute the overall WER now."
      ]
    },
    {
      "cell_type": "code",
      "metadata": {
        "id": "PmqAb4Isx8OK",
        "colab": {
          "base_uri": "https://localhost:8080/"
        },
        "outputId": "d70180e0-77e4-458b-daff-61df307f500c"
      },
      "source": [
        "print(\"Test WER: {:.3f}\".format(wer_metric.compute(predictions=results[\"pred_str\"], references=results[\"text\"])))"
      ],
      "execution_count": null,
      "outputs": [
        {
          "output_type": "stream",
          "name": "stdout",
          "text": [
            "Test WER: 0.218\n"
          ]
        }
      ]
    },
    {
      "cell_type": "markdown",
      "metadata": {
        "id": "6Va94d8Y7Q98"
      },
      "source": [
        "21.8% WER - not bad! Our demo model would have probably made it on the official [leaderboard](https://paperswithcode.com/sota/speech-recognition-on-timit).\n",
        "\n",
        "Let's take a look at some predictions to see what errors are made by the model."
      ]
    },
    {
      "cell_type": "code",
      "metadata": {
        "id": "odNDiFVRy53w",
        "colab": {
          "base_uri": "https://localhost:8080/",
          "height": 363
        },
        "outputId": "cb787bc7-5346-449e-e314-202df442185a"
      },
      "source": [
        "show_random_elements(results)"
      ],
      "execution_count": null,
      "outputs": [
        {
          "output_type": "display_data",
          "data": {
            "text/plain": [
              "<IPython.core.display.HTML object>"
            ],
            "text/html": [
              "<table border=\"1\" class=\"dataframe\">\n",
              "  <thead>\n",
              "    <tr style=\"text-align: right;\">\n",
              "      <th></th>\n",
              "      <th>pred_str</th>\n",
              "      <th>text</th>\n",
              "    </tr>\n",
              "  </thead>\n",
              "  <tbody>\n",
              "    <tr>\n",
              "      <th>0</th>\n",
              "      <td>aim to balenge your employ you benefits package</td>\n",
              "      <td>aim to balance your employee benefit package</td>\n",
              "    </tr>\n",
              "    <tr>\n",
              "      <th>1</th>\n",
              "      <td>the fog prevented them from ariving on tom</td>\n",
              "      <td>the fog prevented them from arriving on time</td>\n",
              "    </tr>\n",
              "    <tr>\n",
              "      <th>2</th>\n",
              "      <td>young children should avoid exposure to contageous diseases</td>\n",
              "      <td>young children should avoid exposure to contagious diseases</td>\n",
              "    </tr>\n",
              "    <tr>\n",
              "      <th>3</th>\n",
              "      <td>art official intelligence is for real</td>\n",
              "      <td>artificial intelligence is for real</td>\n",
              "    </tr>\n",
              "    <tr>\n",
              "      <th>4</th>\n",
              "      <td>theire propes were two step latters a chair and a pame fen</td>\n",
              "      <td>their props were two stepladders a chair and a palm fan</td>\n",
              "    </tr>\n",
              "    <tr>\n",
              "      <th>5</th>\n",
              "      <td>if people were more generous there would be no need for wealfar</td>\n",
              "      <td>if people were more generous there would be no need for welfare</td>\n",
              "    </tr>\n",
              "    <tr>\n",
              "      <th>6</th>\n",
              "      <td>the fish began to leep frantically on the surface of the smalleaku</td>\n",
              "      <td>the fish began to leap frantically on the surface of the small lake</td>\n",
              "    </tr>\n",
              "    <tr>\n",
              "      <th>7</th>\n",
              "      <td>her rite hand aques whenever the baramatric presuer changes</td>\n",
              "      <td>her right hand aches whenever the barometric pressure changes</td>\n",
              "    </tr>\n",
              "    <tr>\n",
              "      <th>8</th>\n",
              "      <td>only lawyers loved milunears</td>\n",
              "      <td>only lawyers love millionaires</td>\n",
              "    </tr>\n",
              "    <tr>\n",
              "      <th>9</th>\n",
              "      <td>the nearest synnegu may not be within walk in distance</td>\n",
              "      <td>the nearest synagogue may not be within walking distance</td>\n",
              "    </tr>\n",
              "  </tbody>\n",
              "</table>"
            ]
          },
          "metadata": {}
        }
      ]
    },
    {
      "cell_type": "markdown",
      "metadata": {
        "id": "5HFCujhd9n4N"
      },
      "source": [
        "It becomes clear that the predicted transcriptions are acoustically very similar to the target transcriptions, but often contain spelling or grammatical errors. This shouldn't be very surprising though given that we purely rely on Wav2Vec2 without making use of a language model."
      ]
    },
    {
      "cell_type": "markdown",
      "metadata": {
        "id": "a3ydKvUl9FTK"
      },
      "source": [
        "Finally, to better understand how CTC works, it is worth taking a deeper look at the exact output of the model. Let's run the first test sample through the model, take the predicted ids and convert them to their corresponding tokens."
      ]
    },
    {
      "cell_type": "code",
      "metadata": {
        "id": "AqaM45t87uM4",
        "colab": {
          "base_uri": "https://localhost:8080/",
          "height": 73
        },
        "outputId": "2d181121-2184-48dc-a337-bb33194fd68b"
      },
      "source": [
        "model.to(\"cuda\")\n",
        "\n",
        "with torch.no_grad():\n",
        "  logits = model(torch.tensor(timit[\"test\"][:1][\"input_values\"], device=\"cuda\")).logits\n",
        "\n",
        "pred_ids = torch.argmax(logits, dim=-1)\n",
        "\n",
        "# convert ids to tokens\n",
        "\" \".join(processor.tokenizer.convert_ids_to_tokens(pred_ids[0].tolist()))"
      ],
      "execution_count": null,
      "outputs": [
        {
          "output_type": "execute_result",
          "data": {
            "text/plain": [
              "'[PAD] [PAD] [PAD] [PAD] [PAD] t t h h e | | | b [PAD] [PAD] [PAD] u u n n g g [PAD] [PAD] l l l l [PAD] o o o | | w w a a s s | | [PAD] [PAD] [PAD] p l l [PAD] e s s s s [PAD] n n t t [PAD] l l l y y | | [PAD] s s s i i t t t [PAD] u u u u u [PAD] [PAD] [PAD] [PAD] a a t t [PAD] e e d d | | [PAD] n n e e a a r | | t t h e e | | s s h h [PAD] [PAD] [PAD] [PAD] o o r r r r | [PAD] [PAD] [PAD] [PAD] [PAD] [PAD] [PAD] [PAD] [PAD]'"
            ],
            "application/vnd.google.colaboratory.intrinsic+json": {
              "type": "string"
            }
          },
          "metadata": {},
          "execution_count": 98
        }
      ]
    },
    {
      "cell_type": "markdown",
      "metadata": {
        "id": "tdO8E28g-n5C"
      },
      "source": [
        "The output should make it a bit clearer how CTC works in practice. The model is to some extent invariant to speaking rate since it has learned to either just repeat the same token in case the speech chunk to be classified still corresponds to the same token. This makes CTC a very powerful algorithm for speech recognition since the speech file's transcription is often very much independent of its length.\n",
        "\n",
        "I again advise the reader to take a look at [this](https://distill.pub/2017/ctc) very nice blog post to better understand CTC."
      ]
    }
  ]
}